{
 "cells": [
  {
   "cell_type": "markdown",
   "metadata": {},
   "source": [
    "# DATA PROXIMITY\n",
    "Important Notes:\n",
    "* Proximity always works with <b>min. 2 points</b>.\n",
    "* <b>One list[dimension-1, dimension-2, ..., dimension-n]</b> represents <b>one point</b> and its elements represent dimension in Cartesius Coordinate."
   ]
  },
  {
   "cell_type": "code",
   "execution_count": 1,
   "metadata": {},
   "outputs": [],
   "source": [
    "import scipy.spatial.distance as ssd\n",
    "# Documentation: https://docs.scipy.org/doc/scipy/reference/spatial.distance.html"
   ]
  },
  {
   "cell_type": "markdown",
   "metadata": {},
   "source": [
    "## Quantitative (Numeric) Attributes Proximity"
   ]
  },
  {
   "cell_type": "code",
   "execution_count": 2,
   "metadata": {},
   "outputs": [],
   "source": [
    "# 3-Dimensional Space (n=3)\n",
    "alpha_point = [1, 0, 1]\n",
    "beta_point = [1, 1, 0]"
   ]
  },
  {
   "cell_type": "markdown",
   "metadata": {},
   "source": [
    "### 1-D Arrays (between 2 points)"
   ]
  },
  {
   "cell_type": "code",
   "execution_count": 3,
   "metadata": {},
   "outputs": [
    {
     "name": "stdout",
     "output_type": "stream",
     "text": [
      "Cosine Distance/Similarity: 0.5\n",
      "Minkowski Distance: 1.41421\n",
      "Manhattan/Cityblock Distance: 2\n",
      "Chebyshev/Supremum Distance: 1\n",
      "Canberra Distance: 2.0\n",
      "Correlation Distance: 1.5\n",
      "Euclidean Distance: 1.41421\n",
      "Squared Euclidean Distance: 2.0\n",
      "Jensen-Shannon Distance/Metric: 0.58871\n"
     ]
    }
   ],
   "source": [
    "print(\"Cosine Distance/Similarity:\", round(ssd.cosine(alpha_point, beta_point), 5))\n",
    "print(\"Minkowski Distance:\", round(ssd.minkowski(alpha_point, beta_point), 5))\n",
    "print(\"Manhattan/Cityblock Distance:\", round(ssd.cityblock(alpha_point, beta_point), 5))\n",
    "print(\"Chebyshev/Supremum Distance:\", round(ssd.chebyshev(alpha_point, beta_point), 5))\n",
    "print(\"Canberra Distance:\", round(ssd.canberra(alpha_point, beta_point), 5))\n",
    "print(\"Correlation Distance:\", round(ssd.correlation(alpha_point, beta_point), 5))\n",
    "print(\"Euclidean Distance:\", round(ssd.euclidean(alpha_point, beta_point), 5))\n",
    "print(\"Squared Euclidean Distance:\", round(ssd.sqeuclidean(alpha_point, beta_point), 5))\n",
    "print(\"Jensen-Shannon Distance/Metric:\", round(ssd.jensenshannon(alpha_point, beta_point), 5))"
   ]
  },
  {
   "cell_type": "markdown",
   "metadata": {},
   "source": [
    "### 2-D Arrays (between 2 line segments*)\n",
    "<i>*<b>Line segment</b> is a line bounded between two distinct end points.</i>"
   ]
  },
  {
   "cell_type": "code",
   "execution_count": 4,
   "metadata": {},
   "outputs": [],
   "source": [
    "# 2-Dimensional Space (n=2)\n",
    "first_line = [[2, 5], [6, 0]]\n",
    "second_line = [[1, 3], [3, 4]]"
   ]
  },
  {
   "cell_type": "code",
   "execution_count": 5,
   "metadata": {},
   "outputs": [
    {
     "name": "stdout",
     "output_type": "stream",
     "text": [
      "Cosine Distance/Similarity:\n",
      " [[0.00172563 0.03438424]\n",
      " [0.68377223 0.4       ]] \n",
      "\n",
      "Minkowski Distance:\n",
      " [[2.23606798 1.41421356]\n",
      " [5.83095189 5.        ]] \n",
      "\n",
      "Manhattan/Cityblock Distance:\n",
      " [[3. 2.]\n",
      " [8. 7.]] \n",
      "\n",
      "Chebyshev/Supremum Distance:\n",
      " [[2. 1.]\n",
      " [5. 4.]] \n",
      "\n",
      "Canberra Distance:\n",
      " [[0.58333333 0.31111111]\n",
      " [1.71428571 1.33333333]] \n",
      "\n",
      "Correlation Distance:\n",
      " [[0. 0.]\n",
      " [2. 2.]] \n",
      "\n",
      "Euclidean Distance:\n",
      " [[2.23606798 1.41421356]\n",
      " [5.83095189 5.        ]] \n",
      "\n",
      "Squared Euclidean Distance:\n",
      " [[ 5.  2.]\n",
      " [34. 25.]] \n",
      "\n",
      "Jensen-Shannon Distance/Metric:\n",
      " [[0.02852142 0.10567741]\n",
      " [0.61676224 0.50676971]] \n",
      "\n"
     ]
    }
   ],
   "source": [
    "print(\"Cosine Distance/Similarity:\\n\", ssd.cdist(first_line, second_line, 'cosine'), \"\\n\")\n",
    "print(\"Minkowski Distance:\\n\", ssd.cdist(first_line, second_line, 'minkowski'), \"\\n\")\n",
    "print(\"Manhattan/Cityblock Distance:\\n\", ssd.cdist(first_line, second_line, 'cityblock'), \"\\n\")\n",
    "print(\"Chebyshev/Supremum Distance:\\n\", ssd.cdist(first_line, second_line, 'chebyshev'), \"\\n\")\n",
    "print(\"Canberra Distance:\\n\", ssd.cdist(first_line, second_line, 'canberra'), \"\\n\")\n",
    "print(\"Correlation Distance:\\n\", ssd.cdist(first_line, second_line, 'correlation'), \"\\n\")\n",
    "print(\"Euclidean Distance:\\n\", ssd.cdist(first_line, second_line, 'euclidean'), \"\\n\")\n",
    "print(\"Squared Euclidean Distance:\\n\", ssd.cdist(first_line, second_line, 'sqeuclidean'), \"\\n\")\n",
    "print(\"Jensen-Shannon Distance/Metric:\\n\", ssd.cdist(first_line, second_line, 'jensenshannon'), \"\\n\")"
   ]
  },
  {
   "cell_type": "markdown",
   "metadata": {},
   "source": [
    "### n-D Arrays (between many points)\n",
    "Using .pdist() will return an array with size of (n(n+1))/2, where n starts from 0 (in this proximity case, min. n > 1 because it represents min. 2 points).<br>\n",
    "For example,\n",
    "* with two points [..],[..] (n = 1), it'll return array with size of 1\n",
    "* with three points [..],[..],[..] (n = 2), it'll return array with size of 3\n",
    "* with four points [..],[..],[..],[..] (n = 3), it'll return array with size of 6\n",
    "* with five points [..],[..],[..],[..],[..] (n = 4), it'll return array with size of 10"
   ]
  },
  {
   "cell_type": "code",
   "execution_count": 6,
   "metadata": {},
   "outputs": [
    {
     "data": {
      "text/plain": [
       "array([4.24264069, 0.        , 4.24264069, 0.        , 4.24264069,\n",
       "       4.24264069, 0.        , 4.24264069, 0.        , 4.24264069,\n",
       "       0.        , 4.24264069, 4.24264069, 0.        , 4.24264069])"
      ]
     },
     "execution_count": 6,
     "metadata": {},
     "output_type": "execute_result"
    }
   ],
   "source": [
    "ssd.pdist([[1, 2, 5], [0, 3, 1], [1, 2, 5], [0, 3, 1], [1, 2, 5], [0, 3, 1]],'euclidean')"
   ]
  }
 ],
 "metadata": {
  "kernelspec": {
   "display_name": "Python 3",
   "language": "python",
   "name": "python3"
  },
  "language_info": {
   "codemirror_mode": {
    "name": "ipython",
    "version": 3
   },
   "file_extension": ".py",
   "mimetype": "text/x-python",
   "name": "python",
   "nbconvert_exporter": "python",
   "pygments_lexer": "ipython3",
   "version": "3.7.1"
  }
 },
 "nbformat": 4,
 "nbformat_minor": 2
}
