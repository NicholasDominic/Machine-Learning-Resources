{
 "cells": [
  {
   "cell_type": "markdown",
   "metadata": {},
   "source": [
    "# STATISTICS"
   ]
  },
  {
   "cell_type": "code",
   "execution_count": 1,
   "metadata": {},
   "outputs": [],
   "source": [
    "import statistics as st\n",
    "var = [2, 4, 4, 4, 5, 5, 7, 9]"
   ]
  },
  {
   "cell_type": "markdown",
   "metadata": {},
   "source": [
    "### (1) The Central Tendencies\n",
    "Pythogorean Means (arithmetic+harmonic), Mode, Median"
   ]
  },
  {
   "cell_type": "code",
   "execution_count": 2,
   "metadata": {},
   "outputs": [
    {
     "data": {
      "text/plain": [
       "5"
      ]
     },
     "execution_count": 2,
     "metadata": {},
     "output_type": "execute_result"
    }
   ],
   "source": [
    "st.mean(var)"
   ]
  },
  {
   "cell_type": "code",
   "execution_count": 3,
   "metadata": {},
   "outputs": [
    {
     "data": {
      "text/plain": [
       "4.2018"
      ]
     },
     "execution_count": 3,
     "metadata": {},
     "output_type": "execute_result"
    }
   ],
   "source": [
    "round(st.harmonic_mean(var), 4)"
   ]
  },
  {
   "cell_type": "code",
   "execution_count": 4,
   "metadata": {},
   "outputs": [
    {
     "data": {
      "text/plain": [
       "4"
      ]
     },
     "execution_count": 4,
     "metadata": {},
     "output_type": "execute_result"
    }
   ],
   "source": [
    "st.mode(var)"
   ]
  },
  {
   "cell_type": "code",
   "execution_count": 5,
   "metadata": {},
   "outputs": [
    {
     "data": {
      "text/plain": [
       "4"
      ]
     },
     "execution_count": 5,
     "metadata": {},
     "output_type": "execute_result"
    }
   ],
   "source": [
    "st.median_low(var)"
   ]
  },
  {
   "cell_type": "code",
   "execution_count": 6,
   "metadata": {},
   "outputs": [
    {
     "data": {
      "text/plain": [
       "4.5"
      ]
     },
     "execution_count": 6,
     "metadata": {},
     "output_type": "execute_result"
    }
   ],
   "source": [
    "st.median(var)"
   ]
  },
  {
   "cell_type": "code",
   "execution_count": 7,
   "metadata": {},
   "outputs": [
    {
     "data": {
      "text/plain": [
       "5"
      ]
     },
     "execution_count": 7,
     "metadata": {},
     "output_type": "execute_result"
    }
   ],
   "source": [
    "st.median_high(var)"
   ]
  },
  {
   "cell_type": "code",
   "execution_count": 8,
   "metadata": {},
   "outputs": [],
   "source": [
    "import numpy as np"
   ]
  },
  {
   "cell_type": "code",
   "execution_count": 9,
   "metadata": {},
   "outputs": [
    {
     "data": {
      "text/plain": [
       "4.0"
      ]
     },
     "execution_count": 9,
     "metadata": {},
     "output_type": "execute_result"
    }
   ],
   "source": [
    "np.percentile(var, 25)"
   ]
  },
  {
   "cell_type": "code",
   "execution_count": 10,
   "metadata": {},
   "outputs": [
    {
     "data": {
      "text/plain": [
       "4.5"
      ]
     },
     "execution_count": 10,
     "metadata": {},
     "output_type": "execute_result"
    }
   ],
   "source": [
    "np.percentile(var, 50)"
   ]
  },
  {
   "cell_type": "markdown",
   "metadata": {},
   "source": [
    "### (2) The Dispersion of Data"
   ]
  },
  {
   "cell_type": "markdown",
   "metadata": {},
   "source": [
    "**VARIANCE and STANDARD DEVIATION**\n",
    "* **How far the data spread out?**\n",
    "<br>The **greater** the standard deviation, the **more heterogeneous / varied** the data.\n",
    "<br>The **smaller** the standard deviation, the **more homogeneous / similar** the data."
   ]
  },
  {
   "cell_type": "code",
   "execution_count": 11,
   "metadata": {},
   "outputs": [
    {
     "data": {
      "text/plain": [
       "4.571428571428571"
      ]
     },
     "execution_count": 11,
     "metadata": {},
     "output_type": "execute_result"
    }
   ],
   "source": [
    "st.variance(var)"
   ]
  },
  {
   "cell_type": "code",
   "execution_count": 12,
   "metadata": {},
   "outputs": [
    {
     "data": {
      "text/plain": [
       "2.138089935299395"
      ]
     },
     "execution_count": 12,
     "metadata": {},
     "output_type": "execute_result"
    }
   ],
   "source": [
    "st.stdev(var)"
   ]
  },
  {
   "cell_type": "markdown",
   "metadata": {},
   "source": [
    "To use <b>.var()</b> for getting Variance and <b>.std()</b> for Standard Deviation, by default ddof = 0.<br>\n",
    "Try to change <b>ddof = 1</b> as standard statistical practice. ('ddof' stands for ' <i>Delta Degrees of Freedom</i> ')"
   ]
  },
  {
   "cell_type": "code",
   "execution_count": 13,
   "metadata": {},
   "outputs": [
    {
     "data": {
      "text/plain": [
       "4.571428571428571"
      ]
     },
     "execution_count": 13,
     "metadata": {},
     "output_type": "execute_result"
    }
   ],
   "source": [
    "np.var(var, ddof=1)"
   ]
  },
  {
   "cell_type": "code",
   "execution_count": 14,
   "metadata": {},
   "outputs": [
    {
     "data": {
      "text/plain": [
       "2.138089935299395"
      ]
     },
     "execution_count": 14,
     "metadata": {},
     "output_type": "execute_result"
    }
   ],
   "source": [
    "np.std(var, ddof=1)"
   ]
  },
  {
   "cell_type": "markdown",
   "metadata": {},
   "source": [
    "**COVARIANCE and CORRELATION COEFFICIENT**\n",
    "* **How linearly related are one variable to another?**\n",
    "<br>If .corrcoef(x, y) == 0, then variables are <b>uncorrelated</b>.<br>\n",
    "If .corrcoef(x, y) > 0, then variables are <b>positively correlated</b> (directly proportional).<br>\n",
    "If .corrcoef(x, y) < 0, then variables are <b>negatively correlated</b> (inversely proportional)."
   ]
  },
  {
   "cell_type": "code",
   "execution_count": 15,
   "metadata": {},
   "outputs": [],
   "source": [
    "x = var\n",
    "y = [10, 13, 15, 14, 13, 16, 18, 21]"
   ]
  },
  {
   "cell_type": "markdown",
   "metadata": {},
   "source": [
    "Unlike .std() and .var(), this <b>.cov()</b> has default <b>ddof = 1</b>.<br>"
   ]
  },
  {
   "cell_type": "code",
   "execution_count": 16,
   "metadata": {},
   "outputs": [
    {
     "data": {
      "text/plain": [
       "array([[ 4.57142857,  6.85714286],\n",
       "       [ 6.85714286, 11.42857143]])"
      ]
     },
     "execution_count": 16,
     "metadata": {},
     "output_type": "execute_result"
    }
   ],
   "source": [
    "np.cov(x, y)"
   ]
  },
  {
   "cell_type": "markdown",
   "metadata": {},
   "source": [
    "<b>COVARIANCE with 3D</b><br>\n",
    "Use <b>.cov()</b>, but make sure all variables are on the <b>same shape</b> (check with <b>np.shape()</b>)."
   ]
  },
  {
   "cell_type": "code",
   "execution_count": 17,
   "metadata": {},
   "outputs": [
    {
     "data": {
      "text/plain": [
       "array([[ 4.57142857,  6.85714286, -3.85714286],\n",
       "       [ 6.85714286, 11.42857143, -2.28571429],\n",
       "       [-3.85714286, -2.28571429, 34.57142857]])"
      ]
     },
     "execution_count": 17,
     "metadata": {},
     "output_type": "execute_result"
    }
   ],
   "source": [
    "np.cov(np.array([x, y, [13, 3, 22, 15, 9, 10, 14, 6]]))"
   ]
  },
  {
   "cell_type": "markdown",
   "metadata": {},
   "source": [
    "<b>CORRELATION*: Normalization of Covariance</b><br>\n",
    "Use <b>.corrcoef</b>, '<i>correlaton coefficient'. Its value range is between <b>-1</b> and <b>+1</b>.<br>\n",
    "    *<i>also known as Product Moment Correlation Coefficient (PMCC) or Bivariant Correlation</i>"
   ]
  },
  {
   "cell_type": "code",
   "execution_count": 18,
   "metadata": {},
   "outputs": [
    {
     "data": {
      "text/plain": [
       "array([[1.       , 0.9486833],\n",
       "       [0.9486833, 1.       ]])"
      ]
     },
     "execution_count": 18,
     "metadata": {},
     "output_type": "execute_result"
    }
   ],
   "source": [
    "np.corrcoef(x, y)"
   ]
  },
  {
   "cell_type": "markdown",
   "metadata": {},
   "source": [
    "### (3) The Visualization of Data"
   ]
  },
  {
   "cell_type": "markdown",
   "metadata": {},
   "source": [
    "<b>(3.1) SCATTER PLOT</b><br>\n",
    "Marker for <b>plt.scatter()</b>: https://matplotlib.org/api/markers_api.html<br>\n",
    "Loc for <b>plt.legend()</b>: https://matplotlib.org/3.1.1/api/_as_gen/matplotlib.pyplot.legend.html<br>\n",
    "Format for <b>plt.plot()</b>: https://matplotlib.org/3.2.1/api/_as_gen/matplotlib.pyplot.plot.html"
   ]
  },
  {
   "cell_type": "code",
   "execution_count": 19,
   "metadata": {},
   "outputs": [
    {
     "data": {
      "text/plain": [
       "<Figure size 640x480 with 1 Axes>"
      ]
     },
     "metadata": {},
     "output_type": "display_data"
    }
   ],
   "source": [
    "import matplotlib.pyplot as plt\n",
    "x_axis = [1, 2, 3, 4, 5, 6, 7, 8]\n",
    "plt.plot(x, y, 'xg--')\n",
    "plt.scatter(x_axis, x, color='r', marker='D')\n",
    "plt.scatter(x_axis, y, color='b', marker='*')\n",
    "plt.title(\"Correlation between x and y\")\n",
    "plt.xlabel(\"Range\")\n",
    "plt.ylabel(\"Value\")\n",
    "plt.legend((x, y), loc=0)\n",
    "plt.show()"
   ]
  },
  {
   "cell_type": "markdown",
   "metadata": {},
   "source": [
    "From graph above we can conclude that x and y have <b>strong correlation</b> (directly proportional, shown in <b><font color=\"green\">green dashed-line</font></b>). It's prove by .coercoff() that all values approach to +1."
   ]
  },
  {
   "cell_type": "markdown",
   "metadata": {},
   "source": [
    "<b>(3.2) PROBABILITY PLOT</b><br>"
   ]
  },
  {
   "cell_type": "code",
   "execution_count": 20,
   "metadata": {},
   "outputs": [
    {
     "data": {
      "image/png": "[encoded data removed]",
      "text/plain": [
       "<Figure size 432x288 with 1 Axes>"
      ]
     },
     "metadata": {
      "needs_background": "light"
     },
     "output_type": "display_data"
    }
   ],
   "source": [
    "import scipy.stats as sct\n",
    "sct.probplot(var, plot=plt)\n",
    "plt.show()"
   ]
  },
  {
   "cell_type": "code",
   "execution_count": 21,
   "metadata": {},
   "outputs": [],
   "source": [
    "import statsmodels.api as ss"
   ]
  },
  {
   "cell_type": "markdown",
   "metadata": {},
   "source": [
    "Below is graph of<br>\n",
    "<b>(3.2.1) Q-Q Plot (Quantile-Quantile Plot)</b>"
   ]
  },
  {
   "cell_type": "code",
   "execution_count": 22,
   "metadata": {},
   "outputs": [
    {
     "data": {
      "image/png": "[encoded data removed]",
      "text/plain": [
       "<Figure size 432x288 with 1 Axes>"
      ]
     },
     "metadata": {
      "needs_background": "light"
     },
     "output_type": "display_data"
    }
   ],
   "source": [
    "pp_x = ss.ProbPlot(np.array(x), fit=True)\n",
    "pp_y = ss.ProbPlot(np.array(y), fit=True)\n",
    "pp_x.qqplot(xlabel=\"Quantiles of x\", ylabel=\"Quantiles of y\", line='r', other=pp_y)\n",
    "plt.title(\"Q-Q Plot for x and y\")\n",
    "plt.show()"
   ]
  },
  {
   "cell_type": "markdown",
   "metadata": {},
   "source": [
    "Below is graph of<br>\n",
    "<b>(3.2.2) P-P Plot (Probability-Probability / Percentile-Percentile Plot)</b>"
   ]
  },
  {
   "cell_type": "code",
   "execution_count": 23,
   "metadata": {},
   "outputs": [
    {
     "data": {
      "image/png": "[encoded data removed]",
      "text/plain": [
       "<Figure size 432x288 with 1 Axes>"
      ]
     },
     "metadata": {
      "needs_background": "light"
     },
     "output_type": "display_data"
    }
   ],
   "source": [
    "pp_x = ss.ProbPlot(np.array(x), fit=True)\n",
    "pp_y = ss.ProbPlot(np.array(y), fit=True)\n",
    "pp_x.ppplot(xlabel=\"Probabilities of x\", ylabel=\"Probabilities of y\", line='r', other=pp_y) #line='r' means Regression\n",
    "plt.title(\"P-P Plot for x and y\")\n",
    "plt.show()"
   ]
  },
  {
   "cell_type": "markdown",
   "metadata": {},
   "source": [
    "<b>(3.3) HISTOGRAM</b> and its <b>NORMAL DISTRIBUTION</b>*<br>\n",
    "*<i>or also known as Symmetric / Gaussian Distribution (condition: <b>(mean == mode == median) == 0</b> and <b>std == 1</b>)</i>"
   ]
  },
  {
   "cell_type": "code",
   "execution_count": 24,
   "metadata": {},
   "outputs": [
    {
     "name": "stdout",
     "output_type": "stream",
     "text": [
      "Mode: 0\n",
      "Median: 0\n",
      "Mean: 0.0\n",
      "Standard Deviation: 1.0\n",
      "Lower Bound: -5.73982\n",
      "Upper Bound: 5.20008\n"
     ]
    },
    {
     "data": {
      "image/png": "[encoded data removed]",
      "text/plain": [
       "<Figure size 432x288 with 1 Axes>"
      ]
     },
     "metadata": {
      "needs_background": "light"
     },
     "output_type": "display_data"
    }
   ],
   "source": [
    "# np.random.randn --> for generate random number for normal dist\n",
    "# abs --> Python syntax to return absolute number of given number\n",
    "# np.ndarray.tolist --> convert np.array() to list[]\n",
    "data = np.ndarray.tolist(np.random.randn(1000000))\n",
    "\n",
    "check_if_unique = len(set(data)) == len(data)\n",
    "if(check_if_unique): print(\"Mode:\", 0)\n",
    "else: \n",
    "    data_mode = st.mode(data)\n",
    "    print(\"Mode: {}\".format(data_mode))\n",
    "\n",
    "data_median = round(st.median(data))\n",
    "print(\"Median: {}\".format(data_median))\n",
    "\n",
    "data_mean = round(abs(np.mean(data)))\n",
    "print(\"Mean: {}\".format(data_mean))\n",
    "\n",
    "data_stdeviation = round(np.std(data))\n",
    "print(\"Standard Deviation: {}\".format(data_stdeviation))\n",
    "\n",
    "lower_bound = round(np.min(data) - 0.5, 5)\n",
    "print(\"Lower Bound: {}\".format(lower_bound))\n",
    "\n",
    "upper_bound = round(np.max(data) + 0.5, 5)\n",
    "print(\"Upper Bound: {}\".format(upper_bound))\n",
    "\n",
    "plt.hist(data, density=True, label=\"Random Data\", histtype=\"bar\", bins=50)\n",
    "            # if DENSITY=True, data quantities are normalized into probability\n",
    "x_axis = np.arange(((lower_bound - data_mean) / data_stdeviation), ((upper_bound - data_mean) / data_stdeviation))\n",
    "plt.plot(x_axis, sct.norm.pdf(x_axis), label=\"Normal Dist\")\n",
    "plt.legend(loc=\"best\")\n",
    "plt.title(\"Histogram with Its Normal Distribution\")\n",
    "plt.xlabel(\"Data\")\n",
    "plt.ylabel(\"Total (normalized)\")\n",
    "plt.show()"
   ]
  },
  {
   "cell_type": "markdown",
   "metadata": {},
   "source": [
    "<b>(3.4) BOXPLOT</b>"
   ]
  },
  {
   "cell_type": "code",
   "execution_count": 25,
   "metadata": {},
   "outputs": [
    {
     "data": {
      "text/plain": [
       "{'whiskers': [<matplotlib.lines.Line2D at 0x23fd225e860>,\n",
       "  <matplotlib.lines.Line2D at 0x23fd2291978>],\n",
       " 'caps': [<matplotlib.lines.Line2D at 0x23fd2291cc0>,\n",
       "  <matplotlib.lines.Line2D at 0x23fd2291da0>],\n",
       " 'boxes': [<matplotlib.lines.Line2D at 0x23fd225e2e8>],\n",
       " 'medians': [<matplotlib.lines.Line2D at 0x23fd229e390>],\n",
       " 'fliers': [<matplotlib.lines.Line2D at 0x23fd229e6d8>],\n",
       " 'means': []}"
      ]
     },
     "execution_count": 25,
     "metadata": {},
     "output_type": "execute_result"
    },
    {
     "data": {
      "image/png": "[encoded data removed]",
      "text/plain": [
       "<Figure size 432x288 with 1 Axes>"
      ]
     },
     "metadata": {
      "needs_background": "light"
     },
     "output_type": "display_data"
    }
   ],
   "source": [
    "plt.boxplot(data)\n",
    "# it occurs because mean == mode == median == 0"
   ]
  },
  {
   "cell_type": "code",
   "execution_count": 26,
   "metadata": {},
   "outputs": [
    {
     "data": {
      "text/plain": [
       "{'whiskers': [<matplotlib.lines.Line2D at 0x23fd2245470>,\n",
       "  <matplotlib.lines.Line2D at 0x23fd2245128>,\n",
       "  <matplotlib.lines.Line2D at 0x23fd223c2e8>,\n",
       "  <matplotlib.lines.Line2D at 0x23fd223c940>,\n",
       "  <matplotlib.lines.Line2D at 0x23fd224db00>,\n",
       "  <matplotlib.lines.Line2D at 0x23fd21a0898>],\n",
       " 'caps': [<matplotlib.lines.Line2D at 0x23fd2245908>,\n",
       "  <matplotlib.lines.Line2D at 0x23fd22456a0>,\n",
       "  <matplotlib.lines.Line2D at 0x23fd223c7f0>,\n",
       "  <matplotlib.lines.Line2D at 0x23fd22670f0>,\n",
       "  <matplotlib.lines.Line2D at 0x23fd21a0da0>,\n",
       "  <matplotlib.lines.Line2D at 0x23fd21a0ef0>],\n",
       " 'boxes': [<matplotlib.lines.Line2D at 0x23fd2245a58>,\n",
       "  <matplotlib.lines.Line2D at 0x23fd223c5c0>,\n",
       "  <matplotlib.lines.Line2D at 0x23fd224db70>],\n",
       " 'medians': [<matplotlib.lines.Line2D at 0x23fcc0cc5f8>,\n",
       "  <matplotlib.lines.Line2D at 0x23fd2267518>,\n",
       "  <matplotlib.lines.Line2D at 0x23fd21a0240>],\n",
       " 'fliers': [<matplotlib.lines.Line2D at 0x23fd223cc88>,\n",
       "  <matplotlib.lines.Line2D at 0x23fd224d630>,\n",
       "  <matplotlib.lines.Line2D at 0x23fd21a0080>],\n",
       " 'means': []}"
      ]
     },
     "execution_count": 26,
     "metadata": {},
     "output_type": "execute_result"
    },
    {
     "data": {
      "image/png": "[encoded data removed]",
      "text/plain": [
       "<Figure size 432x288 with 1 Axes>"
      ]
     },
     "metadata": {
      "needs_background": "light"
     },
     "output_type": "display_data"
    }
   ],
   "source": [
    "first_dataset = np.random.normal(100, 60, 200)\n",
    "second_dataset = np.random.normal(90, 70, 200)\n",
    "third_dataset = np.random.normal(70, 30, 200)\n",
    "plt.boxplot([first_dataset, second_dataset, third_dataset])"
   ]
  }
 ],
 "metadata": {
  "kernelspec": {
   "display_name": "Python 3",
   "language": "python",
   "name": "python3"
  },
  "language_info": {
   "codemirror_mode": {
    "name": "ipython",
    "version": 3
   },
   "file_extension": ".py",
   "mimetype": "text/x-python",
   "name": "python",
   "nbconvert_exporter": "python",
   "pygments_lexer": "ipython3",
   "version": "3.7.1"
  }
 },
 "nbformat": 4,
 "nbformat_minor": 2
}
