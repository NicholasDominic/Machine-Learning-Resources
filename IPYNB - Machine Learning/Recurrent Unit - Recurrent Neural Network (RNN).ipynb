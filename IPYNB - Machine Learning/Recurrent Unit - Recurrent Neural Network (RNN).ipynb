{
 "cells": [
  {
   "cell_type": "markdown",
   "metadata": {},
   "source": [
    "---\n",
    "# <center> Recurrent Neural Network (RNN)\n",
    "---\n",
    "<font color=\"LIGHTSLATEGRAY\">Prepared by **NICHOLAS DOMINIC**\n",
    "<br>Guided from *Aurélien Géron*'s **Hands-On Machine Learning with Scikit-Learn, Keras, and TensorFlow** (2nd ed., by O’Reilly Media, Inc.)\n",
    "<br>Powered by Interactive Python **Jupyter Notebook** (.ipynb), developed with **Python 3.7**"
   ]
  },
  {
   "cell_type": "code",
   "execution_count": 1,
   "metadata": {},
   "outputs": [],
   "source": [
    "import numpy as np\n",
    "import tensorflow as tf\n",
    "from pandas import DataFrame as df\n",
    "from tensorflow import keras\n",
    "from matplotlib import pyplot as plt\n",
    "from matplotlib.ticker import MaxNLocator as mx"
   ]
  },
  {
   "cell_type": "code",
   "execution_count": 2,
   "metadata": {},
   "outputs": [
    {
     "data": {
      "text/plain": [
       "('1.18.2', '2.2.0', '2.3.0-tf')"
      ]
     },
     "execution_count": 2,
     "metadata": {},
     "output_type": "execute_result"
    }
   ],
   "source": [
    "np.__version__, tf.__version__, keras.__version__"
   ]
  },
  {
   "cell_type": "markdown",
   "metadata": {},
   "source": [
    "## RNN Supporting User-defined Function"
   ]
  },
  {
   "cell_type": "code",
   "execution_count": 3,
   "metadata": {},
   "outputs": [],
   "source": [
    "def generate_time_series_data(batch_size, n_steps):\n",
    "    freq1, freq2, offsets1, offsets2 = np.random.rand(4, batch_size, 1) # .randn(d0, d1, ..., dn) means dimension, in this case will be 4 x batch_size x 1 array\n",
    "    time = np.linspace(0, 1, n_steps) # return evenly spaced numbers over a specified interval, .linspace(start, stop, number_of_samples)\n",
    "    \n",
    "    series = 0.5 * np.sin((time - offsets1) * (freq1 * 10 + 10))  #   wave 1\n",
    "    series += 0.2 * np.sin((time - offsets2) * (freq2 * 20 + 20)) # + wave 2\n",
    "    series += 0.1 * (np.random.rand(batch_size, n_steps) - 0.5)   # + noise\n",
    "    \n",
    "    return series[..., np.newaxis].astype(np.float32) # ... means Ellipsis, the element that points to the list itself, see on stackoverflow.com/questions/17160162/what-do-ellipsis-mean-in-a-list"
   ]
  },
  {
   "cell_type": "code",
   "execution_count": 4,
   "metadata": {},
   "outputs": [],
   "source": [
    "def plot_series(series, y=None, y_pred=None, x_label=\"$t$\", y_label=\"$x(t)$\"):\n",
    "    plt.plot(series, \".-\")\n",
    "    plt.grid(True)\n",
    "    plt.hlines(0, 0, 100, linewidth=1, linestyles='dashed') # (0, 0, 100) == (y-axis, x-axis_min, x-axis_max)\n",
    "    plt.axis([0, n_steps + 1, -1, 1]) # x_axis-min, x_axis-max, y-axis_min, y-axis_max\n",
    "    \n",
    "    if y is not None:\n",
    "        plt.plot(n_steps, y, \"bx\", markersize=10)\n",
    "    if y_pred is not None:\n",
    "        plt.plot(n_steps, y_pred, \"ro\")\n",
    "    if x_label: # not FALSE\n",
    "        plt.xlabel(x_label, fontsize=16)\n",
    "    if y_label: # not FALSE\n",
    "        plt.ylabel(y_label, fontsize=16)"
   ]
  },
  {
   "cell_type": "code",
   "execution_count": 6,
   "metadata": {},
   "outputs": [],
   "source": [
    "def plot_forecast(X, Y, Y_pred):\n",
    "    n_steps = X.shape[1]\n",
    "    ahead = Y.shape[1]\n",
    "    \n",
    "    plot_series(X[0, :, 0])\n",
    "    plt.plot(np.arange(n_steps, n_steps + ahead), Y[0, :, 0], \"ro-\", label=\"Actual\")\n",
    "    plt.plot(np.arange(n_steps, n_steps + ahead), Y_pred[0, :, 0], \"bx-\", label=\"Forecast\", markersize=10)\n",
    "    \n",
    "    plt.axis([0, n_steps + ahead, -1, 1]) # x_axis-min, x_axis-max, y-axis_min, y-axis_max\n",
    "    plt.legend(loc='best') # legend with adaptive location\n",
    "    plt.grid(True)"
   ]
  },
  {
   "cell_type": "code",
   "execution_count": 44,
   "metadata": {},
   "outputs": [],
   "source": [
    "def last_time_step_mse(Y_true, Y_pred):\n",
    "    return keras.metrics.mean_squared_error(Y_true[:, -1], Y_pred[:, -1])"
   ]
  },
  {
   "cell_type": "markdown",
   "metadata": {},
   "source": [
    "## Time Series Dataset Loading"
   ]
  },
  {
   "cell_type": "code",
   "execution_count": 8,
   "metadata": {},
   "outputs": [
    {
     "name": "stdout",
     "output_type": "stream",
     "text": [
      "All SERIES (10000, 51, 1)\n",
      "x_train (7000, 50, 1) y_train (7000, 1)\n",
      "x_val (2000, 50, 1) y_val (2000, 1)\n",
      "x_test (1000, 50, 1) y_test (1000, 1)\n"
     ]
    }
   ],
   "source": [
    "n_steps = 50\n",
    "series = generate_time_series_data(10000, n_steps + 1) # batch_size, n_steps\n",
    "print(\"All SERIES {}\".format(series.shape))\n",
    "\n",
    "# since we have series.shape = (10000, 51, 1) then it'll be split as\n",
    "x_train, y_train = series[:7000, :n_steps], series[:7000, -1]\n",
    "x_val, y_val = series[7000:9000, :n_steps], series[7000:9000, -1]\n",
    "x_test, y_test = series[9000:, :n_steps], series[9000:, -1]\n",
    "\n",
    "print(\"x_train {} y_train {}\".format(x_train.shape, y_train.shape))\n",
    "print(\"x_val {} y_val {}\".format(x_val.shape, y_val.shape))\n",
    "print(\"x_test {} y_test {}\".format(x_test.shape, y_test.shape))"
   ]
  },
  {
   "cell_type": "markdown",
   "metadata": {},
   "source": [
    "## Recurrent Neural Network (RNN)"
   ]
  },
  {
   "cell_type": "code",
   "execution_count": 9,
   "metadata": {},
   "outputs": [
    {
     "name": "stdout",
     "output_type": "stream",
     "text": [
      "Model: \"sequential\"\n",
      "_________________________________________________________________\n",
      "Layer (type)                 Output Shape              Param #   \n",
      "=================================================================\n",
      "simple_rnn (SimpleRNN)       (None, 1)                 3         \n",
      "=================================================================\n",
      "Total params: 3\n",
      "Trainable params: 3\n",
      "Non-trainable params: 0\n",
      "_________________________________________________________________\n"
     ]
    }
   ],
   "source": [
    "simple_rnn_model = keras.models.Sequential([\n",
    "    keras.layers.SimpleRNN(1, input_shape=[None, 1])\n",
    "])\n",
    "simple_rnn_model.summary()"
   ]
  },
  {
   "cell_type": "code",
   "execution_count": 10,
   "metadata": {},
   "outputs": [
    {
     "name": "stdout",
     "output_type": "stream",
     "text": [
      "Epoch 1/15\n",
      "7000/7000 [==============================] - 64s 9ms/step - loss: 0.0321 - mse: 0.0321 - val_loss: 0.0118 - val_mse: 0.0118\n",
      "Epoch 2/15\n",
      "7000/7000 [==============================] - 110s 16ms/step - loss: 0.0112 - mse: 0.0112 - val_loss: 0.0116 - val_mse: 0.0116\n",
      "Epoch 3/15\n",
      "7000/7000 [==============================] - 106s 15ms/step - loss: 0.0113 - mse: 0.0113 - val_loss: 0.0113 - val_mse: 0.0113\n",
      "Epoch 4/15\n",
      "7000/7000 [==============================] - 109s 16ms/step - loss: 0.0113 - mse: 0.0113 - val_loss: 0.0113 - val_mse: 0.0113\n",
      "Epoch 5/15\n",
      "7000/7000 [==============================] - 97s 14ms/step - loss: 0.0112 - mse: 0.0112 - val_loss: 0.0115 - val_mse: 0.0115\n",
      "Epoch 6/15\n",
      "7000/7000 [==============================] - 113s 16ms/step - loss: 0.0112 - mse: 0.0112 - val_loss: 0.0116 - val_mse: 0.0116\n",
      "Epoch 7/15\n",
      "7000/7000 [==============================] - 99s 14ms/step - loss: 0.0113 - mse: 0.0113 - val_loss: 0.0113 - val_mse: 0.0113\n",
      "Epoch 8/15\n",
      "7000/7000 [==============================] - 102s 15ms/step - loss: 0.0112 - mse: 0.0112 - val_loss: 0.0119 - val_mse: 0.0119\n",
      "Epoch 9/15\n",
      "7000/7000 [==============================] - 105s 15ms/step - loss: 0.0113 - mse: 0.0113 - val_loss: 0.0116 - val_mse: 0.0116\n",
      "Epoch 10/15\n",
      "7000/7000 [==============================] - 108s 15ms/step - loss: 0.0113 - mse: 0.0113 - val_loss: 0.0114 - val_mse: 0.0114\n",
      "Epoch 11/15\n",
      "7000/7000 [==============================] - 103s 15ms/step - loss: 0.0113 - mse: 0.0113 - val_loss: 0.0113 - val_mse: 0.0113\n",
      "Epoch 12/15\n",
      "7000/7000 [==============================] - 102s 15ms/step - loss: 0.0112 - mse: 0.0112 - val_loss: 0.0114 - val_mse: 0.0114\n",
      "Epoch 13/15\n",
      "7000/7000 [==============================] - 108s 15ms/step - loss: 0.0113 - mse: 0.0113 - val_loss: 0.0119 - val_mse: 0.0119\n",
      "Epoch 14/15\n",
      "7000/7000 [==============================] - 111s 16ms/step - loss: 0.0112 - mse: 0.0112 - val_loss: 0.0113 - val_mse: 0.0113\n",
      "Epoch 15/15\n",
      "7000/7000 [==============================] - 119s 17ms/step - loss: 0.0113 - mse: 0.0113 - val_loss: 0.0112 - val_mse: 0.0112\n"
     ]
    }
   ],
   "source": [
    "simple_rnn_model.compile(loss=\"mse\", optimizer=keras.optimizers.Adam(lr=5e-3), metrics=['mse'])\n",
    "simple_rnn_history = simple_rnn_model.fit(x_train, y_train, epochs=15, batch_size=1, validation_data=(x_val, y_val))"
   ]
  },
  {
   "cell_type": "code",
   "execution_count": 11,
   "metadata": {
    "scrolled": false
   },
   "outputs": [
    {
     "data": {
      "text/plain": [
       "Text(0, 0.5, 'Scores')"
      ]
     },
     "execution_count": 11,
     "metadata": {},
     "output_type": "execute_result"
    },
    {
     "data": {
      "image/png": "[encoded data removed]",
      "text/plain": [
       "<Figure size 576x360 with 1 Axes>"
      ]
     },
     "metadata": {
      "needs_background": "light"
     },
     "output_type": "display_data"
    }
   ],
   "source": [
    "df(simple_rnn_history.history).plot(figsize=(8, 5))\n",
    "plt.ylim(0, .05)\n",
    "plt.grid(True)\n",
    "plt.xlabel(\"Epochs\")\n",
    "plt.ylabel(\"Scores\")"
   ]
  },
  {
   "cell_type": "code",
   "execution_count": 12,
   "metadata": {},
   "outputs": [
    {
     "name": "stdout",
     "output_type": "stream",
     "text": [
      "2000/2000 [==============================] - 13s 6ms/step - loss: 0.0112 - mse: 0.0112\n"
     ]
    },
    {
     "data": {
      "text/plain": [
       "[0.011233573779463768, 0.011233573779463768]"
      ]
     },
     "execution_count": 12,
     "metadata": {},
     "output_type": "execute_result"
    }
   ],
   "source": [
    "simple_rnn_model.evaluate(x_val, y_val, batch_size=1)"
   ]
  },
  {
   "cell_type": "code",
   "execution_count": 35,
   "metadata": {},
   "outputs": [
    {
     "name": "stdout",
     "output_type": "stream",
     "text": [
      "All new SERIES (1, 60, 1)\n",
      "x_new (1, 50, 1) y_new (1, 10, 1) y_pred (1, 10, 1)\n"
     ]
    },
    {
     "data": {
      "image/png": "[encoded data removed]",
      "text/plain": [
       "<Figure size 432x288 with 1 Axes>"
      ]
     },
     "metadata": {
      "needs_background": "light"
     },
     "output_type": "display_data"
    }
   ],
   "source": [
    "new_series = generate_time_series_data(1, n_steps + 10)\n",
    "x_new, y_new = new_series[:, :n_steps], new_series[:, n_steps:]\n",
    "\n",
    "x_copied = x_new # copy x_new to another variable so its original shape doesn't change due to concatenation\n",
    "for step_ahead in range(10):\n",
    "    y_pred_one = simple_rnn_model.predict(x_copied[:, step_ahead:])[:, np.newaxis, :]\n",
    "    x_copied = np.concatenate([x_copied, y_pred_one], axis=1)\n",
    "\n",
    "y_pred = x_copied[:, n_steps:]\n",
    "print(\"All new SERIES {}\".format(new_series.shape))\n",
    "print(\"x_new {} y_new {} y_pred {}\".format(x_new.shape, y_new.shape, y_pred.shape))\n",
    "\n",
    "plot_forecast(x_new, y_new, y_pred)"
   ]
  }
 ],
 "metadata": {
  "kernelspec": {
   "display_name": "Python 3",
   "language": "python",
   "name": "python3"
  },
  "language_info": {
   "codemirror_mode": {
    "name": "ipython",
    "version": 3
   },
   "file_extension": ".py",
   "mimetype": "text/x-python",
   "name": "python",
   "nbconvert_exporter": "python",
   "pygments_lexer": "ipython3",
   "version": "3.7.1"
  }
 },
 "nbformat": 4,
 "nbformat_minor": 2
}
