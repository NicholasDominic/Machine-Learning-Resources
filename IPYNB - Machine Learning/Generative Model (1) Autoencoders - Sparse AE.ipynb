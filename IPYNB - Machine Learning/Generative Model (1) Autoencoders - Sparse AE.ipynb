{
 "cells": [
  {
   "cell_type": "markdown",
   "metadata": {},
   "source": [
    "---\n",
    "# <CENTER><font color=\"indigo\">Generative Models: Autoencoders (AE)</font><br><small><b>SPARSE AUTOENCODERS</b></small>\n",
    "---\n",
    "<font color=\"olive\">Prepared by **NICHOLAS DOMINIC**\n",
    "<br>Guided from *Aurélien Géron*'s **Hands-On Machine Learning with Scikit-Learn, Keras, and TensorFlow** (2nd ed., by O’Reilly Media, Inc.)\n",
    "<br>Powered by Interactive Python **Jupyter Notebook** (.ipynb), developed with **Python 3.7**"
   ]
  },
  {
   "cell_type": "markdown",
   "metadata": {},
   "source": [
    "> **BRIEF INTRODUCTION**<br>\n",
    "Generative model is capable of randomly generating new data that looks *very similar* to the training data. Simply put, the output is the input itself (same size). Therefore in this case, the output also called as **reconstruction**. Two types of generative model are: **Autoencoders (AE)** and **Generative Adversarial Networks (GAN)**."
   ]
  },
  {
   "cell_type": "code",
   "execution_count": 1,
   "metadata": {},
   "outputs": [],
   "source": [
    "import numpy as np\n",
    "from pandas import DataFrame as df\n",
    "from matplotlib import pyplot as plt\n",
    "import tensorflow as tf\n",
    "from tensorflow import keras"
   ]
  },
  {
   "cell_type": "code",
   "execution_count": 2,
   "metadata": {},
   "outputs": [
    {
     "data": {
      "text/plain": [
       "('1.18.2', '2.2.0', '2.3.0-tf')"
      ]
     },
     "execution_count": 2,
     "metadata": {},
     "output_type": "execute_result"
    }
   ],
   "source": [
    "np.__version__, tf.__version__, keras.__version__"
   ]
  },
  {
   "cell_type": "markdown",
   "metadata": {},
   "source": [
    "## Fashion-MNIST Dataset Loading, Normalization, and Split"
   ]
  },
  {
   "cell_type": "code",
   "execution_count": 3,
   "metadata": {},
   "outputs": [
    {
     "name": "stdout",
     "output_type": "stream",
     "text": [
      "Image Dimension: (28, 28)\n",
      "x_train: (55000, 28, 28) y_train: (55000,)\n",
      "x_val: (5000, 28, 28) y_val: (5000,)\n",
      "x_test: (10000, 28, 28) y_test: (10000,)\n"
     ]
    }
   ],
   "source": [
    "# Load the dataset from Keras\n",
    "(x_train, y_train), (x_test, y_test) = keras.datasets.fashion_mnist.load_data()\n",
    "\n",
    "# Normalize by dividing them by 255 (maximum number of 1-bit pixels)\n",
    "x_train = x_train.astype(np.float32) / 255\n",
    "x_test = x_test.astype(np.float32) / 255\n",
    "\n",
    "# Get validation data from train data\n",
    "x_train, x_val = x_train[:-5000], x_train[-5000:]\n",
    "y_train, y_val = y_train[:-5000], y_train[-5000:]\n",
    "\n",
    "# Show the shape of each\n",
    "print(\"Image Dimension: {}\".format(x_train.shape[1:]))\n",
    "print(\"x_train: {} y_train: {}\".format(x_train.shape, y_train.shape))\n",
    "print(\"x_val: {} y_val: {}\".format(x_val.shape, y_val.shape))\n",
    "print(\"x_test: {} y_test: {}\".format(x_test.shape, y_test.shape))"
   ]
  },
  {
   "cell_type": "markdown",
   "metadata": {},
   "source": [
    "## User-defined Functions and Class"
   ]
  },
  {
   "cell_type": "code",
   "execution_count": 4,
   "metadata": {},
   "outputs": [],
   "source": [
    "# Custom metrics (how to build it, see on https://keras.io/api/metrics/#creating-custom-metrics)\n",
    "def rounded_accuracy(y_true, y_pred):\n",
    "    return keras.metrics.binary_accuracy(tf.round(y_true), tf.round(y_pred))"
   ]
  },
  {
   "cell_type": "code",
   "execution_count": 5,
   "metadata": {},
   "outputs": [],
   "source": [
    "def plot_image(image):\n",
    "    plt.imshow(image, cmap=\"binary\")\n",
    "    plt.axis(\"off\")"
   ]
  },
  {
   "cell_type": "code",
   "execution_count": 6,
   "metadata": {},
   "outputs": [],
   "source": [
    "def show_reconstructions(model, images=x_val, n_images=5):\n",
    "    reconstructions = model.predict(images[:n_images])\n",
    "    fig = plt.figure(figsize=(n_images * 1.5, 3))\n",
    "    for image_index in range(n_images):\n",
    "        plt.subplot(2, n_images, 1 + image_index)\n",
    "        plot_image(images[image_index])\n",
    "        plt.subplot(2, n_images, 1 + n_images + image_index)\n",
    "        plot_image(reconstructions[image_index])"
   ]
  },
  {
   "cell_type": "code",
   "execution_count": 7,
   "metadata": {},
   "outputs": [],
   "source": [
    "kl_divergence = keras.losses.kullback_leibler_divergence\n",
    "class KLDivergenceRegularizer(keras.regularizers.Regularizer):\n",
    "    def __init__(self, weight, target=.1):\n",
    "        self.weight = weight\n",
    "        self.target = target\n",
    "    def __call__(self, inputs):\n",
    "        mean_activities = keras.backend.mean(inputs, axis=0)\n",
    "        return self.weight * (\n",
    "            kl_divergence(self.target, mean_activities) +\n",
    "            kl_divergence(1. - self.target, 1. - mean_activities))"
   ]
  },
  {
   "cell_type": "markdown",
   "metadata": {},
   "source": [
    "* **Step 1: BUILD**"
   ]
  },
  {
   "cell_type": "code",
   "execution_count": 8,
   "metadata": {
    "scrolled": true
   },
   "outputs": [
    {
     "name": "stdout",
     "output_type": "stream",
     "text": [
      "Model: \"Encoder\"\n",
      "_________________________________________________________________\n",
      "Layer (type)                 Output Shape              Param #   \n",
      "=================================================================\n",
      "flatten (Flatten)            (None, 784)               0         \n",
      "_________________________________________________________________\n",
      "dense (Dense)                (None, 100)               78500     \n",
      "_________________________________________________________________\n",
      "dense_1 (Dense)              (None, 300)               30300     \n",
      "=================================================================\n",
      "Total params: 108,800\n",
      "Trainable params: 108,800\n",
      "Non-trainable params: 0\n",
      "_________________________________________________________________\n",
      "Model: \"Decoder\"\n",
      "_________________________________________________________________\n",
      "Layer (type)                 Output Shape              Param #   \n",
      "=================================================================\n",
      "dense_2 (Dense)              (None, 100)               30100     \n",
      "_________________________________________________________________\n",
      "dense_3 (Dense)              (None, 784)               79184     \n",
      "_________________________________________________________________\n",
      "reshape (Reshape)            (None, 28, 28)            0         \n",
      "=================================================================\n",
      "Total params: 109,284\n",
      "Trainable params: 109,284\n",
      "Non-trainable params: 0\n",
      "_________________________________________________________________\n",
      "Model: \"Sparse_Autoencoder\"\n",
      "_________________________________________________________________\n",
      "Layer (type)                 Output Shape              Param #   \n",
      "=================================================================\n",
      "Encoder (Sequential)         (None, 300)               108800    \n",
      "_________________________________________________________________\n",
      "Decoder (Sequential)         (None, 28, 28)            109284    \n",
      "=================================================================\n",
      "Total params: 218,084\n",
      "Trainable params: 218,084\n",
      "Non-trainable params: 0\n",
      "_________________________________________________________________\n"
     ]
    }
   ],
   "source": [
    "# Build the ENCODER\n",
    "encoder = keras.models.Sequential([\n",
    "    keras.layers.Flatten(input_shape=[28, 28]),\n",
    "    keras.layers.Dense(100, activation=\"selu\"),\n",
    "    keras.layers.Dense(300, activation=\"sigmoid\", activity_regularizer=KLDivergenceRegularizer(weight=.05, target=.1))\n",
    "], name=\"Encoder\")\n",
    "encoder.summary()\n",
    "\n",
    "# Build the DECODER\n",
    "decoder = keras.models.Sequential([\n",
    "    keras.layers.Dense(100, activation=\"selu\", input_shape=[300]),\n",
    "    keras.layers.Dense(28 * 28, activation=\"sigmoid\"),\n",
    "    keras.layers.Reshape([28, 28])\n",
    "], name=\"Decoder\")\n",
    "decoder.summary()\n",
    "\n",
    "# Join both to generate SPARSE AUTOENCODER\n",
    "sparse_L1_ae = keras.models.Sequential([encoder, decoder], name=\"Sparse_Autoencoder\")\n",
    "sparse_L1_ae.summary()"
   ]
  },
  {
   "cell_type": "markdown",
   "metadata": {},
   "source": [
    "* **Step 2: COMPILE**"
   ]
  },
  {
   "cell_type": "code",
   "execution_count": 9,
   "metadata": {},
   "outputs": [],
   "source": [
    "sparse_L1_ae.compile(\n",
    "    loss=\"binary_crossentropy\",\n",
    "    optimizer=keras.optimizers.SGD(lr=.5),\n",
    "    metrics=[rounded_accuracy]\n",
    ")"
   ]
  },
  {
   "cell_type": "markdown",
   "metadata": {},
   "source": [
    "* **Step 3: FIT / TRAIN**"
   ]
  },
  {
   "cell_type": "code",
   "execution_count": 10,
   "metadata": {
    "scrolled": true
   },
   "outputs": [
    {
     "name": "stdout",
     "output_type": "stream",
     "text": [
      "Epoch 1/20\n",
      "55000/55000 [==============================] - 227s 4ms/step - loss: 0.4520 - rounded_accuracy: 0.7927 - val_loss: 0.4135 - val_rounded_accuracy: 0.8342\n",
      "Epoch 2/20\n",
      "55000/55000 [==============================] - 204s 4ms/step - loss: 0.4100 - rounded_accuracy: 0.8503 - val_loss: 0.4075 - val_rounded_accuracy: 0.8621\n",
      "Epoch 3/20\n",
      "55000/55000 [==============================] - 206s 4ms/step - loss: 0.4074 - rounded_accuracy: 0.8613 - val_loss: 0.3819 - val_rounded_accuracy: 0.8808\n",
      "Epoch 4/20\n",
      "55000/55000 [==============================] - 192s 3ms/step - loss: 0.4187 - rounded_accuracy: 0.8631 - val_loss: 0.3761 - val_rounded_accuracy: 0.8853\n",
      "Epoch 5/20\n",
      "55000/55000 [==============================] - 188s 3ms/step - loss: 0.4278 - rounded_accuracy: 0.8635 - val_loss: 0.4183 - val_rounded_accuracy: 0.8732\n",
      "Epoch 6/20\n",
      "55000/55000 [==============================] - 165s 3ms/step - loss: 0.4306 - rounded_accuracy: 0.8645 - val_loss: 0.4502 - val_rounded_accuracy: 0.8389\n",
      "Epoch 7/20\n",
      "55000/55000 [==============================] - 191s 3ms/step - loss: 0.4361 - rounded_accuracy: 0.8645 - val_loss: 0.3699 - val_rounded_accuracy: 0.8935\n",
      "Epoch 8/20\n",
      "55000/55000 [==============================] - 189s 3ms/step - loss: 0.4362 - rounded_accuracy: 0.8654 - val_loss: 0.3873 - val_rounded_accuracy: 0.8813\n",
      "Epoch 9/20\n",
      "55000/55000 [==============================] - 176s 3ms/step - loss: 0.4336 - rounded_accuracy: 0.8673 - val_loss: 0.3772 - val_rounded_accuracy: 0.8939\n",
      "Epoch 10/20\n",
      "55000/55000 [==============================] - 188s 3ms/step - loss: 0.4433 - rounded_accuracy: 0.8655 - val_loss: 0.5169 - val_rounded_accuracy: 0.8688\n",
      "Epoch 11/20\n",
      "55000/55000 [==============================] - 180s 3ms/step - loss: 0.4301 - rounded_accuracy: 0.8709 - val_loss: 0.3952 - val_rounded_accuracy: 0.8728\n",
      "Epoch 12/20\n",
      "55000/55000 [==============================] - 187s 3ms/step - loss: 0.4469 - rounded_accuracy: 0.8663 - val_loss: 0.3996 - val_rounded_accuracy: 0.8854\n",
      "Epoch 13/20\n",
      "55000/55000 [==============================] - 177s 3ms/step - loss: 0.4330 - rounded_accuracy: 0.8704 - val_loss: 0.3843 - val_rounded_accuracy: 0.8884\n",
      "Epoch 14/20\n",
      "55000/55000 [==============================] - 170s 3ms/step - loss: 0.4488 - rounded_accuracy: 0.8672 - val_loss: 0.4394 - val_rounded_accuracy: 0.8634\n",
      "Epoch 15/20\n",
      "55000/55000 [==============================] - 174s 3ms/step - loss: 0.4402 - rounded_accuracy: 0.8697 - val_loss: 0.4139 - val_rounded_accuracy: 0.8575\n",
      "Epoch 16/20\n",
      "55000/55000 [==============================] - 194s 4ms/step - loss: 0.4485 - rounded_accuracy: 0.8681 - val_loss: 0.5369 - val_rounded_accuracy: 0.8133\n",
      "Epoch 17/20\n",
      "55000/55000 [==============================] - 186s 3ms/step - loss: 0.4388 - rounded_accuracy: 0.8717 - val_loss: 0.4191 - val_rounded_accuracy: 0.8781\n",
      "Epoch 18/20\n",
      "55000/55000 [==============================] - 190s 3ms/step - loss: 0.4331 - rounded_accuracy: 0.8743 - val_loss: 0.4188 - val_rounded_accuracy: 0.8873\n",
      "Epoch 19/20\n",
      "55000/55000 [==============================] - 169s 3ms/step - loss: 0.4556 - rounded_accuracy: 0.8683 - val_loss: 0.3981 - val_rounded_accuracy: 0.8843\n",
      "Epoch 20/20\n",
      "55000/55000 [==============================] - 181s 3ms/step - loss: 0.4488 - rounded_accuracy: 0.8703 - val_loss: 0.3856 - val_rounded_accuracy: 0.8903\n"
     ]
    }
   ],
   "source": [
    "sparse_L1_ae_history = sparse_L1_ae.fit(x_train, x_train, epochs=20, batch_size=1, validation_data=(x_val, x_val))"
   ]
  },
  {
   "cell_type": "code",
   "execution_count": 11,
   "metadata": {
    "scrolled": true
   },
   "outputs": [
    {
     "data": {
      "text/plain": [
       "Text(0, 0.5, 'Scores')"
      ]
     },
     "execution_count": 11,
     "metadata": {},
     "output_type": "execute_result"
    },
    {
     "data": {
      "image/png": "[encoded data removed]",
      "text/plain": [
       "<Figure size 576x360 with 1 Axes>"
      ]
     },
     "metadata": {
      "needs_background": "light"
     },
     "output_type": "display_data"
    }
   ],
   "source": [
    "df(sparse_L1_ae_history.history).plot(figsize=(8, 5))\n",
    "plt.grid(True)\n",
    "plt.xlabel(\"Epochs\")\n",
    "plt.ylabel(\"Scores\")"
   ]
  },
  {
   "cell_type": "markdown",
   "metadata": {},
   "source": [
    "* **Step 4: EVALUATE**"
   ]
  },
  {
   "cell_type": "code",
   "execution_count": 12,
   "metadata": {},
   "outputs": [
    {
     "name": "stdout",
     "output_type": "stream",
     "text": [
      "10000/10000 [==============================] - 26s 3ms/step - loss: 0.3852 - rounded_accuracy: 0.8894\n"
     ]
    },
    {
     "data": {
      "text/plain": [
       "[0.38524648547172546, 0.8893837928771973]"
      ]
     },
     "execution_count": 12,
     "metadata": {},
     "output_type": "execute_result"
    }
   ],
   "source": [
    "sparse_L1_ae.evaluate(x_test, x_test, batch_size=1)"
   ]
  },
  {
   "cell_type": "markdown",
   "metadata": {},
   "source": [
    "* **Step 5: PREDICTION**\n",
    "<br> The first rows denote real images, while the second reconstructed images from Sparse AE."
   ]
  },
  {
   "cell_type": "code",
   "execution_count": 13,
   "metadata": {},
   "outputs": [
    {
     "data": {
      "image/png": "[encoded data removed]",
      "text/plain": [
       "<Figure size 540x216 with 10 Axes>"
      ]
     },
     "metadata": {
      "needs_background": "light"
     },
     "output_type": "display_data"
    }
   ],
   "source": [
    "show_reconstructions(sparse_L1_ae)"
   ]
  },
  {
   "cell_type": "code",
   "execution_count": 16,
   "metadata": {},
   "outputs": [],
   "source": [
    "# Can't save the model due to KLDivergenceRegularizer() as custom subclass Keras model; thus, .save_weights() instead\n",
    "# See for details in https://stackoverflow.com/questions/51806852/cant-save-custom-subclassed-model\n",
    "sparse_L1_ae.save_weights(\"model/sparseAE_weights/sparse_L1_ae_weights.ckpt\")"
   ]
  }
 ],
 "metadata": {
  "kernelspec": {
   "display_name": "Python 3",
   "language": "python",
   "name": "python3"
  },
  "language_info": {
   "codemirror_mode": {
    "name": "ipython",
    "version": 3
   },
   "file_extension": ".py",
   "mimetype": "text/x-python",
   "name": "python",
   "nbconvert_exporter": "python",
   "pygments_lexer": "ipython3",
   "version": "3.7.1"
  }
 },
 "nbformat": 4,
 "nbformat_minor": 2
}
