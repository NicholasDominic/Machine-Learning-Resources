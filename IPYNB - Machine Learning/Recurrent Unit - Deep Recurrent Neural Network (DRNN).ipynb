{
 "cells": [
  {
   "cell_type": "markdown",
   "metadata": {},
   "source": [
    "---\n",
    "# <center> Deep Recurrent Neural Network (DRNN)\n",
    "---\n",
    "<font color=\"LIGHTSLATEGRAY\">Prepared by **NICHOLAS DOMINIC**\n",
    "<br>Guided from *Aurélien Géron*'s **Hands-On Machine Learning with Scikit-Learn, Keras, and TensorFlow** (2nd ed., by O’Reilly Media, Inc.)\n",
    "<br>Powered by Interactive Python **Jupyter Notebook** (.ipynb), developed with **Python 3.7**"
   ]
  },
  {
   "cell_type": "code",
   "execution_count": 1,
   "metadata": {},
   "outputs": [],
   "source": [
    "import numpy as np\n",
    "import tensorflow as tf\n",
    "from pandas import DataFrame as df\n",
    "from tensorflow import keras\n",
    "from matplotlib import pyplot as plt\n",
    "from matplotlib.ticker import MaxNLocator as mx"
   ]
  },
  {
   "cell_type": "code",
   "execution_count": 2,
   "metadata": {},
   "outputs": [
    {
     "data": {
      "text/plain": [
       "('1.18.2', '2.2.0', '2.3.0-tf')"
      ]
     },
     "execution_count": 2,
     "metadata": {},
     "output_type": "execute_result"
    }
   ],
   "source": [
    "np.__version__, tf.__version__, keras.__version__"
   ]
  },
  {
   "cell_type": "markdown",
   "metadata": {},
   "source": [
    "## DRNN Supporting User-defined Function"
   ]
  },
  {
   "cell_type": "code",
   "execution_count": 3,
   "metadata": {},
   "outputs": [],
   "source": [
    "def generate_time_series_data(batch_size, n_steps):\n",
    "    freq1, freq2, offsets1, offsets2 = np.random.rand(4, batch_size, 1) # .randn(d0, d1, ..., dn) means dimension, in this case will be 4 x batch_size x 1 array\n",
    "    time = np.linspace(0, 1, n_steps) # return evenly spaced numbers over a specified interval, .linspace(start, stop, number_of_samples)\n",
    "    \n",
    "    series = 0.5 * np.sin((time - offsets1) * (freq1 * 10 + 10))  #   wave 1\n",
    "    series += 0.2 * np.sin((time - offsets2) * (freq2 * 20 + 20)) # + wave 2\n",
    "    series += 0.1 * (np.random.rand(batch_size, n_steps) - 0.5)   # + noise\n",
    "    \n",
    "    return series[..., np.newaxis].astype(np.float32) # ... means Ellipsis, the element that points to the list itself, see on stackoverflow.com/questions/17160162/what-do-ellipsis-mean-in-a-list"
   ]
  },
  {
   "cell_type": "code",
   "execution_count": 4,
   "metadata": {},
   "outputs": [],
   "source": [
    "def plot_series(series, y=None, y_pred=None, x_label=\"$t$\", y_label=\"$x(t)$\"):\n",
    "    plt.plot(series, \".-\")\n",
    "    plt.grid(True)\n",
    "    plt.hlines(0, 0, 100, linewidth=1, linestyles='dashed') # (0, 0, 100) == (y-axis, x-axis_min, x-axis_max)\n",
    "    plt.axis([0, n_steps + 1, -1, 1]) # x_axis-min, x_axis-max, y-axis_min, y-axis_max\n",
    "    \n",
    "    if y is not None:\n",
    "        plt.plot(n_steps, y, \"bx\", markersize=10)\n",
    "    if y_pred is not None:\n",
    "        plt.plot(n_steps, y_pred, \"ro\")\n",
    "    if x_label: # not FALSE\n",
    "        plt.xlabel(x_label, fontsize=16)\n",
    "    if y_label: # not FALSE\n",
    "        plt.ylabel(y_label, fontsize=16)"
   ]
  },
  {
   "cell_type": "code",
   "execution_count": 5,
   "metadata": {},
   "outputs": [],
   "source": [
    "def plot_forecast(X, Y, Y_pred):\n",
    "    n_steps = X.shape[1]\n",
    "    ahead = Y.shape[1]\n",
    "    \n",
    "    plot_series(X[0, :, 0])\n",
    "    plt.plot(np.arange(n_steps, n_steps + ahead), Y[0, :, 0], \"ro-\", label=\"Actual\")\n",
    "    plt.plot(np.arange(n_steps, n_steps + ahead), Y_pred[0, :, 0], \"bx-\", label=\"Forecast\", markersize=10)\n",
    "    \n",
    "    plt.axis([0, n_steps + ahead, -1, 1]) # x_axis-min, x_axis-max, y-axis_min, y-axis_max\n",
    "    plt.legend(loc='best') # legend with adaptive location\n",
    "    plt.grid(True)"
   ]
  },
  {
   "cell_type": "code",
   "execution_count": 6,
   "metadata": {},
   "outputs": [],
   "source": [
    "def last_time_step_mse(Y_true, Y_pred):\n",
    "    return keras.metrics.mean_squared_error(Y_true[:, -1], Y_pred[:, -1])"
   ]
  },
  {
   "cell_type": "markdown",
   "metadata": {},
   "source": [
    "## Time Series Dataset Loading"
   ]
  },
  {
   "cell_type": "code",
   "execution_count": 7,
   "metadata": {},
   "outputs": [
    {
     "name": "stdout",
     "output_type": "stream",
     "text": [
      "All SERIES (10000, 51, 1)\n",
      "x_train (7000, 50, 1) y_train (7000, 1)\n",
      "x_val (2000, 50, 1) y_val (2000, 1)\n",
      "x_test (1000, 50, 1) y_test (1000, 1)\n"
     ]
    }
   ],
   "source": [
    "n_steps = 50\n",
    "series = generate_time_series_data(10000, n_steps + 1) # batch_size, n_steps\n",
    "print(\"All SERIES {}\".format(series.shape))\n",
    "\n",
    "# since we have series.shape = (10000, 51, 1) then it'll be split as\n",
    "x_train, y_train = series[:7000, :n_steps], series[:7000, -1]\n",
    "x_val, y_val = series[7000:9000, :n_steps], series[7000:9000, -1]\n",
    "x_test, y_test = series[9000:, :n_steps], series[9000:, -1]\n",
    "\n",
    "print(\"x_train {} y_train {}\".format(x_train.shape, y_train.shape))\n",
    "print(\"x_val {} y_val {}\".format(x_val.shape, y_val.shape))\n",
    "print(\"x_test {} y_test {}\".format(x_test.shape, y_test.shape))"
   ]
  },
  {
   "cell_type": "markdown",
   "metadata": {},
   "source": [
    "## Deep Recurrent Neural Network (DRNN)"
   ]
  },
  {
   "cell_type": "code",
   "execution_count": 8,
   "metadata": {},
   "outputs": [
    {
     "name": "stdout",
     "output_type": "stream",
     "text": [
      "Model: \"sequential\"\n",
      "_________________________________________________________________\n",
      "Layer (type)                 Output Shape              Param #   \n",
      "=================================================================\n",
      "simple_rnn (SimpleRNN)       (None, None, 20)          440       \n",
      "_________________________________________________________________\n",
      "simple_rnn_1 (SimpleRNN)     (None, None, 20)          820       \n",
      "_________________________________________________________________\n",
      "simple_rnn_2 (SimpleRNN)     (None, 1)                 22        \n",
      "=================================================================\n",
      "Total params: 1,282\n",
      "Trainable params: 1,282\n",
      "Non-trainable params: 0\n",
      "_________________________________________________________________\n"
     ]
    }
   ],
   "source": [
    "drnn_model = keras.models.Sequential([\n",
    "    keras.layers.SimpleRNN(20, return_sequences=True, input_shape=[None, 1]),\n",
    "    # keras.layers.BatchNormalization(),\n",
    "    keras.layers.SimpleRNN(20, return_sequences=True),\n",
    "    # keras.layers.BatchNormalization(),\n",
    "    keras.layers.SimpleRNN(1)\n",
    "])\n",
    "drnn_model.summary()"
   ]
  },
  {
   "cell_type": "code",
   "execution_count": 9,
   "metadata": {},
   "outputs": [
    {
     "name": "stdout",
     "output_type": "stream",
     "text": [
      "Epoch 1/20\n",
      "7000/7000 [==============================] - 310s 44ms/step - loss: 0.0089 - mse: 0.0089 - val_loss: 0.0057 - val_mse: 0.0057\n",
      "Epoch 2/20\n",
      "7000/7000 [==============================] - 307s 44ms/step - loss: 0.0047 - mse: 0.0047 - val_loss: 0.0044 - val_mse: 0.0044\n",
      "Epoch 3/20\n",
      "7000/7000 [==============================] - 213s 30ms/step - loss: 0.0045 - mse: 0.0045 - val_loss: 0.0040 - val_mse: 0.0040\n",
      "Epoch 4/20\n",
      "7000/7000 [==============================] - 192s 27ms/step - loss: 0.0044 - mse: 0.0044 - val_loss: 0.0036 - val_mse: 0.0036\n",
      "Epoch 5/20\n",
      "7000/7000 [==============================] - 210s 30ms/step - loss: 0.0043 - mse: 0.0043 - val_loss: 0.0044 - val_mse: 0.0044\n",
      "Epoch 6/20\n",
      "7000/7000 [==============================] - 215s 31ms/step - loss: 0.0042 - mse: 0.0042 - val_loss: 0.0036 - val_mse: 0.0036\n",
      "Epoch 7/20\n",
      "7000/7000 [==============================] - 213s 30ms/step - loss: 0.0041 - mse: 0.0041 - val_loss: 0.0035 - val_mse: 0.0035\n",
      "Epoch 8/20\n",
      "7000/7000 [==============================] - 212s 30ms/step - loss: 0.0041 - mse: 0.0041 - val_loss: 0.0044 - val_mse: 0.0044\n",
      "Epoch 9/20\n",
      "7000/7000 [==============================] - 218s 31ms/step - loss: 0.0041 - mse: 0.0041 - val_loss: 0.0035 - val_mse: 0.0035\n",
      "Epoch 10/20\n",
      "7000/7000 [==============================] - 215s 31ms/step - loss: 0.0041 - mse: 0.0041 - val_loss: 0.0040 - val_mse: 0.0040\n",
      "Epoch 11/20\n",
      "7000/7000 [==============================] - 222s 32ms/step - loss: 0.0040 - mse: 0.0040 - val_loss: 0.0040 - val_mse: 0.0040\n",
      "Epoch 12/20\n",
      "7000/7000 [==============================] - 218s 31ms/step - loss: 0.0040 - mse: 0.0040 - val_loss: 0.0035 - val_mse: 0.0035\n",
      "Epoch 13/20\n",
      "7000/7000 [==============================] - 222s 32ms/step - loss: 0.0040 - mse: 0.0040 - val_loss: 0.0033 - val_mse: 0.0033\n",
      "Epoch 14/20\n",
      "7000/7000 [==============================] - 204s 29ms/step - loss: 0.0039 - mse: 0.0039 - val_loss: 0.0035 - val_mse: 0.0035\n",
      "Epoch 15/20\n",
      "7000/7000 [==============================] - 204s 29ms/step - loss: 0.0039 - mse: 0.0039 - val_loss: 0.0034 - val_mse: 0.0034\n",
      "Epoch 16/20\n",
      "7000/7000 [==============================] - 198s 28ms/step - loss: 0.0038 - mse: 0.0038 - val_loss: 0.0038 - val_mse: 0.0038\n",
      "Epoch 17/20\n",
      "7000/7000 [==============================] - 218s 31ms/step - loss: 0.0038 - mse: 0.0038 - val_loss: 0.0039 - val_mse: 0.0039\n",
      "Epoch 18/20\n",
      "7000/7000 [==============================] - 223s 32ms/step - loss: 0.0039 - mse: 0.0039 - val_loss: 0.0039 - val_mse: 0.0039\n",
      "Epoch 19/20\n",
      "7000/7000 [==============================] - 223s 32ms/step - loss: 0.0038 - mse: 0.0038 - val_loss: 0.0036 - val_mse: 0.0036\n",
      "Epoch 20/20\n",
      "7000/7000 [==============================] - 225s 32ms/step - loss: 0.0038 - mse: 0.0038 - val_loss: 0.0037 - val_mse: 0.0037\n"
     ]
    }
   ],
   "source": [
    "drnn_model.compile(loss=\"mse\", optimizer=\"adam\", metrics=['mse'])\n",
    "drnn_history = drnn_model.fit(x_train, y_train, epochs=20, batch_size=1, validation_data=(x_val, y_val))"
   ]
  },
  {
   "cell_type": "code",
   "execution_count": 10,
   "metadata": {},
   "outputs": [
    {
     "data": {
      "text/plain": [
       "Text(0, 0.5, 'Scores')"
      ]
     },
     "execution_count": 10,
     "metadata": {},
     "output_type": "execute_result"
    },
    {
     "data": {
      "image/png": "[encoded data removed]",
      "text/plain": [
       "<Figure size 576x360 with 1 Axes>"
      ]
     },
     "metadata": {
      "needs_background": "light"
     },
     "output_type": "display_data"
    }
   ],
   "source": [
    "df(drnn_history.history).plot(figsize=(8, 5))\n",
    "plt.grid(True)\n",
    "plt.xlabel(\"Epochs\")\n",
    "plt.ylabel(\"Scores\")"
   ]
  },
  {
   "cell_type": "code",
   "execution_count": 11,
   "metadata": {},
   "outputs": [
    {
     "name": "stdout",
     "output_type": "stream",
     "text": [
      "2000/2000 [==============================] - 20s 10ms/step - loss: 0.0037 - mse: 0.0037\n"
     ]
    },
    {
     "data": {
      "text/plain": [
       "[0.003742712549865246, 0.003742712549865246]"
      ]
     },
     "execution_count": 11,
     "metadata": {},
     "output_type": "execute_result"
    }
   ],
   "source": [
    "drnn_model.evaluate(x_val, y_val, batch_size=1)"
   ]
  },
  {
   "cell_type": "code",
   "execution_count": 15,
   "metadata": {},
   "outputs": [
    {
     "data": {
      "image/png": "[encoded data removed]",
      "text/plain": [
       "<Figure size 432x288 with 1 Axes>"
      ]
     },
     "metadata": {
      "needs_background": "light"
     },
     "output_type": "display_data"
    }
   ],
   "source": [
    "y_pred = drnn_model.predict(x_val)\n",
    "plot_series(x_val[0, :, 0], y_val[0, 0], y_pred[0, 0])"
   ]
  },
  {
   "cell_type": "code",
   "execution_count": null,
   "metadata": {},
   "outputs": [],
   "source": []
  }
 ],
 "metadata": {
  "kernelspec": {
   "display_name": "Python 3",
   "language": "python",
   "name": "python3"
  },
  "language_info": {
   "codemirror_mode": {
    "name": "ipython",
    "version": 3
   },
   "file_extension": ".py",
   "mimetype": "text/x-python",
   "name": "python",
   "nbconvert_exporter": "python",
   "pygments_lexer": "ipython3",
   "version": "3.7.1"
  }
 },
 "nbformat": 4,
 "nbformat_minor": 2
}
