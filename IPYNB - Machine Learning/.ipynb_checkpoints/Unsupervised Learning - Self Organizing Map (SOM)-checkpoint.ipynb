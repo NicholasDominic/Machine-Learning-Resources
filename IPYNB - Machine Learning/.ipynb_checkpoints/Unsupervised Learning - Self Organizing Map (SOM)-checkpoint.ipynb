{
 "cells": [
  {
   "cell_type": "markdown",
   "metadata": {},
   "source": [
    "---\n",
    "# <CENTER><font color=\"crimson\">UNSUPERVISED LEARNING</font><br><small><b><font color=\"darkgoldenrod\">SELF ORGANIZING MAP (SOM)</font></b></small>\n",
    "---\n",
    "<font color=\"dodgerblue\">Prepared by **NICHOLAS DOMINIC**\n",
    "<br>Powered by Interactive Python **Jupyter Notebook** (.ipynb), developed with **Python 3.7**"
   ]
  },
  {
   "cell_type": "code",
   "execution_count": 1,
   "metadata": {},
   "outputs": [],
   "source": [
    "import tensorflow as tf, numpy as np\n",
    "import matplotlib.pyplot as plt"
   ]
  },
  {
   "cell_type": "code",
   "execution_count": 2,
   "metadata": {
    "scrolled": true
   },
   "outputs": [
    {
     "data": {
      "text/plain": [
       "('2.2.0', '1.18.2')"
      ]
     },
     "execution_count": 2,
     "metadata": {},
     "output_type": "execute_result"
    }
   ],
   "source": [
    "tf.__version__, np.__version__"
   ]
  },
  {
   "cell_type": "code",
   "execution_count": 3,
   "metadata": {},
   "outputs": [],
   "source": [
    "# Disable Tensorflow eager execution\n",
    "tf.compat.v1.disable_eager_execution()"
   ]
  },
  {
   "cell_type": "markdown",
   "metadata": {},
   "source": [
    ">**Self-Organizing Map (SOM) process:\n",
    "<br>1. Competition >> 2. Cooperation >> 3. Sypnatic Adaptation**"
   ]
  },
  {
   "cell_type": "markdown",
   "metadata": {},
   "source": [
    "## <font color=\"crimson\">User-defined SOM Class"
   ]
  },
  {
   "cell_type": "code",
   "execution_count": 4,
   "metadata": {},
   "outputs": [],
   "source": [
    "class SOM:\n",
    "    def __init__(self, height, width, input_dimension): # Constructor\n",
    "        self.height = height\n",
    "        self.width = width\n",
    "        self.input_dimension = input_dimension\n",
    "\n",
    "        self.nodes = [tf.dtypes.cast([x, y], tf.float32) for y in range(height) for x in range(width)]\n",
    "        self.weight = tf.Variable(tf.random.normal([self.width * self.height, input_dimension]))\n",
    "        \n",
    "        self.x = tf.compat.v1.placeholder(tf.float32, shape=[input_dimension])\n",
    "        self.bmu = self.get_bmu(self.x) # Best Matching Unit (BMU / the winning node) # (1) COMPETITION process\n",
    "        self.update = self.update_neighbors(self.bmu, self.x) # (2) COOPERATION and (3) SYPNATIC ADAPTATION process in one function\n",
    "\n",
    "    def get_bmu(self, x): # (1) COMPETITION process\n",
    "        square_diff = tf.math.square(x - self.weight)\n",
    "        distance = tf.math.sqrt(tf.reduce_sum(square_diff, 1)) # axis >> 0 = vertical sum || 1 = horizontal sum\n",
    "        bmu_index = tf.math.argmin(distance, 0) # argmin returns index\n",
    "        bmu_node = [tf.dtypes.cast(tf.math.mod(bmu_index, self.width), tf.float32), tf.dtypes.cast(tf.math.divide(bmu_index, self.height), tf.float32)] # node coordinate [x, y], with x and y are casted to tf.float32 dtypes\n",
    "        return bmu_node\n",
    "    \n",
    "    def update_neighbors(self, bmu, x): # (2) COOPERATION and (3) SYPNATIC ADAPTATION process\n",
    "        # Calculate NS (Neighbors Strength)\n",
    "        sigma = tf.dtypes.cast(tf.maximum(self.width, self.height) / 2, tf.float32)\n",
    "        square_diff = tf.math.squared_difference(bmu, self.nodes)\n",
    "        distance = tf.math.sqrt(tf.math.reduce_sum(square_diff, 1)) # axis >> 0 = vertical sum || 1 = horizontal sum\n",
    "        ns = tf.math.exp(tf.math.negative(tf.math.divide(tf.math.square(distance), 2 * tf.math.square(sigma))))\n",
    "        \n",
    "        learning_rate = .1\n",
    "        ns_learning_rate = tf.math.multiply(ns, learning_rate)\n",
    "        \n",
    "        # tile for multiple, e.g. [1] into [1, 1, 1]\n",
    "        # slice for slicing array\n",
    "        ns_learning_rate_stacked = tf.stack([tf.tile(tf.slice(ns_learning_rate, [i], [1]), [self.input_dimension]) for i in range(self.width * self.height)])\n",
    "        x_w_diff = tf.math.subtract(x, self.weight)      \n",
    "        weight_diff = tf.math.multiply(ns_learning_rate_stacked, x_w_diff)\n",
    "\n",
    "        new_weight = tf.math.add(self.weight, weight_diff)\n",
    "        return tf.compat.v1.assign(self.weight, new_weight) # self.weight += new_weight\n",
    "\n",
    "    def train_SOM(self, dataset, number_of_epoch):\n",
    "        with tf.compat.v1.Session() as sess:\n",
    "            sess.run(tf.compat.v1.global_variables_initializer())\n",
    "\n",
    "            for a in range(1, number_of_epoch+1):\n",
    "                for data in dataset:\n",
    "                    feed = { self.x: data }\n",
    "                    sess.run(self.update, feed)\n",
    "            \n",
    "            self.cluster = [[] for a in range(self.width)]\n",
    "            self.nodes_val = sess.run(self.nodes)\n",
    "            self.weight_val = sess.run(self.weight)\n",
    "\n",
    "            for b, node in enumerate(self.nodes_val):\n",
    "                self.cluster[int(node[0])].append(self.weight_val[b])"
   ]
  },
  {
   "cell_type": "markdown",
   "metadata": {},
   "source": [
    "## <font color=\"crimson\"> Generate Simple Dataset"
   ]
  },
  {
   "cell_type": "code",
   "execution_count": 5,
   "metadata": {},
   "outputs": [],
   "source": [
    "height, width, input_dimension = 4, 4, 3\n",
    "dataset = [\n",
    "    [1., .3, 1.],\n",
    "    [0., .2, .1],\n",
    "    [1., 1., 0.],\n",
    "    [0., 0., 1.],\n",
    "    [.7, .9, 1.],\n",
    "    [.0, .0, 1.],\n",
    "    [1., 0., 1.],\n",
    "    [0., 3., 0.],\n",
    "    [1., 1., 1.],\n",
    "    [0., 1., 0.]\n",
    "]"
   ]
  },
  {
   "cell_type": "markdown",
   "metadata": {},
   "source": [
    "## <font color=\"crimson\"> Perform (Train) SOM"
   ]
  },
  {
   "cell_type": "code",
   "execution_count": 6,
   "metadata": {
    "scrolled": true
   },
   "outputs": [
    {
     "name": "stdout",
     "output_type": "stream",
     "text": [
      "WARNING:tensorflow:From c:\\users\\nicholas dominic\\appdata\\local\\programs\\python\\python37\\lib\\site-packages\\tensorflow\\python\\ops\\resource_variable_ops.py:1666: calling BaseResourceVariable.__init__ (from tensorflow.python.ops.resource_variable_ops) with constraint is deprecated and will be removed in a future version.\n",
      "Instructions for updating:\n",
      "If using Keras pass *_constraint arguments to layers.\n"
     ]
    }
   ],
   "source": [
    "som = SOM(height, width, input_dimension)\n",
    "som.train_SOM(dataset=dataset, number_of_epoch=1000)"
   ]
  },
  {
   "cell_type": "code",
   "execution_count": 7,
   "metadata": {},
   "outputs": [
    {
     "data": {
      "text/plain": [
       "[[array([0.65618527, 0.89089805, 0.73435104], dtype=float32),\n",
       "  array([0.57430226, 1.0110828 , 0.5970685 ], dtype=float32),\n",
       "  array([0.47319156, 1.1611207 , 0.4385977 ], dtype=float32),\n",
       "  array([0.37234896, 1.301143  , 0.29409558], dtype=float32)],\n",
       " [array([0.6053207, 0.7124053, 0.7760627], dtype=float32),\n",
       "  array([0.5311147 , 0.8188399 , 0.65250623], dtype=float32),\n",
       "  array([0.43887907, 0.9562873 , 0.5014669 ], dtype=float32),\n",
       "  array([0.34477842, 1.0863203 , 0.35366264], dtype=float32)],\n",
       " [array([0.55667037, 0.5085553 , 0.82797587], dtype=float32),\n",
       "  array([0.4961621 , 0.59458685, 0.7249455 ], dtype=float32),\n",
       "  array([0.41704613, 0.7122723 , 0.58806205], dtype=float32),\n",
       "  array([0.3298347 , 0.82973456, 0.43847534], dtype=float32)],\n",
       " [array([0.52093387, 0.33177805, 0.87711066], dtype=float32),\n",
       "  array([0.47469577, 0.3926714 , 0.7961438 ], dtype=float32),\n",
       "  array([0.40835294, 0.48226205, 0.6775693 ], dtype=float32),\n",
       "  array([0.3264015 , 0.57963145, 0.5303224 ], dtype=float32)]]"
      ]
     },
     "execution_count": 7,
     "metadata": {},
     "output_type": "execute_result"
    }
   ],
   "source": [
    "som.cluster"
   ]
  },
  {
   "cell_type": "code",
   "execution_count": 8,
   "metadata": {},
   "outputs": [
    {
     "name": "stderr",
     "output_type": "stream",
     "text": [
      "Clipping input data to the valid range for imshow with RGB data ([0..1] for floats or [0..255] for integers).\n"
     ]
    },
    {
     "data": {
      "text/plain": [
       "<matplotlib.image.AxesImage at 0x1e761abe8d0>"
      ]
     },
     "execution_count": 8,
     "metadata": {},
     "output_type": "execute_result"
    },
    {
     "data": {
      "image/png": "[encoded data removed]",
      "text/plain": [
       "<Figure size 432x288 with 1 Axes>"
      ]
     },
     "metadata": {
      "needs_background": "light"
     },
     "output_type": "display_data"
    }
   ],
   "source": [
    "plt.imshow(som.cluster)"
   ]
  }
 ],
 "metadata": {
  "kernelspec": {
   "display_name": "Python 3",
   "language": "python",
   "name": "python3"
  },
  "language_info": {
   "codemirror_mode": {
    "name": "ipython",
    "version": 3
   },
   "file_extension": ".py",
   "mimetype": "text/x-python",
   "name": "python",
   "nbconvert_exporter": "python",
   "pygments_lexer": "ipython3",
   "version": "3.7.1"
  }
 },
 "nbformat": 4,
 "nbformat_minor": 2
}
