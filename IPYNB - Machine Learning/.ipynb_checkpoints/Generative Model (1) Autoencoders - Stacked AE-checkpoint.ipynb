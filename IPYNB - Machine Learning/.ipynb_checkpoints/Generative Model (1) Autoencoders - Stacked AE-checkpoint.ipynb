{
 "cells": [
  {
   "cell_type": "markdown",
   "metadata": {},
   "source": [
    "---\n",
    "# <CENTER><font color=\"indigo\">Generative Models: Autoencoders (AE)</font><br><small><b>STACKED AUTOENCODERS</b></small>\n",
    "---\n",
    "<font color=\"olive\">Prepared by **NICHOLAS DOMINIC**\n",
    "<br>Guided from *Aurélien Géron*'s **Hands-On Machine Learning with Scikit-Learn, Keras, and TensorFlow** (2nd ed., by O’Reilly Media, Inc.)\n",
    "<br>Powered by Interactive Python **Jupyter Notebook** (.ipynb), developed with **Python 3.7**"
   ]
  },
  {
   "cell_type": "markdown",
   "metadata": {},
   "source": [
    "> **BRIEF INTRODUCTION**<br>\n",
    "Generative model is capable of randomly generating new data that looks *very similar* to the training data. Simply put, the output is the input itself (same size). Therefore in this case, the output also called as **reconstruction**. Two types of generative model are: **Autoencoders (AE)** and **Generative Adversarial Networks (GAN)**."
   ]
  },
  {
   "cell_type": "code",
   "execution_count": 1,
   "metadata": {},
   "outputs": [],
   "source": [
    "import numpy as np\n",
    "from pandas import DataFrame as df\n",
    "from matplotlib import pyplot as plt\n",
    "import tensorflow as tf\n",
    "from tensorflow import keras"
   ]
  },
  {
   "cell_type": "code",
   "execution_count": 2,
   "metadata": {},
   "outputs": [
    {
     "data": {
      "text/plain": [
       "('1.18.2', '2.2.0', '2.3.0-tf')"
      ]
     },
     "execution_count": 2,
     "metadata": {},
     "output_type": "execute_result"
    }
   ],
   "source": [
    "np.__version__, tf.__version__, keras.__version__"
   ]
  },
  {
   "cell_type": "markdown",
   "metadata": {},
   "source": [
    "## Fashion-MNIST Dataset Loading, Normalization, and Split"
   ]
  },
  {
   "cell_type": "code",
   "execution_count": 3,
   "metadata": {},
   "outputs": [
    {
     "name": "stdout",
     "output_type": "stream",
     "text": [
      "Image Dimension: (28, 28)\n",
      "x_train: (55000, 28, 28) y_train: (55000,)\n",
      "x_val: (5000, 28, 28) y_val: (5000,)\n",
      "x_test: (10000, 28, 28) y_test: (10000,)\n"
     ]
    }
   ],
   "source": [
    "# Load the dataset from Keras\n",
    "(x_train, y_train), (x_test, y_test) = keras.datasets.fashion_mnist.load_data()\n",
    "\n",
    "# Normalize by dividing them by 255 (maximum number of 1-bit pixels)\n",
    "x_train = x_train.astype(np.float32) / 255\n",
    "x_test = x_test.astype(np.float32) / 255\n",
    "\n",
    "# Get validation data from train data\n",
    "x_train, x_val = x_train[:-5000], x_train[-5000:]\n",
    "y_train, y_val = y_train[:-5000], y_train[-5000:]\n",
    "\n",
    "# Show the shape of each\n",
    "print(\"Image Dimension: {}\".format(x_train.shape[1:]))\n",
    "print(\"x_train: {} y_train: {}\".format(x_train.shape, y_train.shape))\n",
    "print(\"x_val: {} y_val: {}\".format(x_val.shape, y_val.shape))\n",
    "print(\"x_test: {} y_test: {}\".format(x_test.shape, y_test.shape))"
   ]
  },
  {
   "cell_type": "markdown",
   "metadata": {},
   "source": [
    "## User-defined Functions"
   ]
  },
  {
   "cell_type": "code",
   "execution_count": 4,
   "metadata": {},
   "outputs": [],
   "source": [
    "# Custom metrics (how to build it, see on https://keras.io/api/metrics/#creating-custom-metrics)\n",
    "def rounded_accuracy(y_true, y_pred):\n",
    "    return keras.metrics.binary_accuracy(tf.round(y_true), tf.round(y_pred))"
   ]
  },
  {
   "cell_type": "code",
   "execution_count": 5,
   "metadata": {},
   "outputs": [],
   "source": [
    "def plot_image(image):\n",
    "    plt.imshow(image, cmap=\"binary\")\n",
    "    plt.axis(\"off\")"
   ]
  },
  {
   "cell_type": "code",
   "execution_count": 6,
   "metadata": {},
   "outputs": [],
   "source": [
    "def show_reconstructions(model, images=x_val, n_images=5):\n",
    "    reconstructions = model.predict(images[:n_images])\n",
    "    fig = plt.figure(figsize=(n_images * 1.5, 3))\n",
    "    for image_index in range(n_images):\n",
    "        plt.subplot(2, n_images, 1 + image_index)\n",
    "        plot_image(images[image_index])\n",
    "        plt.subplot(2, n_images, 1 + n_images + image_index)\n",
    "        plot_image(reconstructions[image_index])"
   ]
  },
  {
   "cell_type": "markdown",
   "metadata": {},
   "source": [
    "* **Step 1: BUILD**"
   ]
  },
  {
   "cell_type": "code",
   "execution_count": 7,
   "metadata": {
    "scrolled": true
   },
   "outputs": [
    {
     "name": "stdout",
     "output_type": "stream",
     "text": [
      "Model: \"Encoder\"\n",
      "_________________________________________________________________\n",
      "Layer (type)                 Output Shape              Param #   \n",
      "=================================================================\n",
      "flatten (Flatten)            (None, 784)               0         \n",
      "_________________________________________________________________\n",
      "dense (Dense)                (None, 100)               78500     \n",
      "_________________________________________________________________\n",
      "dense_1 (Dense)              (None, 30)                3030      \n",
      "=================================================================\n",
      "Total params: 81,530\n",
      "Trainable params: 81,530\n",
      "Non-trainable params: 0\n",
      "_________________________________________________________________\n",
      "Model: \"Decoder\"\n",
      "_________________________________________________________________\n",
      "Layer (type)                 Output Shape              Param #   \n",
      "=================================================================\n",
      "dense_2 (Dense)              (None, 100)               3100      \n",
      "_________________________________________________________________\n",
      "dense_3 (Dense)              (None, 784)               79184     \n",
      "_________________________________________________________________\n",
      "reshape (Reshape)            (None, 28, 28)            0         \n",
      "=================================================================\n",
      "Total params: 82,284\n",
      "Trainable params: 82,284\n",
      "Non-trainable params: 0\n",
      "_________________________________________________________________\n",
      "Model: \"Stacked_Autoencoder\"\n",
      "_________________________________________________________________\n",
      "Layer (type)                 Output Shape              Param #   \n",
      "=================================================================\n",
      "Encoder (Sequential)         (None, 30)                81530     \n",
      "_________________________________________________________________\n",
      "Decoder (Sequential)         (None, 28, 28)            82284     \n",
      "=================================================================\n",
      "Total params: 163,814\n",
      "Trainable params: 163,814\n",
      "Non-trainable params: 0\n",
      "_________________________________________________________________\n"
     ]
    }
   ],
   "source": [
    "# Build the ENCODER\n",
    "encoder = keras.models.Sequential([\n",
    "    keras.layers.Flatten(input_shape=[28, 28]),\n",
    "    keras.layers.Dense(100, activation=\"selu\"),\n",
    "    keras.layers.Dense(30, activation=\"selu\"),\n",
    "], name=\"Encoder\")\n",
    "encoder.summary()\n",
    "\n",
    "# Build the DECODER\n",
    "decoder = keras.models.Sequential([\n",
    "    keras.layers.Dense(100, activation=\"selu\", input_shape=[30]),\n",
    "    keras.layers.Dense(28 * 28, activation=\"sigmoid\"),\n",
    "    keras.layers.Reshape([28, 28])\n",
    "], name=\"Decoder\")\n",
    "decoder.summary()\n",
    "\n",
    "# Join both to generate STACKED AUTOENCODER\n",
    "stacked_ae = keras.models.Sequential([encoder, decoder], name=\"Stacked_Autoencoder\")\n",
    "stacked_ae.summary()"
   ]
  },
  {
   "cell_type": "markdown",
   "metadata": {},
   "source": [
    "* **Step 2: COMPILE**"
   ]
  },
  {
   "cell_type": "code",
   "execution_count": 8,
   "metadata": {},
   "outputs": [],
   "source": [
    "stacked_ae.compile(\n",
    "    loss=\"binary_crossentropy\",\n",
    "    optimizer=keras.optimizers.SGD(lr=1e-3),\n",
    "    metrics=[rounded_accuracy]\n",
    ")"
   ]
  },
  {
   "cell_type": "markdown",
   "metadata": {},
   "source": [
    "* **Step 3: FIT / TRAIN**"
   ]
  },
  {
   "cell_type": "code",
   "execution_count": 9,
   "metadata": {
    "scrolled": true
   },
   "outputs": [
    {
     "name": "stdout",
     "output_type": "stream",
     "text": [
      "Epoch 1/20\n",
      "55000/55000 [==============================] - 65s 1ms/step - loss: 0.5740 - rounded_accuracy: 0.6844 - val_loss: 0.4964 - val_rounded_accuracy: 0.7423\n",
      "Epoch 2/20\n",
      "55000/55000 [==============================] - 60s 1ms/step - loss: 0.4731 - rounded_accuracy: 0.7685 - val_loss: 0.4442 - val_rounded_accuracy: 0.7970\n",
      "Epoch 3/20\n",
      "55000/55000 [==============================] - 65s 1ms/step - loss: 0.4073 - rounded_accuracy: 0.8272 - val_loss: 0.3868 - val_rounded_accuracy: 0.8452\n",
      "Epoch 4/20\n",
      "55000/55000 [==============================] - 67s 1ms/step - loss: 0.3766 - rounded_accuracy: 0.8530 - val_loss: 0.3742 - val_rounded_accuracy: 0.8565\n",
      "Epoch 5/20\n",
      "55000/55000 [==============================] - 69s 1ms/step - loss: 0.3682 - rounded_accuracy: 0.8613 - val_loss: 0.3677 - val_rounded_accuracy: 0.8635\n",
      "Epoch 6/20\n",
      "55000/55000 [==============================] - 68s 1ms/step - loss: 0.3618 - rounded_accuracy: 0.8680 - val_loss: 0.3612 - val_rounded_accuracy: 0.8703\n",
      "Epoch 7/20\n",
      "55000/55000 [==============================] - 69s 1ms/step - loss: 0.3553 - rounded_accuracy: 0.8745 - val_loss: 0.3550 - val_rounded_accuracy: 0.8762\n",
      "Epoch 8/20\n",
      "55000/55000 [==============================] - 66s 1ms/step - loss: 0.3496 - rounded_accuracy: 0.8795 - val_loss: 0.3501 - val_rounded_accuracy: 0.8803\n",
      "Epoch 9/20\n",
      "55000/55000 [==============================] - 68s 1ms/step - loss: 0.3456 - rounded_accuracy: 0.8829 - val_loss: 0.3468 - val_rounded_accuracy: 0.8828\n",
      "Epoch 10/20\n",
      "55000/55000 [==============================] - 65s 1ms/step - loss: 0.3427 - rounded_accuracy: 0.8851 - val_loss: 0.3443 - val_rounded_accuracy: 0.8849\n",
      "Epoch 11/20\n",
      "55000/55000 [==============================] - 65s 1ms/step - loss: 0.3405 - rounded_accuracy: 0.8869 - val_loss: 0.3421 - val_rounded_accuracy: 0.8868\n",
      "Epoch 12/20\n",
      "55000/55000 [==============================] - 66s 1ms/step - loss: 0.3383 - rounded_accuracy: 0.8886 - val_loss: 0.3398 - val_rounded_accuracy: 0.8885\n",
      "Epoch 13/20\n",
      "55000/55000 [==============================] - 66s 1ms/step - loss: 0.3360 - rounded_accuracy: 0.8906 - val_loss: 0.3373 - val_rounded_accuracy: 0.8907\n",
      "Epoch 14/20\n",
      "55000/55000 [==============================] - 64s 1ms/step - loss: 0.3334 - rounded_accuracy: 0.8927 - val_loss: 0.3346 - val_rounded_accuracy: 0.8933\n",
      "Epoch 15/20\n",
      "55000/55000 [==============================] - 64s 1ms/step - loss: 0.3308 - rounded_accuracy: 0.8950 - val_loss: 0.3319 - val_rounded_accuracy: 0.8955\n",
      "Epoch 16/20\n",
      "55000/55000 [==============================] - 65s 1ms/step - loss: 0.3282 - rounded_accuracy: 0.8971 - val_loss: 0.3294 - val_rounded_accuracy: 0.8978\n",
      "Epoch 17/20\n",
      "55000/55000 [==============================] - 65s 1ms/step - loss: 0.3261 - rounded_accuracy: 0.8989 - val_loss: 0.3274 - val_rounded_accuracy: 0.8992\n",
      "Epoch 18/20\n",
      "55000/55000 [==============================] - 65s 1ms/step - loss: 0.3243 - rounded_accuracy: 0.9003 - val_loss: 0.3258 - val_rounded_accuracy: 0.9004\n",
      "Epoch 19/20\n",
      "55000/55000 [==============================] - 63s 1ms/step - loss: 0.3229 - rounded_accuracy: 0.9015 - val_loss: 0.3245 - val_rounded_accuracy: 0.9019\n",
      "Epoch 20/20\n",
      "55000/55000 [==============================] - 64s 1ms/step - loss: 0.3217 - rounded_accuracy: 0.9024 - val_loss: 0.3234 - val_rounded_accuracy: 0.9025\n"
     ]
    }
   ],
   "source": [
    "stacked_ae_history = stacked_ae.fit(x_train, x_train, epochs=20, batch_size=1, validation_data=(x_val, x_val))"
   ]
  },
  {
   "cell_type": "code",
   "execution_count": 10,
   "metadata": {
    "scrolled": true
   },
   "outputs": [
    {
     "data": {
      "text/plain": [
       "Text(0, 0.5, 'Scores')"
      ]
     },
     "execution_count": 10,
     "metadata": {},
     "output_type": "execute_result"
    },
    {
     "data": {
      "image/png": "[encoded data removed]",
      "text/plain": [
       "<Figure size 576x360 with 1 Axes>"
      ]
     },
     "metadata": {
      "needs_background": "light"
     },
     "output_type": "display_data"
    }
   ],
   "source": [
    "df(stacked_ae_history.history).plot(figsize=(8, 5))\n",
    "plt.grid(True)\n",
    "plt.xlabel(\"Epochs\")\n",
    "plt.ylabel(\"Scores\")"
   ]
  },
  {
   "cell_type": "markdown",
   "metadata": {},
   "source": [
    "* **Step 4: EVALUATE**"
   ]
  },
  {
   "cell_type": "code",
   "execution_count": 13,
   "metadata": {},
   "outputs": [
    {
     "name": "stdout",
     "output_type": "stream",
     "text": [
      "10000/10000 [==============================] - 22s 2ms/step - loss: 0.3232 - rounded_accuracy: 0.9019\n"
     ]
    },
    {
     "data": {
      "text/plain": [
       "[0.32322943210601807, 0.9019267559051514]"
      ]
     },
     "execution_count": 13,
     "metadata": {},
     "output_type": "execute_result"
    }
   ],
   "source": [
    "stacked_ae.evaluate(x_test, x_test, batch_size=1)"
   ]
  },
  {
   "cell_type": "markdown",
   "metadata": {},
   "source": [
    "* **Step 5: PREDICTION**\n",
    "<br> The first rows denote real images, while the second reconstructed images from Stacked AE."
   ]
  },
  {
   "cell_type": "code",
   "execution_count": 12,
   "metadata": {},
   "outputs": [
    {
     "data": {
      "image/png": "[encoded data removed]",
      "text/plain": [
       "<Figure size 540x216 with 10 Axes>"
      ]
     },
     "metadata": {
      "needs_background": "light"
     },
     "output_type": "display_data"
    }
   ],
   "source": [
    "show_reconstructions(stacked_ae)"
   ]
  }
 ],
 "metadata": {
  "kernelspec": {
   "display_name": "Python 3",
   "language": "python",
   "name": "python3"
  },
  "language_info": {
   "codemirror_mode": {
    "name": "ipython",
    "version": 3
   },
   "file_extension": ".py",
   "mimetype": "text/x-python",
   "name": "python",
   "nbconvert_exporter": "python",
   "pygments_lexer": "ipython3",
   "version": "3.7.1"
  }
 },
 "nbformat": 4,
 "nbformat_minor": 2
}
