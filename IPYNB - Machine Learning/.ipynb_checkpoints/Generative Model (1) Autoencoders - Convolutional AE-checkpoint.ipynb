{
 "cells": [
  {
   "cell_type": "markdown",
   "metadata": {},
   "source": [
    "---\n",
    "# <CENTER><font color=\"indigo\">Generative Models: Autoencoders (AE)</font><br><small><b>CONVOLUTIONAL AUTOENCODERS</b></small>\n",
    "---\n",
    "<font color=\"olive\">Prepared by **NICHOLAS DOMINIC**\n",
    "<br>Guided from *Aurélien Géron*'s **Hands-On Machine Learning with Scikit-Learn, Keras, and TensorFlow** (2nd ed., by O’Reilly Media, Inc.)\n",
    "<br>Powered by Interactive Python **Jupyter Notebook** (.ipynb), developed with **Python 3.7**"
   ]
  },
  {
   "cell_type": "markdown",
   "metadata": {},
   "source": [
    "> **BRIEF INTRODUCTION**<br>\n",
    "Generative model is capable of randomly generating new data that looks *very similar* to the training data. Simply put, the output is the input itself (same size). Therefore in this case, the output also called as **reconstruction**. Two types of generative model are: **Autoencoders (AE)** and **Generative Adversarial Networks (GAN)**."
   ]
  },
  {
   "cell_type": "code",
   "execution_count": 1,
   "metadata": {},
   "outputs": [],
   "source": [
    "import numpy as np\n",
    "from pandas import DataFrame as df\n",
    "from matplotlib import pyplot as plt\n",
    "import tensorflow as tf\n",
    "from tensorflow import keras"
   ]
  },
  {
   "cell_type": "code",
   "execution_count": 2,
   "metadata": {},
   "outputs": [
    {
     "data": {
      "text/plain": [
       "('1.18.2', '2.2.0', '2.3.0-tf')"
      ]
     },
     "execution_count": 2,
     "metadata": {},
     "output_type": "execute_result"
    }
   ],
   "source": [
    "np.__version__, tf.__version__, keras.__version__"
   ]
  },
  {
   "cell_type": "markdown",
   "metadata": {},
   "source": [
    "## Fashion-MNIST Dataset Loading, Normalization, and Split"
   ]
  },
  {
   "cell_type": "code",
   "execution_count": 3,
   "metadata": {},
   "outputs": [
    {
     "name": "stdout",
     "output_type": "stream",
     "text": [
      "Image Dimension: (28, 28)\n",
      "x_train: (55000, 28, 28) y_train: (55000,)\n",
      "x_val: (5000, 28, 28) y_val: (5000,)\n",
      "x_test: (10000, 28, 28) y_test: (10000,)\n"
     ]
    }
   ],
   "source": [
    "# Load the dataset from Keras\n",
    "(x_train, y_train), (x_test, y_test) = keras.datasets.fashion_mnist.load_data()\n",
    "\n",
    "# Normalize by dividing them by 255 (maximum number of 1-bit pixels)\n",
    "x_train = x_train.astype(np.float32) / 255\n",
    "x_test = x_test.astype(np.float32) / 255\n",
    "\n",
    "# Get validation data from train data\n",
    "x_train, x_val = x_train[:-5000], x_train[-5000:]\n",
    "y_train, y_val = y_train[:-5000], y_train[-5000:]\n",
    "\n",
    "# Show the shape of each\n",
    "print(\"Image Dimension: {}\".format(x_train.shape[1:]))\n",
    "print(\"x_train: {} y_train: {}\".format(x_train.shape, y_train.shape))\n",
    "print(\"x_val: {} y_val: {}\".format(x_val.shape, y_val.shape))\n",
    "print(\"x_test: {} y_test: {}\".format(x_test.shape, y_test.shape))"
   ]
  },
  {
   "cell_type": "markdown",
   "metadata": {},
   "source": [
    "## User-defined Functions"
   ]
  },
  {
   "cell_type": "code",
   "execution_count": 4,
   "metadata": {},
   "outputs": [],
   "source": [
    "# Custom metrics (how to build it, see on https://keras.io/api/metrics/#creating-custom-metrics)\n",
    "def rounded_accuracy(y_true, y_pred):\n",
    "    return keras.metrics.binary_accuracy(tf.round(y_true), tf.round(y_pred))"
   ]
  },
  {
   "cell_type": "code",
   "execution_count": 5,
   "metadata": {},
   "outputs": [],
   "source": [
    "def plot_image(image):\n",
    "    plt.imshow(image, cmap=\"binary\")\n",
    "    plt.axis(\"off\")"
   ]
  },
  {
   "cell_type": "code",
   "execution_count": 6,
   "metadata": {},
   "outputs": [],
   "source": [
    "def show_reconstructions(model, images=x_val, n_images=5):\n",
    "    reconstructions = model.predict(images[:n_images])\n",
    "    fig = plt.figure(figsize=(n_images * 1.5, 3))\n",
    "    for image_index in range(n_images):\n",
    "        plt.subplot(2, n_images, 1 + image_index)\n",
    "        plot_image(images[image_index])\n",
    "        plt.subplot(2, n_images, 1 + n_images + image_index)\n",
    "        plot_image(reconstructions[image_index])"
   ]
  },
  {
   "cell_type": "markdown",
   "metadata": {},
   "source": [
    "* **Step 1: BUILD**"
   ]
  },
  {
   "cell_type": "code",
   "execution_count": 7,
   "metadata": {
    "scrolled": true
   },
   "outputs": [
    {
     "name": "stdout",
     "output_type": "stream",
     "text": [
      "Model: \"Encoder\"\n",
      "_________________________________________________________________\n",
      "Layer (type)                 Output Shape              Param #   \n",
      "=================================================================\n",
      "reshape (Reshape)            (None, 28, 28, 1)         0         \n",
      "_________________________________________________________________\n",
      "conv2d (Conv2D)              (None, 28, 28, 16)        160       \n",
      "_________________________________________________________________\n",
      "max_pooling2d (MaxPooling2D) (None, 14, 14, 16)        0         \n",
      "_________________________________________________________________\n",
      "conv2d_1 (Conv2D)            (None, 14, 14, 32)        4640      \n",
      "_________________________________________________________________\n",
      "max_pooling2d_1 (MaxPooling2 (None, 7, 7, 32)          0         \n",
      "_________________________________________________________________\n",
      "conv2d_2 (Conv2D)            (None, 7, 7, 64)          18496     \n",
      "_________________________________________________________________\n",
      "max_pooling2d_2 (MaxPooling2 (None, 3, 3, 64)          0         \n",
      "=================================================================\n",
      "Total params: 23,296\n",
      "Trainable params: 23,296\n",
      "Non-trainable params: 0\n",
      "_________________________________________________________________\n",
      "Model: \"Decoder\"\n",
      "_________________________________________________________________\n",
      "Layer (type)                 Output Shape              Param #   \n",
      "=================================================================\n",
      "conv2d_transpose (Conv2DTran (None, 7, 7, 32)          18464     \n",
      "_________________________________________________________________\n",
      "conv2d_transpose_1 (Conv2DTr (None, 14, 14, 16)        4624      \n",
      "_________________________________________________________________\n",
      "conv2d_transpose_2 (Conv2DTr (None, 28, 28, 1)         145       \n",
      "_________________________________________________________________\n",
      "reshape_1 (Reshape)          (None, 28, 28)            0         \n",
      "=================================================================\n",
      "Total params: 23,233\n",
      "Trainable params: 23,233\n",
      "Non-trainable params: 0\n",
      "_________________________________________________________________\n",
      "Model: \"Convolutional_Autoencoder\"\n",
      "_________________________________________________________________\n",
      "Layer (type)                 Output Shape              Param #   \n",
      "=================================================================\n",
      "Encoder (Sequential)         (None, 3, 3, 64)          23296     \n",
      "_________________________________________________________________\n",
      "Decoder (Sequential)         (None, 28, 28)            23233     \n",
      "=================================================================\n",
      "Total params: 46,529\n",
      "Trainable params: 46,529\n",
      "Non-trainable params: 0\n",
      "_________________________________________________________________\n"
     ]
    }
   ],
   "source": [
    "# Build the ENCODER\n",
    "encoder = keras.models.Sequential([\n",
    "    keras.layers.Reshape([28, 28, 1], input_shape=[28, 28]),\n",
    "    keras.layers.Conv2D(16, kernel_size=3, padding=\"SAME\", activation=\"selu\"),\n",
    "    keras.layers.MaxPool2D(pool_size=2),\n",
    "    keras.layers.Conv2D(32, kernel_size=3, padding=\"SAME\", activation=\"selu\"),\n",
    "    keras.layers.MaxPool2D(pool_size=2),\n",
    "    keras.layers.Conv2D(64, kernel_size=3, padding=\"SAME\", activation=\"selu\"),\n",
    "    keras.layers.MaxPool2D(pool_size=2)\n",
    "], name=\"Encoder\")\n",
    "encoder.summary()\n",
    "\n",
    "# Build the DECODER\n",
    "decoder = keras.models.Sequential([\n",
    "    keras.layers.Conv2DTranspose(32, kernel_size=3, strides=2, padding=\"VALID\", activation=\"selu\", input_shape=[3, 3, 64]),\n",
    "    keras.layers.Conv2DTranspose(16, kernel_size=3, strides=2, padding=\"SAME\", activation=\"selu\"),\n",
    "    keras.layers.Conv2DTranspose(1, kernel_size=3, strides=2, padding=\"SAME\", activation=\"sigmoid\"),\n",
    "    keras.layers.Reshape([28, 28])\n",
    "], name=\"Decoder\")\n",
    "decoder.summary()\n",
    "\n",
    "# Join both to generate CONVOLUTIONAL AUTOENCODER\n",
    "conv_ae = keras.models.Sequential([encoder, decoder], name=\"Convolutional_Autoencoder\")\n",
    "conv_ae.summary()"
   ]
  },
  {
   "cell_type": "markdown",
   "metadata": {},
   "source": [
    "* **Step 2: COMPILE**"
   ]
  },
  {
   "cell_type": "code",
   "execution_count": 8,
   "metadata": {},
   "outputs": [],
   "source": [
    "conv_ae.compile(\n",
    "    loss=\"binary_crossentropy\",\n",
    "    optimizer=keras.optimizers.SGD(lr=1e-3),\n",
    "    metrics=[rounded_accuracy]\n",
    ")"
   ]
  },
  {
   "cell_type": "markdown",
   "metadata": {},
   "source": [
    "* **Step 3: FIT / TRAIN**"
   ]
  },
  {
   "cell_type": "code",
   "execution_count": 9,
   "metadata": {
    "scrolled": true
   },
   "outputs": [
    {
     "name": "stdout",
     "output_type": "stream",
     "text": [
      "Epoch 1/20\n",
      "55000/55000 [==============================] - 369s 7ms/step - loss: 0.4435 - rounded_accuracy: 0.8105 - val_loss: 0.3498 - val_rounded_accuracy: 0.8833\n",
      "Epoch 2/20\n",
      "55000/55000 [==============================] - 326s 6ms/step - loss: 0.3321 - rounded_accuracy: 0.8976 - val_loss: 0.3225 - val_rounded_accuracy: 0.9072\n",
      "Epoch 3/20\n",
      "55000/55000 [==============================] - 345s 6ms/step - loss: 0.3139 - rounded_accuracy: 0.9128 - val_loss: 0.3102 - val_rounded_accuracy: 0.9171\n",
      "Epoch 4/20\n",
      "55000/55000 [==============================] - 336s 6ms/step - loss: 0.3046 - rounded_accuracy: 0.9191 - val_loss: 0.3031 - val_rounded_accuracy: 0.9215\n",
      "Epoch 5/20\n",
      "55000/55000 [==============================] - 346s 6ms/step - loss: 0.2993 - rounded_accuracy: 0.9227 - val_loss: 0.2989 - val_rounded_accuracy: 0.9237\n",
      "Epoch 6/20\n",
      "55000/55000 [==============================] - 338s 6ms/step - loss: 0.2957 - rounded_accuracy: 0.9253 - val_loss: 0.2958 - val_rounded_accuracy: 0.9262\n",
      "Epoch 7/20\n",
      "55000/55000 [==============================] - 340s 6ms/step - loss: 0.2930 - rounded_accuracy: 0.9273 - val_loss: 0.2933 - val_rounded_accuracy: 0.9287\n",
      "Epoch 8/20\n",
      "55000/55000 [==============================] - 340s 6ms/step - loss: 0.2907 - rounded_accuracy: 0.9292 - val_loss: 0.2912 - val_rounded_accuracy: 0.9298\n",
      "Epoch 9/20\n",
      "55000/55000 [==============================] - 281s 5ms/step - loss: 0.2888 - rounded_accuracy: 0.9307 - val_loss: 0.2894 - val_rounded_accuracy: 0.9312\n",
      "Epoch 10/20\n",
      "55000/55000 [==============================] - 197s 4ms/step - loss: 0.2872 - rounded_accuracy: 0.9321 - val_loss: 0.2878 - val_rounded_accuracy: 0.9326\n",
      "Epoch 11/20\n",
      "55000/55000 [==============================] - 196s 4ms/step - loss: 0.2858 - rounded_accuracy: 0.9333 - val_loss: 0.2865 - val_rounded_accuracy: 0.9339\n",
      "Epoch 12/20\n",
      "55000/55000 [==============================] - 201s 4ms/step - loss: 0.2845 - rounded_accuracy: 0.9344 - val_loss: 0.2853 - val_rounded_accuracy: 0.9351\n",
      "Epoch 13/20\n",
      "55000/55000 [==============================] - 209s 4ms/step - loss: 0.2835 - rounded_accuracy: 0.9354 - val_loss: 0.2843 - val_rounded_accuracy: 0.9362\n",
      "Epoch 14/20\n",
      "55000/55000 [==============================] - 211s 4ms/step - loss: 0.2825 - rounded_accuracy: 0.9362 - val_loss: 0.2834 - val_rounded_accuracy: 0.9368\n",
      "Epoch 15/20\n",
      "55000/55000 [==============================] - 313s 6ms/step - loss: 0.2817 - rounded_accuracy: 0.9370 - val_loss: 0.2826 - val_rounded_accuracy: 0.9372\n",
      "Epoch 16/20\n",
      "55000/55000 [==============================] - 389s 7ms/step - loss: 0.2809 - rounded_accuracy: 0.9377 - val_loss: 0.2819 - val_rounded_accuracy: 0.9386\n",
      "Epoch 17/20\n",
      "55000/55000 [==============================] - 398s 7ms/step - loss: 0.2802 - rounded_accuracy: 0.9384 - val_loss: 0.2812 - val_rounded_accuracy: 0.9390\n",
      "Epoch 18/20\n",
      "55000/55000 [==============================] - 398s 7ms/step - loss: 0.2795 - rounded_accuracy: 0.9390 - val_loss: 0.2806 - val_rounded_accuracy: 0.9390\n",
      "Epoch 19/20\n",
      "55000/55000 [==============================] - 409s 7ms/step - loss: 0.2789 - rounded_accuracy: 0.9395 - val_loss: 0.2800 - val_rounded_accuracy: 0.9399\n",
      "Epoch 20/20\n",
      "55000/55000 [==============================] - 401s 7ms/step - loss: 0.2784 - rounded_accuracy: 0.9400 - val_loss: 0.2795 - val_rounded_accuracy: 0.9404\n"
     ]
    }
   ],
   "source": [
    "conv_ae_history = conv_ae.fit(x_train, x_train, epochs=20, batch_size=1, validation_data=(x_val, x_val))"
   ]
  },
  {
   "cell_type": "code",
   "execution_count": 10,
   "metadata": {
    "scrolled": true
   },
   "outputs": [
    {
     "data": {
      "text/plain": [
       "Text(0, 0.5, 'Scores')"
      ]
     },
     "execution_count": 10,
     "metadata": {},
     "output_type": "execute_result"
    },
    {
     "data": {
      "image/png": "[encoded data removed]",
      "text/plain": [
       "<Figure size 576x360 with 1 Axes>"
      ]
     },
     "metadata": {
      "needs_background": "light"
     },
     "output_type": "display_data"
    }
   ],
   "source": [
    "df(conv_ae_history.history).plot(figsize=(8, 5))\n",
    "plt.grid(True)\n",
    "plt.xlabel(\"Epochs\")\n",
    "plt.ylabel(\"Scores\")"
   ]
  },
  {
   "cell_type": "markdown",
   "metadata": {},
   "source": [
    "* **Step 4: EVALUATE**"
   ]
  },
  {
   "cell_type": "code",
   "execution_count": 11,
   "metadata": {},
   "outputs": [
    {
     "name": "stdout",
     "output_type": "stream",
     "text": [
      "10000/10000 [==============================] - 34s 3ms/step - loss: 0.2803 - rounded_accuracy: 0.9393\n"
     ]
    },
    {
     "data": {
      "text/plain": [
       "[0.28033342957496643, 0.9392534494400024]"
      ]
     },
     "execution_count": 11,
     "metadata": {},
     "output_type": "execute_result"
    }
   ],
   "source": [
    "conv_ae.evaluate(x_test, x_test, batch_size=1)"
   ]
  },
  {
   "cell_type": "markdown",
   "metadata": {},
   "source": [
    "* **Step 5: PREDICTION**\n",
    "<br> The first rows denote real images, while the second reconstructed images from Convolutional AE."
   ]
  },
  {
   "cell_type": "code",
   "execution_count": 12,
   "metadata": {},
   "outputs": [
    {
     "data": {
      "image/png": "[encoded data removed]",
      "text/plain": [
       "<Figure size 540x216 with 10 Axes>"
      ]
     },
     "metadata": {
      "needs_background": "light"
     },
     "output_type": "display_data"
    }
   ],
   "source": [
    "show_reconstructions(conv_ae)"
   ]
  },
  {
   "cell_type": "code",
   "execution_count": 13,
   "metadata": {},
   "outputs": [],
   "source": [
    "conv_ae.save(\"model/conv_ae.h5\")"
   ]
  }
 ],
 "metadata": {
  "kernelspec": {
   "display_name": "Python 3",
   "language": "python",
   "name": "python3"
  },
  "language_info": {
   "codemirror_mode": {
    "name": "ipython",
    "version": 3
   },
   "file_extension": ".py",
   "mimetype": "text/x-python",
   "name": "python",
   "nbconvert_exporter": "python",
   "pygments_lexer": "ipython3",
   "version": "3.7.1"
  }
 },
 "nbformat": 4,
 "nbformat_minor": 2
}
