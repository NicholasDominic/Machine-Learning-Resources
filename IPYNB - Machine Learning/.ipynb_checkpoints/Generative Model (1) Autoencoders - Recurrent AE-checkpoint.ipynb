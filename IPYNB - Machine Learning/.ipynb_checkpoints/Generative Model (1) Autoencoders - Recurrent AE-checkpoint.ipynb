{
 "cells": [
  {
   "cell_type": "markdown",
   "metadata": {},
   "source": [
    "---\n",
    "# <CENTER><font color=\"indigo\">Generative Models: Autoencoders (AE)</font><br><small><b>RECURRENT AUTOENCODERS</b></small>\n",
    "---\n",
    "<font color=\"olive\">Prepared by **NICHOLAS DOMINIC**\n",
    "<br>Guided from *Aurélien Géron*'s **Hands-On Machine Learning with Scikit-Learn, Keras, and TensorFlow** (2nd ed., by O’Reilly Media, Inc.)\n",
    "<br>Powered by Interactive Python **Jupyter Notebook** (.ipynb), developed with **Python 3.7**"
   ]
  },
  {
   "cell_type": "markdown",
   "metadata": {},
   "source": [
    "> **BRIEF INTRODUCTION**<br>\n",
    "Generative model is capable of randomly generating new data that looks *very similar* to the training data. Simply put, the output is the input itself (same size). Therefore in this case, the output also called as **reconstruction**. Two types of generative model are: **Autoencoders (AE)** and **Generative Adversarial Networks (GAN)**."
   ]
  },
  {
   "cell_type": "code",
   "execution_count": 1,
   "metadata": {},
   "outputs": [],
   "source": [
    "import numpy as np\n",
    "from pandas import DataFrame as df\n",
    "from matplotlib import pyplot as plt\n",
    "import tensorflow as tf\n",
    "from tensorflow import keras"
   ]
  },
  {
   "cell_type": "code",
   "execution_count": 2,
   "metadata": {},
   "outputs": [
    {
     "data": {
      "text/plain": [
       "('1.18.2', '2.2.0', '2.3.0-tf')"
      ]
     },
     "execution_count": 2,
     "metadata": {},
     "output_type": "execute_result"
    }
   ],
   "source": [
    "np.__version__, tf.__version__, keras.__version__"
   ]
  },
  {
   "cell_type": "markdown",
   "metadata": {},
   "source": [
    "## Fashion-MNIST Dataset Loading, Normalization, and Split"
   ]
  },
  {
   "cell_type": "code",
   "execution_count": 3,
   "metadata": {},
   "outputs": [
    {
     "name": "stdout",
     "output_type": "stream",
     "text": [
      "Image Dimension: (28, 28)\n",
      "x_train: (55000, 28, 28) y_train: (55000,)\n",
      "x_val: (5000, 28, 28) y_val: (5000,)\n",
      "x_test: (10000, 28, 28) y_test: (10000,)\n"
     ]
    }
   ],
   "source": [
    "# Load the dataset from Keras\n",
    "(x_train, y_train), (x_test, y_test) = keras.datasets.fashion_mnist.load_data()\n",
    "\n",
    "# Normalize by dividing them by 255 (maximum number of 1-bit pixels)\n",
    "x_train = x_train.astype(np.float32) / 255\n",
    "x_test = x_test.astype(np.float32) / 255\n",
    "\n",
    "# Get validation data from train data\n",
    "x_train, x_val = x_train[:-5000], x_train[-5000:]\n",
    "y_train, y_val = y_train[:-5000], y_train[-5000:]\n",
    "\n",
    "# Show the shape of each\n",
    "print(\"Image Dimension: {}\".format(x_train.shape[1:]))\n",
    "print(\"x_train: {} y_train: {}\".format(x_train.shape, y_train.shape))\n",
    "print(\"x_val: {} y_val: {}\".format(x_val.shape, y_val.shape))\n",
    "print(\"x_test: {} y_test: {}\".format(x_test.shape, y_test.shape))"
   ]
  },
  {
   "cell_type": "markdown",
   "metadata": {},
   "source": [
    "## User-defined Functions"
   ]
  },
  {
   "cell_type": "code",
   "execution_count": 4,
   "metadata": {},
   "outputs": [],
   "source": [
    "# Custom metrics (how to build it, see on https://keras.io/api/metrics/#creating-custom-metrics)\n",
    "def rounded_accuracy(y_true, y_pred):\n",
    "    return keras.metrics.binary_accuracy(tf.round(y_true), tf.round(y_pred))"
   ]
  },
  {
   "cell_type": "code",
   "execution_count": 5,
   "metadata": {},
   "outputs": [],
   "source": [
    "def plot_image(image):\n",
    "    plt.imshow(image, cmap=\"binary\")\n",
    "    plt.axis(\"off\")"
   ]
  },
  {
   "cell_type": "code",
   "execution_count": 6,
   "metadata": {},
   "outputs": [],
   "source": [
    "def show_reconstructions(model, images=x_val, n_images=5):\n",
    "    reconstructions = model.predict(images[:n_images])\n",
    "    fig = plt.figure(figsize=(n_images * 1.5, 3))\n",
    "    for image_index in range(n_images):\n",
    "        plt.subplot(2, n_images, 1 + image_index)\n",
    "        plot_image(images[image_index])\n",
    "        plt.subplot(2, n_images, 1 + n_images + image_index)\n",
    "        plot_image(reconstructions[image_index])"
   ]
  },
  {
   "cell_type": "markdown",
   "metadata": {},
   "source": [
    "* **Step 1: BUILD**"
   ]
  },
  {
   "cell_type": "code",
   "execution_count": 7,
   "metadata": {
    "scrolled": true
   },
   "outputs": [
    {
     "name": "stdout",
     "output_type": "stream",
     "text": [
      "Model: \"Encoder\"\n",
      "_________________________________________________________________\n",
      "Layer (type)                 Output Shape              Param #   \n",
      "=================================================================\n",
      "lstm (LSTM)                  (None, 28, 100)           51600     \n",
      "_________________________________________________________________\n",
      "lstm_1 (LSTM)                (None, 30)                15720     \n",
      "=================================================================\n",
      "Total params: 67,320\n",
      "Trainable params: 67,320\n",
      "Non-trainable params: 0\n",
      "_________________________________________________________________\n",
      "Model: \"Decoder\"\n",
      "_________________________________________________________________\n",
      "Layer (type)                 Output Shape              Param #   \n",
      "=================================================================\n",
      "repeat_vector (RepeatVector) (None, 28, 30)            0         \n",
      "_________________________________________________________________\n",
      "lstm_2 (LSTM)                (None, 28, 100)           52400     \n",
      "_________________________________________________________________\n",
      "time_distributed (TimeDistri (None, 28, 28)            2828      \n",
      "=================================================================\n",
      "Total params: 55,228\n",
      "Trainable params: 55,228\n",
      "Non-trainable params: 0\n",
      "_________________________________________________________________\n",
      "Model: \"Recurrent_Autoencoder\"\n",
      "_________________________________________________________________\n",
      "Layer (type)                 Output Shape              Param #   \n",
      "=================================================================\n",
      "Encoder (Sequential)         (None, 30)                67320     \n",
      "_________________________________________________________________\n",
      "Decoder (Sequential)         (None, 28, 28)            55228     \n",
      "=================================================================\n",
      "Total params: 122,548\n",
      "Trainable params: 122,548\n",
      "Non-trainable params: 0\n",
      "_________________________________________________________________\n"
     ]
    }
   ],
   "source": [
    "# Build the ENCODER\n",
    "encoder = keras.models.Sequential([\n",
    "    keras.layers.LSTM(100, return_sequences=True, input_shape=[28, 28]),\n",
    "    keras.layers.LSTM(30)\n",
    "], name=\"Encoder\")\n",
    "encoder.summary()\n",
    "\n",
    "# Build the DECODER\n",
    "decoder = keras.models.Sequential([\n",
    "    keras.layers.RepeatVector(28, input_shape=[30]),\n",
    "    keras.layers.LSTM(100, return_sequences=True),\n",
    "    keras.layers.TimeDistributed(keras.layers.Dense(28, activation=\"sigmoid\"))\n",
    "], name=\"Decoder\")\n",
    "decoder.summary()\n",
    "\n",
    "# Join both to generate RECURRENT AUTOENCODER\n",
    "recur_ae = keras.models.Sequential([encoder, decoder], name=\"Recurrent_Autoencoder\")\n",
    "recur_ae.summary()"
   ]
  },
  {
   "cell_type": "markdown",
   "metadata": {},
   "source": [
    "* **Step 2: COMPILE**"
   ]
  },
  {
   "cell_type": "code",
   "execution_count": 8,
   "metadata": {},
   "outputs": [],
   "source": [
    "recur_ae.compile(\n",
    "    loss=\"binary_crossentropy\",\n",
    "    optimizer=keras.optimizers.SGD(lr=1e-3),\n",
    "    metrics=[rounded_accuracy]\n",
    ")"
   ]
  },
  {
   "cell_type": "markdown",
   "metadata": {},
   "source": [
    "* **Step 3: FIT / TRAIN**"
   ]
  },
  {
   "cell_type": "code",
   "execution_count": 9,
   "metadata": {
    "scrolled": true
   },
   "outputs": [
    {
     "name": "stdout",
     "output_type": "stream",
     "text": [
      "Epoch 1/20\n",
      "55000/55000 [==============================] - 1868s 34ms/step - loss: 0.5662 - rounded_accuracy: 0.6919 - val_loss: 0.5343 - val_rounded_accuracy: 0.7003\n",
      "Epoch 2/20\n",
      "55000/55000 [==============================] - 1553s 28ms/step - loss: 0.5263 - rounded_accuracy: 0.7199 - val_loss: 0.5124 - val_rounded_accuracy: 0.7680\n",
      "Epoch 3/20\n",
      "55000/55000 [==============================] - 1756s 32ms/step - loss: 0.4812 - rounded_accuracy: 0.7941 - val_loss: 0.4562 - val_rounded_accuracy: 0.8116\n",
      "Epoch 4/20\n",
      "55000/55000 [==============================] - 2740s 50ms/step - loss: 0.4413 - rounded_accuracy: 0.8201 - val_loss: 0.4312 - val_rounded_accuracy: 0.8241\n",
      "Epoch 5/20\n",
      "55000/55000 [==============================] - 1752s 32ms/step - loss: 0.4149 - rounded_accuracy: 0.8331 - val_loss: 0.3991 - val_rounded_accuracy: 0.8443\n",
      "Epoch 6/20\n",
      "55000/55000 [==============================] - 954s 17ms/step - loss: 0.3855 - rounded_accuracy: 0.8554 - val_loss: 0.3776 - val_rounded_accuracy: 0.8618\n",
      "Epoch 7/20\n",
      "55000/55000 [==============================] - 954s 17ms/step - loss: 0.3694 - rounded_accuracy: 0.8679 - val_loss: 0.3664 - val_rounded_accuracy: 0.8717\n",
      "Epoch 8/20\n",
      "55000/55000 [==============================] - 973s 18ms/step - loss: 0.3609 - rounded_accuracy: 0.8750 - val_loss: 0.3599 - val_rounded_accuracy: 0.8762\n",
      "Epoch 9/20\n",
      "55000/55000 [==============================] - 919s 17ms/step - loss: 0.3550 - rounded_accuracy: 0.8796 - val_loss: 0.3547 - val_rounded_accuracy: 0.8815\n",
      "Epoch 10/20\n",
      "55000/55000 [==============================] - 823s 15ms/step - loss: 0.3501 - rounded_accuracy: 0.8829 - val_loss: 0.3508 - val_rounded_accuracy: 0.8828\n",
      "Epoch 11/20\n",
      "55000/55000 [==============================] - 811s 15ms/step - loss: 0.3459 - rounded_accuracy: 0.8857 - val_loss: 0.3458 - val_rounded_accuracy: 0.8868\n",
      "Epoch 12/20\n",
      "55000/55000 [==============================] - 808s 15ms/step - loss: 0.3418 - rounded_accuracy: 0.8884 - val_loss: 0.3417 - val_rounded_accuracy: 0.8899\n",
      "Epoch 13/20\n",
      "55000/55000 [==============================] - 806s 15ms/step - loss: 0.3379 - rounded_accuracy: 0.8912 - val_loss: 0.3385 - val_rounded_accuracy: 0.8913\n",
      "Epoch 14/20\n",
      "55000/55000 [==============================] - 806s 15ms/step - loss: 0.3343 - rounded_accuracy: 0.8937 - val_loss: 0.3364 - val_rounded_accuracy: 0.8949\n",
      "Epoch 15/20\n",
      "55000/55000 [==============================] - 2274s 41ms/step - loss: 0.3311 - rounded_accuracy: 0.8958 - val_loss: 0.3314 - val_rounded_accuracy: 0.8963\n",
      "Epoch 16/20\n",
      "55000/55000 [==============================] - 2851s 52ms/step - loss: 0.3284 - rounded_accuracy: 0.8977 - val_loss: 0.3288 - val_rounded_accuracy: 0.8986\n",
      "Epoch 17/20\n",
      "55000/55000 [==============================] - 3200s 58ms/step - loss: 0.3261 - rounded_accuracy: 0.8991 - val_loss: 0.3269 - val_rounded_accuracy: 0.9000\n",
      "Epoch 18/20\n",
      "55000/55000 [==============================] - 816s 15ms/step - loss: 0.3242 - rounded_accuracy: 0.9003 - val_loss: 0.3249 - val_rounded_accuracy: 0.9006\n",
      "Epoch 19/20\n",
      "55000/55000 [==============================] - 785s 14ms/step - loss: 0.3224 - rounded_accuracy: 0.9013 - val_loss: 0.3236 - val_rounded_accuracy: 0.9016\n",
      "Epoch 20/20\n",
      "55000/55000 [==============================] - 813s 15ms/step - loss: 0.3210 - rounded_accuracy: 0.9023 - val_loss: 0.3232 - val_rounded_accuracy: 0.9003\n"
     ]
    }
   ],
   "source": [
    "recur_ae_history = recur_ae.fit(x_train, x_train, epochs=20, batch_size=1, validation_data=(x_val, x_val))"
   ]
  },
  {
   "cell_type": "code",
   "execution_count": 10,
   "metadata": {
    "scrolled": false
   },
   "outputs": [
    {
     "data": {
      "text/plain": [
       "Text(0, 0.5, 'Scores')"
      ]
     },
     "execution_count": 10,
     "metadata": {},
     "output_type": "execute_result"
    },
    {
     "data": {
      "image/png": "[encoded data removed]",
      "text/plain": [
       "<Figure size 576x360 with 1 Axes>"
      ]
     },
     "metadata": {
      "needs_background": "light"
     },
     "output_type": "display_data"
    }
   ],
   "source": [
    "df(recur_ae_history.history).plot(figsize=(8, 5))\n",
    "plt.grid(True)\n",
    "plt.xlabel(\"Epochs\")\n",
    "plt.ylabel(\"Scores\")"
   ]
  },
  {
   "cell_type": "markdown",
   "metadata": {},
   "source": [
    "* **Step 4: EVALUATE**"
   ]
  },
  {
   "cell_type": "code",
   "execution_count": 11,
   "metadata": {},
   "outputs": [
    {
     "name": "stdout",
     "output_type": "stream",
     "text": [
      "10000/10000 [==============================] - 44s 4ms/step - loss: 0.3233 - rounded_accuracy: 0.8996\n"
     ]
    },
    {
     "data": {
      "text/plain": [
       "[0.3232647478580475, 0.8996061086654663]"
      ]
     },
     "execution_count": 11,
     "metadata": {},
     "output_type": "execute_result"
    }
   ],
   "source": [
    "recur_ae.evaluate(x_test, x_test, batch_size=1)"
   ]
  },
  {
   "cell_type": "markdown",
   "metadata": {},
   "source": [
    "* **Step 5: PREDICTION**\n",
    "<br> The first rows denote real images, while the second reconstructed images from Recurrent AE."
   ]
  },
  {
   "cell_type": "code",
   "execution_count": 12,
   "metadata": {},
   "outputs": [
    {
     "data": {
      "image/png": "[encoded data removed]",
      "text/plain": [
       "<Figure size 540x216 with 10 Axes>"
      ]
     },
     "metadata": {
      "needs_background": "light"
     },
     "output_type": "display_data"
    }
   ],
   "source": [
    "show_reconstructions(recur_ae)"
   ]
  },
  {
   "cell_type": "code",
   "execution_count": 14,
   "metadata": {},
   "outputs": [],
   "source": [
    "recur_ae.save(\"model/recurrent_ae.h5\")"
   ]
  }
 ],
 "metadata": {
  "kernelspec": {
   "display_name": "Python 3",
   "language": "python",
   "name": "python3"
  },
  "language_info": {
   "codemirror_mode": {
    "name": "ipython",
    "version": 3
   },
   "file_extension": ".py",
   "mimetype": "text/x-python",
   "name": "python",
   "nbconvert_exporter": "python",
   "pygments_lexer": "ipython3",
   "version": "3.7.1"
  }
 },
 "nbformat": 4,
 "nbformat_minor": 2
}
