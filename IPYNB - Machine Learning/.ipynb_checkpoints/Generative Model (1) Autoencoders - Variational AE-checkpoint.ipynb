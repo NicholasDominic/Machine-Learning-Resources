{
 "cells": [
  {
   "cell_type": "markdown",
   "metadata": {},
   "source": [
    "---\n",
    "# <CENTER><font color=\"indigo\">Generative Models: Autoencoders (AE)</font><br><small><b>VARIATIONAL AUTOENCODERS</b></small>\n",
    "---\n",
    "<font color=\"olive\">Prepared by **NICHOLAS DOMINIC**\n",
    "<br>Guided from *Aurélien Géron*'s **Hands-On Machine Learning with Scikit-Learn, Keras, and TensorFlow** (2nd ed., by O’Reilly Media, Inc.)\n",
    "<br>Powered by Interactive Python **Jupyter Notebook** (.ipynb), developed with **Python 3.7**"
   ]
  },
  {
   "cell_type": "markdown",
   "metadata": {},
   "source": [
    "> **BRIEF INTRODUCTION**<br>\n",
    "Generative model is capable of randomly generating new data that looks *very similar* to the training data. Simply put, the output is the input itself (same size). Therefore in this case, the output also called as **reconstruction**. Two types of generative model are: **Autoencoders (AE)** and **Generative Adversarial Networks (GAN)**."
   ]
  },
  {
   "cell_type": "code",
   "execution_count": 1,
   "metadata": {},
   "outputs": [],
   "source": [
    "import numpy as np\n",
    "from pandas import DataFrame as df\n",
    "from matplotlib import pyplot as plt\n",
    "import tensorflow as tf\n",
    "from tensorflow import keras"
   ]
  },
  {
   "cell_type": "code",
   "execution_count": 2,
   "metadata": {},
   "outputs": [
    {
     "data": {
      "text/plain": [
       "('1.18.2', '2.2.0', '2.3.0-tf')"
      ]
     },
     "execution_count": 2,
     "metadata": {},
     "output_type": "execute_result"
    }
   ],
   "source": [
    "np.__version__, tf.__version__, keras.__version__"
   ]
  },
  {
   "cell_type": "markdown",
   "metadata": {},
   "source": [
    "## Fashion-MNIST Dataset Loading, Normalization, and Split"
   ]
  },
  {
   "cell_type": "code",
   "execution_count": 3,
   "metadata": {},
   "outputs": [
    {
     "name": "stdout",
     "output_type": "stream",
     "text": [
      "Image Dimension: (28, 28)\n",
      "x_train: (55000, 28, 28) y_train: (55000,)\n",
      "x_val: (5000, 28, 28) y_val: (5000,)\n",
      "x_test: (10000, 28, 28) y_test: (10000,)\n"
     ]
    }
   ],
   "source": [
    "# Load the dataset from Keras\n",
    "(x_train, y_train), (x_test, y_test) = keras.datasets.fashion_mnist.load_data()\n",
    "\n",
    "# Normalize by dividing them by 255 (maximum number of 1-bit pixels)\n",
    "x_train = x_train.astype(np.float32) / 255\n",
    "x_test = x_test.astype(np.float32) / 255\n",
    "\n",
    "# Get validation data from train data\n",
    "x_train, x_val = x_train[:-5000], x_train[-5000:]\n",
    "y_train, y_val = y_train[:-5000], y_train[-5000:]\n",
    "\n",
    "# Show the shape of each\n",
    "print(\"Image Dimension: {}\".format(x_train.shape[1:]))\n",
    "print(\"x_train: {} y_train: {}\".format(x_train.shape, y_train.shape))\n",
    "print(\"x_val: {} y_val: {}\".format(x_val.shape, y_val.shape))\n",
    "print(\"x_test: {} y_test: {}\".format(x_test.shape, y_test.shape))"
   ]
  },
  {
   "cell_type": "markdown",
   "metadata": {},
   "source": [
    "## User-defined Functions and Class"
   ]
  },
  {
   "cell_type": "code",
   "execution_count": 4,
   "metadata": {},
   "outputs": [],
   "source": [
    "# Custom metrics (how to build it, see on https://keras.io/api/metrics/#creating-custom-metrics)\n",
    "def rounded_accuracy(y_true, y_pred):\n",
    "    return keras.metrics.binary_accuracy(tf.round(y_true), tf.round(y_pred))"
   ]
  },
  {
   "cell_type": "code",
   "execution_count": 5,
   "metadata": {},
   "outputs": [],
   "source": [
    "def plot_image(image):\n",
    "    plt.imshow(image, cmap=\"binary\")\n",
    "    plt.axis(\"off\")"
   ]
  },
  {
   "cell_type": "code",
   "execution_count": 6,
   "metadata": {},
   "outputs": [],
   "source": [
    "def show_reconstructions(model, images=x_val, n_images=5):\n",
    "    reconstructions = model.predict(images[:n_images])\n",
    "    fig = plt.figure(figsize=(n_images * 1.5, 3))\n",
    "    for image_index in range(n_images):\n",
    "        plt.subplot(2, n_images, 1 + image_index)\n",
    "        plot_image(images[image_index])\n",
    "        plt.subplot(2, n_images, 1 + n_images + image_index)\n",
    "        plot_image(reconstructions[image_index])"
   ]
  },
  {
   "cell_type": "code",
   "execution_count": 7,
   "metadata": {},
   "outputs": [],
   "source": [
    "class Sampling(keras.layers.Layer):\n",
    "    def call(self, inputs):\n",
    "        mean, log_var = inputs\n",
    "        return keras.backend.random_normal(tf.shape(log_var)) * keras.backend.exp(log_var / 2) + mean"
   ]
  },
  {
   "cell_type": "markdown",
   "metadata": {},
   "source": [
    "* **Step 1: BUILD**"
   ]
  },
  {
   "cell_type": "code",
   "execution_count": 8,
   "metadata": {
    "scrolled": true
   },
   "outputs": [
    {
     "name": "stdout",
     "output_type": "stream",
     "text": [
      "Model: \"Encoder\"\n",
      "__________________________________________________________________________________________________\n",
      "Layer (type)                    Output Shape         Param #     Connected to                     \n",
      "==================================================================================================\n",
      "input_1 (InputLayer)            [(None, 28, 28)]     0                                            \n",
      "__________________________________________________________________________________________________\n",
      "flatten (Flatten)               (None, 784)          0           input_1[0][0]                    \n",
      "__________________________________________________________________________________________________\n",
      "dense (Dense)                   (None, 150)          117750      flatten[0][0]                    \n",
      "__________________________________________________________________________________________________\n",
      "dense_1 (Dense)                 (None, 100)          15100       dense[0][0]                      \n",
      "__________________________________________________________________________________________________\n",
      "dense_2 (Dense)                 (None, 10)           1010        dense_1[0][0]                    \n",
      "__________________________________________________________________________________________________\n",
      "dense_3 (Dense)                 (None, 10)           1010        dense_1[0][0]                    \n",
      "__________________________________________________________________________________________________\n",
      "sampling (Sampling)             (None, 10)           0           dense_2[0][0]                    \n",
      "                                                                 dense_3[0][0]                    \n",
      "==================================================================================================\n",
      "Total params: 134,870\n",
      "Trainable params: 134,870\n",
      "Non-trainable params: 0\n",
      "__________________________________________________________________________________________________\n",
      "Model: \"Decoder\"\n",
      "_________________________________________________________________\n",
      "Layer (type)                 Output Shape              Param #   \n",
      "=================================================================\n",
      "dense_4 (Dense)              (None, 100)               1100      \n",
      "_________________________________________________________________\n",
      "dense_5 (Dense)              (None, 784)               79184     \n",
      "_________________________________________________________________\n",
      "reshape (Reshape)            (None, 28, 28)            0         \n",
      "=================================================================\n",
      "Total params: 80,284\n",
      "Trainable params: 80,284\n",
      "Non-trainable params: 0\n",
      "_________________________________________________________________\n",
      "Model: \"Variational_Autoencoder\"\n",
      "_________________________________________________________________\n",
      "Layer (type)                 Output Shape              Param #   \n",
      "=================================================================\n",
      "input_1 (InputLayer)         [(None, 28, 28)]          0         \n",
      "_________________________________________________________________\n",
      "Encoder (Model)              [(None, 10), (None, 10),  134870    \n",
      "_________________________________________________________________\n",
      "Decoder (Sequential)         (None, 28, 28)            80284     \n",
      "=================================================================\n",
      "Total params: 215,154\n",
      "Trainable params: 215,154\n",
      "Non-trainable params: 0\n",
      "_________________________________________________________________\n"
     ]
    }
   ],
   "source": [
    "codings_size = 10\n",
    "\n",
    "# Build the ENCODER using Keras Functional API\n",
    "inputs = keras.layers.Input(shape=[28, 28])\n",
    "z = keras.layers.Flatten()(inputs)\n",
    "z = keras.layers.Dense(150, activation=\"selu\")(z)\n",
    "z = keras.layers.Dense(100, activation=\"selu\")(z)\n",
    "codings_mean = keras.layers.Dense(codings_size)(z) # mean\n",
    "codings_log_var = keras.layers.Dense(codings_size)(z) # log(std_dev^2)\n",
    "codings = Sampling()([codings_mean, codings_log_var])\n",
    "encoder = keras.models.Model(\n",
    "    inputs=[inputs],\n",
    "    outputs=[codings_mean, codings_log_var, codings],\n",
    "    name=\"Encoder\")\n",
    "encoder.summary()\n",
    "\n",
    "# Build the DECODER using Keras Sequential API\n",
    "decoder = keras.models.Sequential([\n",
    "    keras.layers.Input(shape=[codings_size]),\n",
    "    keras.layers.Dense(100, activation=\"selu\"),\n",
    "    keras.layers.Dense(28 * 28, activation=\"sigmoid\"),\n",
    "    keras.layers.Reshape([28, 28])\n",
    "], name=\"Decoder\")\n",
    "decoder.summary()\n",
    "\n",
    "# Join both to generate SPARSE AUTOENCODER\n",
    "_, _, codings = encoder(inputs)\n",
    "reconstructions = decoder(codings)\n",
    "var_ae = keras.models.Model(inputs=[inputs], outputs=[reconstructions], name=\"Variational_Autoencoder\")\n",
    "var_ae.summary()"
   ]
  },
  {
   "cell_type": "markdown",
   "metadata": {},
   "source": [
    "* **Step 2: COMPILE**"
   ]
  },
  {
   "cell_type": "code",
   "execution_count": 9,
   "metadata": {},
   "outputs": [],
   "source": [
    "# Adding latent_loss = -(1/2) * sum(1 + y - exp(y) - mean^2), where y = log(std_dev^2)\n",
    "latent_loss = -.5 * keras.backend.sum(\n",
    "    1 + codings_log_var - keras.backend.exp(codings_log_var) - keras.backend.square(codings_mean),\n",
    "    axis=-1)\n",
    "var_ae.add_loss(keras.backend.mean(latent_loss) / 784.) # normalize (divide by 784 == 28x28, as inputs size)\n",
    "\n",
    "# Compile the Variational Autoencoder model\n",
    "var_ae.compile(\n",
    "    loss=\"binary_crossentropy\",\n",
    "    optimizer=\"rmsprop\",\n",
    "    metrics=[rounded_accuracy]\n",
    ")"
   ]
  },
  {
   "cell_type": "markdown",
   "metadata": {},
   "source": [
    "* **Step 3: FIT / TRAIN**"
   ]
  },
  {
   "cell_type": "code",
   "execution_count": 11,
   "metadata": {
    "scrolled": false
   },
   "outputs": [
    {
     "name": "stdout",
     "output_type": "stream",
     "text": [
      "Epoch 1/20\n",
      "550/550 [==============================] - 7s 12ms/step - loss: 0.3288 - rounded_accuracy: 0.9094 - val_loss: 0.3283 - val_rounded_accuracy: 0.9106\n",
      "Epoch 2/20\n",
      "550/550 [==============================] - 6s 11ms/step - loss: 0.3262 - rounded_accuracy: 0.9113 - val_loss: 0.3274 - val_rounded_accuracy: 0.9100\n",
      "Epoch 3/20\n",
      "550/550 [==============================] - 6s 10ms/step - loss: 0.3249 - rounded_accuracy: 0.9123 - val_loss: 0.3262 - val_rounded_accuracy: 0.9142\n",
      "Epoch 4/20\n",
      "550/550 [==============================] - 6s 10ms/step - loss: 0.3239 - rounded_accuracy: 0.9130 - val_loss: 0.3260 - val_rounded_accuracy: 0.9154\n",
      "Epoch 5/20\n",
      "550/550 [==============================] - 6s 10ms/step - loss: 0.3232 - rounded_accuracy: 0.9138 - val_loss: 0.3245 - val_rounded_accuracy: 0.9161\n",
      "Epoch 6/20\n",
      "550/550 [==============================] - 6s 10ms/step - loss: 0.3224 - rounded_accuracy: 0.9143 - val_loss: 0.3233 - val_rounded_accuracy: 0.9154\n",
      "Epoch 7/20\n",
      "550/550 [==============================] - 6s 10ms/step - loss: 0.3218 - rounded_accuracy: 0.9148 - val_loss: 0.3232 - val_rounded_accuracy: 0.9149\n",
      "Epoch 8/20\n",
      "550/550 [==============================] - 6s 10ms/step - loss: 0.3213 - rounded_accuracy: 0.9152 - val_loss: 0.3226 - val_rounded_accuracy: 0.9145\n",
      "Epoch 9/20\n",
      "550/550 [==============================] - 6s 10ms/step - loss: 0.3207 - rounded_accuracy: 0.9157 - val_loss: 0.3222 - val_rounded_accuracy: 0.9165\n",
      "Epoch 10/20\n",
      "550/550 [==============================] - 6s 10ms/step - loss: 0.3203 - rounded_accuracy: 0.9161 - val_loss: 0.3219 - val_rounded_accuracy: 0.9148\n",
      "Epoch 11/20\n",
      "550/550 [==============================] - 5s 10ms/step - loss: 0.3199 - rounded_accuracy: 0.9164 - val_loss: 0.3209 - val_rounded_accuracy: 0.9166\n",
      "Epoch 12/20\n",
      "550/550 [==============================] - 5s 10ms/step - loss: 0.3195 - rounded_accuracy: 0.9167 - val_loss: 0.3209 - val_rounded_accuracy: 0.9180\n",
      "Epoch 13/20\n",
      "550/550 [==============================] - 5s 10ms/step - loss: 0.3191 - rounded_accuracy: 0.9170 - val_loss: 0.3209 - val_rounded_accuracy: 0.9173\n",
      "Epoch 14/20\n",
      "550/550 [==============================] - 6s 10ms/step - loss: 0.3188 - rounded_accuracy: 0.9172 - val_loss: 0.3228 - val_rounded_accuracy: 0.9114\n",
      "Epoch 15/20\n",
      "550/550 [==============================] - 5s 10ms/step - loss: 0.3185 - rounded_accuracy: 0.9174 - val_loss: 0.3207 - val_rounded_accuracy: 0.9177\n",
      "Epoch 16/20\n",
      "550/550 [==============================] - 5s 10ms/step - loss: 0.3182 - rounded_accuracy: 0.9176 - val_loss: 0.3195 - val_rounded_accuracy: 0.9185\n",
      "Epoch 17/20\n",
      "550/550 [==============================] - 5s 10ms/step - loss: 0.3180 - rounded_accuracy: 0.9178 - val_loss: 0.3197 - val_rounded_accuracy: 0.9160\n",
      "Epoch 18/20\n",
      "550/550 [==============================] - 5s 9ms/step - loss: 0.3177 - rounded_accuracy: 0.9180 - val_loss: 0.3199 - val_rounded_accuracy: 0.9151\n",
      "Epoch 19/20\n",
      "550/550 [==============================] - 10s 17ms/step - loss: 0.3175 - rounded_accuracy: 0.9181 - val_loss: 0.3191 - val_rounded_accuracy: 0.9180\n",
      "Epoch 20/20\n",
      "550/550 [==============================] - 9s 16ms/step - loss: 0.3173 - rounded_accuracy: 0.9183 - val_loss: 0.3189 - val_rounded_accuracy: 0.9191\n"
     ]
    }
   ],
   "source": [
    "var_ae_history = var_ae.fit(x_train, x_train, epochs=20, batch_size=100, validation_data=(x_val, x_val))"
   ]
  },
  {
   "cell_type": "code",
   "execution_count": 12,
   "metadata": {
    "scrolled": true
   },
   "outputs": [
    {
     "data": {
      "text/plain": [
       "Text(0, 0.5, 'Scores')"
      ]
     },
     "execution_count": 12,
     "metadata": {},
     "output_type": "execute_result"
    },
    {
     "data": {
      "image/png": "[encoded data removed]",
      "text/plain": [
       "<Figure size 576x360 with 1 Axes>"
      ]
     },
     "metadata": {
      "needs_background": "light"
     },
     "output_type": "display_data"
    }
   ],
   "source": [
    "df(var_ae_history.history).plot(figsize=(8, 5))\n",
    "plt.grid(True)\n",
    "plt.xlabel(\"Epochs\")\n",
    "plt.ylabel(\"Scores\")"
   ]
  },
  {
   "cell_type": "markdown",
   "metadata": {},
   "source": [
    "* **Step 4: EVALUATE**"
   ]
  },
  {
   "cell_type": "code",
   "execution_count": 13,
   "metadata": {},
   "outputs": [
    {
     "name": "stdout",
     "output_type": "stream",
     "text": [
      "10000/10000 [==============================] - 23s 2ms/step - loss: 0.3194 - rounded_accuracy: 0.9184\n"
     ]
    },
    {
     "data": {
      "text/plain": [
       "[0.3193877637386322, 0.9183867573738098]"
      ]
     },
     "execution_count": 13,
     "metadata": {},
     "output_type": "execute_result"
    }
   ],
   "source": [
    "var_ae.evaluate(x_test, x_test, batch_size=1)"
   ]
  },
  {
   "cell_type": "markdown",
   "metadata": {},
   "source": [
    "* **Step 5: PREDICTION**\n",
    "<br> The first rows denote real images, while the second reconstructed images from Variational AE."
   ]
  },
  {
   "cell_type": "code",
   "execution_count": 14,
   "metadata": {},
   "outputs": [
    {
     "data": {
      "image/png": "[encoded data removed]",
      "text/plain": [
       "<Figure size 540x216 with 10 Axes>"
      ]
     },
     "metadata": {
      "needs_background": "light"
     },
     "output_type": "display_data"
    }
   ],
   "source": [
    "show_reconstructions(var_ae)"
   ]
  },
  {
   "cell_type": "code",
   "execution_count": 15,
   "metadata": {},
   "outputs": [
    {
     "name": "stdout",
     "output_type": "stream",
     "text": [
      "WARNING:tensorflow:Found duplicated `Variable`s in Model's `weights`. This is usually caused by `Variable`s being shared by Layers in the Model. These `Variable`s will be treated as separate `Variable`s when the Model is restored. To avoid this, please save with `save_format=\"tf\"`.\n"
     ]
    }
   ],
   "source": [
    "var_ae.save(\"model/variational_ae.h5\")"
   ]
  }
 ],
 "metadata": {
  "kernelspec": {
   "display_name": "Python 3",
   "language": "python",
   "name": "python3"
  },
  "language_info": {
   "codemirror_mode": {
    "name": "ipython",
    "version": 3
   },
   "file_extension": ".py",
   "mimetype": "text/x-python",
   "name": "python",
   "nbconvert_exporter": "python",
   "pygments_lexer": "ipython3",
   "version": "3.7.1"
  }
 },
 "nbformat": 4,
 "nbformat_minor": 2
}
