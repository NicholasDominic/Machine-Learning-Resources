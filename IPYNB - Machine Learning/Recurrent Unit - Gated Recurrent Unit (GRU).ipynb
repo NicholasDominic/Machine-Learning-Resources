{
 "cells": [
  {
   "cell_type": "markdown",
   "metadata": {},
   "source": [
    "---\n",
    "# <center> Gated Recurrent Unit (GRU)\n",
    "---\n",
    "<font color=\"LIGHTSLATEGRAY\">Prepared by **NICHOLAS DOMINIC**\n",
    "<br>Guided from *Leonardo De Marchi and Laura Mitchell's* **Hands-On Neural Network** (by Packt Publishing)\n",
    "<br>Powered by Interactive Python **Jupyter Notebook** (.ipynb), developed with **Python 3.7**"
   ]
  },
  {
   "cell_type": "code",
   "execution_count": 1,
   "metadata": {},
   "outputs": [],
   "source": [
    "import numpy as np\n",
    "import tensorflow as tf\n",
    "import math\n",
    "from sklearn.preprocessing import MinMaxScaler\n",
    "from pandas import DataFrame as df\n",
    "from tensorflow import keras\n",
    "from matplotlib import pyplot as plt\n",
    "from matplotlib.ticker import MaxNLocator as mx"
   ]
  },
  {
   "cell_type": "code",
   "execution_count": 2,
   "metadata": {},
   "outputs": [
    {
     "data": {
      "text/plain": [
       "('1.18.2', '2.2.0', '2.3.0-tf')"
      ]
     },
     "execution_count": 2,
     "metadata": {},
     "output_type": "execute_result"
    }
   ],
   "source": [
    "np.__version__, tf.__version__, keras.__version__"
   ]
  },
  {
   "cell_type": "code",
   "execution_count": 3,
   "metadata": {},
   "outputs": [],
   "source": [
    "np.random.seed(42)\n",
    "tf.random.set_seed(42)"
   ]
  },
  {
   "cell_type": "markdown",
   "metadata": {},
   "source": [
    "## GRU Supporting User-defined Function"
   ]
  },
  {
   "cell_type": "code",
   "execution_count": 4,
   "metadata": {},
   "outputs": [],
   "source": [
    "def generate_time_series_data(dataset, look_back=1):\n",
    "    X, Y = [], []\n",
    "    for i in range(len(dataset) - 1):\n",
    "        a = dataset[i:(i + look_back), 0]\n",
    "        X.append(a)\n",
    "        Y.append(dataset[i + look_back, 0])\n",
    "    return np.array(X), np.array(Y)"
   ]
  },
  {
   "cell_type": "markdown",
   "metadata": {},
   "source": [
    "## Time Series Dataset Loading"
   ]
  },
  {
   "cell_type": "code",
   "execution_count": 5,
   "metadata": {},
   "outputs": [],
   "source": [
    "# set y(t+1)\n",
    "look_back = 1"
   ]
  },
  {
   "cell_type": "code",
   "execution_count": 6,
   "metadata": {},
   "outputs": [
    {
     "name": "stdout",
     "output_type": "stream",
     "text": [
      "x_train (65, 1, 1) y_train (65,)\n",
      "x_test (33, 1, 1) y_test (33,)\n"
     ]
    },
    {
     "data": {
      "image/png": "[encoded data removed]",
      "text/plain": [
       "<Figure size 432x288 with 1 Axes>"
      ]
     },
     "metadata": {
      "needs_background": "light"
     },
     "output_type": "display_data"
    }
   ],
   "source": [
    "# create the dataset\n",
    "sin_wave = np.array([math.sin(x) + i * .1 for i, x in enumerate(np.arange(100))])\n",
    "dataset = sin_wave.reshape(len(sin_wave), 1)\n",
    "\n",
    "# normalize the dataset\n",
    "scaler = MinMaxScaler()\n",
    "dataset = scaler.fit_transform(dataset)\n",
    "\n",
    "# split into train_data and test_data\n",
    "train_size = int(len(dataset) * 2/3)\n",
    "test_size = len(dataset) - train_size\n",
    "train_data, test_data = dataset[0:train_size, :], dataset[train_size:len(dataset), :]\n",
    "\n",
    "# assign features (x) and labels (y) for each\n",
    "x_train, y_train = generate_time_series_data(train_data)\n",
    "x_test, y_test = generate_time_series_data(test_data)\n",
    "\n",
    "# reshape input to be [samples, time steps, features]\n",
    "x_train = np.reshape(x_train, (x_train.shape[0], 1, x_train.shape[1]))\n",
    "x_test = np.reshape(x_test, (x_test.shape[0], 1, x_test.shape[1]))\n",
    "\n",
    "# plot the dataset\n",
    "plt.title(\"Time Series Dataset\")\n",
    "plt.plot(dataset, color=\"xkcd:vibrant blue\")\n",
    "\n",
    "# print out shape of each\n",
    "print(\"x_train {} y_train {}\".format(x_train.shape, y_train.shape))\n",
    "print(\"x_test {} y_test {}\".format(x_test.shape, y_test.shape))"
   ]
  },
  {
   "cell_type": "markdown",
   "metadata": {},
   "source": [
    "## GRU"
   ]
  },
  {
   "cell_type": "code",
   "execution_count": 7,
   "metadata": {
    "scrolled": true
   },
   "outputs": [
    {
     "name": "stdout",
     "output_type": "stream",
     "text": [
      "Epoch 1/50\n",
      "65/65 [==============================] - 0s 4ms/step - loss: 0.0761\n",
      "Epoch 2/50\n",
      "65/65 [==============================] - 0s 5ms/step - loss: 0.0275\n",
      "Epoch 3/50\n",
      "65/65 [==============================] - 0s 7ms/step - loss: 0.0217\n",
      "Epoch 4/50\n",
      "65/65 [==============================] - 0s 7ms/step - loss: 0.0198\n",
      "Epoch 5/50\n",
      "65/65 [==============================] - 0s 7ms/step - loss: 0.0185\n",
      "Epoch 6/50\n",
      "65/65 [==============================] - 0s 7ms/step - loss: 0.0160\n",
      "Epoch 7/50\n",
      "65/65 [==============================] - 0s 7ms/step - loss: 0.0143\n",
      "Epoch 8/50\n",
      "65/65 [==============================] - 0s 7ms/step - loss: 0.0122\n",
      "Epoch 9/50\n",
      "65/65 [==============================] - 0s 7ms/step - loss: 0.0102\n",
      "Epoch 10/50\n",
      "65/65 [==============================] - 0s 7ms/step - loss: 0.0086\n",
      "Epoch 11/50\n",
      "65/65 [==============================] - 0s 7ms/step - loss: 0.0067\n",
      "Epoch 12/50\n",
      "65/65 [==============================] - 0s 7ms/step - loss: 0.0053\n",
      "Epoch 13/50\n",
      "65/65 [==============================] - 0s 7ms/step - loss: 0.0045\n",
      "Epoch 14/50\n",
      "65/65 [==============================] - 0s 7ms/step - loss: 0.0042\n",
      "Epoch 15/50\n",
      "65/65 [==============================] - 0s 7ms/step - loss: 0.0039\n",
      "Epoch 16/50\n",
      "65/65 [==============================] - 0s 7ms/step - loss: 0.0039\n",
      "Epoch 17/50\n",
      "65/65 [==============================] - 0s 7ms/step - loss: 0.0037\n",
      "Epoch 18/50\n",
      "65/65 [==============================] - 0s 7ms/step - loss: 0.0039\n",
      "Epoch 19/50\n",
      "65/65 [==============================] - 0s 7ms/step - loss: 0.0038\n",
      "Epoch 20/50\n",
      "65/65 [==============================] - 0s 7ms/step - loss: 0.0039\n",
      "Epoch 21/50\n",
      "65/65 [==============================] - 1s 8ms/step - loss: 0.0040\n",
      "Epoch 22/50\n",
      "65/65 [==============================] - 1s 8ms/step - loss: 0.0038\n",
      "Epoch 23/50\n",
      "65/65 [==============================] - 0s 8ms/step - loss: 0.0041\n",
      "Epoch 24/50\n",
      "65/65 [==============================] - 1s 8ms/step - loss: 0.0038\n",
      "Epoch 25/50\n",
      "65/65 [==============================] - 1s 8ms/step - loss: 0.0041\n",
      "Epoch 26/50\n",
      "65/65 [==============================] - 0s 4ms/step - loss: 0.0040\n",
      "Epoch 27/50\n",
      "65/65 [==============================] - 0s 5ms/step - loss: 0.0039\n",
      "Epoch 28/50\n",
      "65/65 [==============================] - 0s 4ms/step - loss: 0.0039\n",
      "Epoch 29/50\n",
      "65/65 [==============================] - 0s 3ms/step - loss: 0.0038\n",
      "Epoch 30/50\n",
      "65/65 [==============================] - 0s 3ms/step - loss: 0.0038\n",
      "Epoch 31/50\n",
      "65/65 [==============================] - 0s 4ms/step - loss: 0.0039\n",
      "Epoch 32/50\n",
      "65/65 [==============================] - 0s 3ms/step - loss: 0.0039\n",
      "Epoch 33/50\n",
      "65/65 [==============================] - 0s 3ms/step - loss: 0.0039\n",
      "Epoch 34/50\n",
      "65/65 [==============================] - 0s 4ms/step - loss: 0.0041\n",
      "Epoch 35/50\n",
      "65/65 [==============================] - 0s 4ms/step - loss: 0.0038\n",
      "Epoch 36/50\n",
      "65/65 [==============================] - 0s 4ms/step - loss: 0.0039\n",
      "Epoch 37/50\n",
      "65/65 [==============================] - 0s 5ms/step - loss: 0.0040\n",
      "Epoch 38/50\n",
      "65/65 [==============================] - 0s 4ms/step - loss: 0.0038\n",
      "Epoch 39/50\n",
      "65/65 [==============================] - 0s 3ms/step - loss: 0.0043\n",
      "Epoch 40/50\n",
      "65/65 [==============================] - 0s 3ms/step - loss: 0.0041\n",
      "Epoch 41/50\n",
      "65/65 [==============================] - 0s 3ms/step - loss: 0.0039\n",
      "Epoch 42/50\n",
      "65/65 [==============================] - 0s 3ms/step - loss: 0.0040\n",
      "Epoch 43/50\n",
      "65/65 [==============================] - 0s 3ms/step - loss: 0.0039\n",
      "Epoch 44/50\n",
      "65/65 [==============================] - 0s 4ms/step - loss: 0.0039\n",
      "Epoch 45/50\n",
      "65/65 [==============================] - 0s 4ms/step - loss: 0.0040\n",
      "Epoch 46/50\n",
      "65/65 [==============================] - 0s 3ms/step - loss: 0.0039\n",
      "Epoch 47/50\n",
      "65/65 [==============================] - 0s 4ms/step - loss: 0.0039\n",
      "Epoch 48/50\n",
      "65/65 [==============================] - 0s 3ms/step - loss: 0.0039\n",
      "Epoch 49/50\n",
      "65/65 [==============================] - 0s 4ms/step - loss: 0.0039\n",
      "Epoch 50/50\n",
      "65/65 [==============================] - 0s 4ms/step - loss: 0.0039\n"
     ]
    }
   ],
   "source": [
    "gru_model = keras.models.Sequential([\n",
    "    keras.layers.GRU(4, return_sequences=True, input_shape=[1, look_back]),\n",
    "    keras.layers.GRU(4, return_sequences=True),\n",
    "    keras.layers.TimeDistributed(keras.layers.Dense(1))\n",
    "])\n",
    "\n",
    "gru_model.compile(loss=\"mse\", optimizer=keras.optimizers.Adam(lr=1e-3))\n",
    "gru_model_history = gru_model.fit(x_train, y_train, epochs=50, batch_size=1)"
   ]
  },
  {
   "cell_type": "code",
   "execution_count": 8,
   "metadata": {},
   "outputs": [
    {
     "name": "stdout",
     "output_type": "stream",
     "text": [
      "33/33 [==============================] - 0s 3ms/step - loss: 0.0035\n"
     ]
    },
    {
     "data": {
      "text/plain": [
       "0.0034639579243957996"
      ]
     },
     "execution_count": 8,
     "metadata": {},
     "output_type": "execute_result"
    }
   ],
   "source": [
    "gru_model.evaluate(x_test, y_test, batch_size=1)"
   ]
  },
  {
   "cell_type": "code",
   "execution_count": 9,
   "metadata": {},
   "outputs": [
    {
     "data": {
      "text/plain": [
       "Text(0, 0.5, 'Scores')"
      ]
     },
     "execution_count": 9,
     "metadata": {},
     "output_type": "execute_result"
    },
    {
     "data": {
      "image/png": "[encoded data removed]",
      "text/plain": [
       "<Figure size 576x360 with 1 Axes>"
      ]
     },
     "metadata": {
      "needs_background": "light"
     },
     "output_type": "display_data"
    }
   ],
   "source": [
    "df(gru_model_history.history).plot(figsize=(8, 5))\n",
    "plt.grid(True)\n",
    "plt.xlabel(\"Epochs\")\n",
    "plt.ylabel(\"Scores\")"
   ]
  },
  {
   "cell_type": "code",
   "execution_count": 10,
   "metadata": {},
   "outputs": [],
   "source": [
    "# create the predictions\n",
    "predictions_train = gru_model.predict(x_train)\n",
    "predictions_test = gru_model.predict(x_test)\n",
    "\n",
    "# reapply the MinMaxScaler() to predictions\n",
    "predictions_train = scaler.inverse_transform(predictions_train[:, 0])\n",
    "predictions_test = scaler.inverse_transform(predictions_test[:, 0])\n",
    "y_train = scaler.inverse_transform([y_train])\n",
    "y_test = scaler.inverse_transform([y_test])"
   ]
  },
  {
   "cell_type": "code",
   "execution_count": 11,
   "metadata": {},
   "outputs": [
    {
     "data": {
      "text/plain": [
       "<matplotlib.legend.Legend at 0x1c1c7521e80>"
      ]
     },
     "execution_count": 11,
     "metadata": {},
     "output_type": "execute_result"
    },
    {
     "data": {
      "image/png": "[encoded data removed]",
      "text/plain": [
       "<Figure size 432x288 with 1 Axes>"
      ]
     },
     "metadata": {
      "needs_background": "light"
     },
     "output_type": "display_data"
    }
   ],
   "source": [
    "# shift train predictions for plotting\n",
    "predictions_train_plot = np.empty_like(dataset) # provide a new array with the same shape and type as dataset\n",
    "predictions_train_plot[:, :] = np.nan # assign them all with nan\n",
    "predictions_train_plot[look_back:len(predictions_train) + look_back, :] = predictions_train # shape [1:65, :]\n",
    "\n",
    "# shift test predictions for plotting\n",
    "predictions_test_plot = np.empty_like(dataset) # provide a new array with the same shape and type as dataset\n",
    "predictions_test_plot[:, :] = np.nan # assign them all with nan\n",
    "predictions_test_plot[len(predictions_train) + 1:len(dataset) -1, :] = predictions_test # shape [66:99, :]\n",
    "\n",
    "plt.plot(scaler.inverse_transform(dataset), color=\"xkcd:vibrant blue\")\n",
    "plt.plot(predictions_train_plot, label='Prediction of train_data', color=\"xkcd:bright magenta\")\n",
    "plt.plot(predictions_test_plot, label='Prediction of test_data', color=\"xkcd:mango\")\n",
    "plt.legend(loc='best')"
   ]
  }
 ],
 "metadata": {
  "kernelspec": {
   "display_name": "Python 3",
   "language": "python",
   "name": "python3"
  },
  "language_info": {
   "codemirror_mode": {
    "name": "ipython",
    "version": 3
   },
   "file_extension": ".py",
   "mimetype": "text/x-python",
   "name": "python",
   "nbconvert_exporter": "python",
   "pygments_lexer": "ipython3",
   "version": "3.7.1"
  }
 },
 "nbformat": 4,
 "nbformat_minor": 2
}
