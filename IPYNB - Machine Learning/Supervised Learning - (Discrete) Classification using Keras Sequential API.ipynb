{
 "cells": [
  {
   "cell_type": "markdown",
   "metadata": {},
   "source": [
    "---\n",
    "# <font color=\"CHOCOLATE\">CLASSIFICATION (with Keras Sequential API)\n",
    "---\n",
    "<font color=\"LIGHTSLATEGRAY\">Prepared by **NICHOLAS DOMINIC**\n",
    "<br>Guided from *Aurélien Géron*'s **Hands-On Machine Learning with Scikit-Learn, Keras, and TensorFlow** (2nd ed., by O’Reilly Media, Inc.)\n",
    "<br>Powered by Interactive Python **Jupyter Notebook** (.ipynb), developed with **Python 3.7**"
   ]
  },
  {
   "cell_type": "code",
   "execution_count": 1,
   "metadata": {},
   "outputs": [],
   "source": [
    "import numpy as np\n",
    "import pandas as pd\n",
    "from matplotlib import pyplot as plt\n",
    "import tensorflow as tf\n",
    "from tensorflow import keras"
   ]
  },
  {
   "cell_type": "code",
   "execution_count": 2,
   "metadata": {},
   "outputs": [
    {
     "data": {
      "text/plain": [
       "'1.18.2'"
      ]
     },
     "execution_count": 2,
     "metadata": {},
     "output_type": "execute_result"
    }
   ],
   "source": [
    "np.__version__"
   ]
  },
  {
   "cell_type": "code",
   "execution_count": 3,
   "metadata": {},
   "outputs": [
    {
     "data": {
      "text/plain": [
       "'2.2.0'"
      ]
     },
     "execution_count": 3,
     "metadata": {},
     "output_type": "execute_result"
    }
   ],
   "source": [
    "tf.__version__"
   ]
  },
  {
   "cell_type": "code",
   "execution_count": 4,
   "metadata": {},
   "outputs": [
    {
     "data": {
      "text/plain": [
       "'2.3.0-tf'"
      ]
     },
     "execution_count": 4,
     "metadata": {},
     "output_type": "execute_result"
    }
   ],
   "source": [
    "keras.__version__"
   ]
  },
  {
   "cell_type": "markdown",
   "metadata": {},
   "source": [
    "<font color=\"DARKVIOLET\">**Fashion-MNIST (Mixed National Institute of Standards and Technology) dataset** has 70,000 shuffled images, which each image has 784 features (28x28 pixels, with intensity range from 0/white to 255/black)."
   ]
  },
  {
   "cell_type": "code",
   "execution_count": 5,
   "metadata": {},
   "outputs": [],
   "source": [
    "mnist = keras.datasets.fashion_mnist"
   ]
  },
  {
   "cell_type": "markdown",
   "metadata": {},
   "source": [
    "<font color=\"DARKVIOLET\">Extract **train data** and **test data**."
   ]
  },
  {
   "cell_type": "code",
   "execution_count": 6,
   "metadata": {},
   "outputs": [],
   "source": [
    "(x_train, y_train), (x_test, y_test) = mnist.load_data()"
   ]
  },
  {
   "cell_type": "markdown",
   "metadata": {},
   "source": [
    "<font color=\"DARKVIOLET\">Get 5,000 of **validation data** from 60,000 train data.\n",
    "<br> Then **normalize** x_train, x_val, and x_test into value range of 0 and 1."
   ]
  },
  {
   "cell_type": "code",
   "execution_count": 7,
   "metadata": {},
   "outputs": [],
   "source": [
    "x_val, x_train = x_train[:5000] / 255, x_train[5000:] / 255\n",
    "y_val, y_train = y_train[:5000], y_train[5000:]\n",
    "x_test = x_test / 255"
   ]
  },
  {
   "cell_type": "code",
   "execution_count": 8,
   "metadata": {},
   "outputs": [
    {
     "name": "stdout",
     "output_type": "stream",
     "text": [
      "x_train (55000, 28, 28) y_train (55000,)\n",
      "x_val (5000, 28, 28) y_val (5000,)\n",
      "x_test (10000, 28, 28) y_test (10000,)\n"
     ]
    }
   ],
   "source": [
    "# Notes: x == image, while y == label\n",
    "print(\"x_train\", x_train.shape, \"y_train\", y_train.shape) # 55,000 train data\n",
    "print(\"x_val\", x_val.shape, \"y_val\", y_val.shape) # 5,000 validation data\n",
    "print(\"x_test\", x_test.shape, \"y_test\", y_test.shape) # 10,000 test data"
   ]
  },
  {
   "cell_type": "markdown",
   "metadata": {},
   "source": [
    "<font color=\"DARKVIOLET\">Since **y == label** represents in integer and therefore it's difficult to idenfity, let's create a **class name** corresponds to each integer label."
   ]
  },
  {
   "cell_type": "code",
   "execution_count": 9,
   "metadata": {},
   "outputs": [
    {
     "data": {
      "text/plain": [
       "[{0: 'T-shirt/Top'},\n",
       " {1: 'Trouser'},\n",
       " {2: 'Pullover'},\n",
       " {3: 'Dress'},\n",
       " {4: 'Coat'},\n",
       " {5: 'Sandal'},\n",
       " {6: 'Shirt'},\n",
       " {7: 'Sneaker'},\n",
       " {8: 'Bag'},\n",
       " {9: 'Ankle Boot'}]"
      ]
     },
     "execution_count": 9,
     "metadata": {},
     "output_type": "execute_result"
    }
   ],
   "source": [
    "class_names = [\"T-shirt/Top\", \"Trouser\", \"Pullover\", \"Dress\", \"Coat\", \"Sandal\", \"Shirt\", \"Sneaker\", \"Bag\", \"Ankle Boot\"]\n",
    "[{i: class_names[i]} for i in range(len(class_names))]"
   ]
  },
  {
   "cell_type": "code",
   "execution_count": 10,
   "metadata": {
    "scrolled": true
   },
   "outputs": [
    {
     "name": "stdout",
     "output_type": "stream",
     "text": [
      "Fashion-MNIST Targets on Train Data:  [4 0 7 9 9 9 4 4 3 4]\n"
     ]
    },
    {
     "data": {
      "image/png": "[encoded data removed]",
      "text/plain": [
       "<Figure size 432x288 with 10 Axes>"
      ]
     },
     "metadata": {
      "needs_background": "light"
     },
     "output_type": "display_data"
    }
   ],
   "source": [
    "# Take a look of first ten MNIST train data targets\n",
    "print(\"Fashion-MNIST Targets on Train Data: \", y_train[:10])\n",
    "\n",
    "# Take a look of first ten MNIST train data inputs\n",
    "for i in range(10):\n",
    "    plt.subplot(2, 5, i+1) # .subplot(row, column, position) where position must starts from 1\n",
    "    plt.imshow(x_train[i].reshape(28, 28), cmap='binary')\n",
    "    plt.title(class_names[y_train[i]])\n",
    "    plt.axis(\"off\") # Remove all axes\n",
    "plt.show()"
   ]
  },
  {
   "cell_type": "markdown",
   "metadata": {},
   "source": [
    "<font color=\"DARKVIOLET\">Take an example for this first MNIST data. Reshape into **28 rows x 28 columns**; then we can see that,\n",
    "* **the sort of array with each element denotes as ${\\\\n}_{columns, rows}$**\n",
    "<br>[${\\\\n}_{1, 1}, {\\\\n}_{1, 2}, ..., {\\\\n}_{1, 28}]$\n",
    "<br>[${\\\\n}_{2, 1}, {\\\\n}_{2, 2}, ..., {\\\\n}_{2, 28}]$\n",
    "<br>[${\\\\n}_{3, 1}, {\\\\n}_{3, 2}, ..., {\\\\n}_{3, 28}]$\n",
    "<br>.\n",
    "<br>.\n",
    "<br>.\n",
    "<br>[${\\\\n}_{28, 1}, {\\\\n}_{28, 2}, ..., {\\\\n}_{28, 28}]$\n",
    "* **each element ${\\\\n}_{columns, rows}$ represents binary intensity, from 0 (white) to 255 (black)**"
   ]
  },
  {
   "cell_type": "code",
   "execution_count": 11,
   "metadata": {
    "scrolled": true
   },
   "outputs": [
    {
     "data": {
      "text/plain": [
       "array([[0.        , 0.        , 0.        , 0.        , 0.        ,\n",
       "        0.        , 0.        , 0.        , 0.        , 0.        ,\n",
       "        0.        , 0.        , 0.        , 0.        , 0.        ,\n",
       "        0.        , 0.        , 0.        , 0.        , 0.00392157,\n",
       "        0.        , 0.        , 0.        , 0.        , 0.        ,\n",
       "        0.        , 0.        , 0.        ],\n",
       "       [0.        , 0.        , 0.        , 0.        , 0.        ,\n",
       "        0.        , 0.        , 0.        , 0.        , 0.        ,\n",
       "        0.        , 0.17254902, 0.49803922, 0.71372549, 0.7254902 ,\n",
       "        0.63137255, 0.47058824, 0.21568627, 0.        , 0.        ,\n",
       "        0.        , 0.        , 0.        , 0.        , 0.        ,\n",
       "        0.        , 0.        , 0.        ],\n",
       "       [0.        , 0.        , 0.        , 0.        , 0.        ,\n",
       "        0.        , 0.        , 0.        , 0.        , 0.16470588,\n",
       "        0.77647059, 0.98431373, 1.        , 0.98431373, 0.97647059,\n",
       "        0.96862745, 1.        , 0.98823529, 0.83921569, 0.39215686,\n",
       "        0.        , 0.        , 0.        , 0.        , 0.        ,\n",
       "        0.        , 0.        , 0.        ],\n",
       "       [0.        , 0.        , 0.        , 0.        , 0.        ,\n",
       "        0.        , 0.00784314, 0.        , 0.        , 0.91372549,\n",
       "        0.98823529, 0.92941176, 0.9372549 , 0.91764706, 0.92941176,\n",
       "        0.92156863, 0.92941176, 0.92941176, 0.99607843, 0.89019608,\n",
       "        0.        , 0.        , 0.        , 0.        , 0.00392157,\n",
       "        0.        , 0.        , 0.        ],\n",
       "       [0.        , 0.        , 0.        , 0.        , 0.        ,\n",
       "        0.00784314, 0.        , 0.        , 0.0627451 , 0.82352941,\n",
       "        0.88235294, 0.84313725, 0.68627451, 0.85098039, 0.84705882,\n",
       "        0.75686275, 0.76862745, 0.88627451, 0.86666667, 0.81960784,\n",
       "        0.19607843, 0.        , 0.        , 0.00784314, 0.        ,\n",
       "        0.        , 0.        , 0.        ],\n",
       "       [0.        , 0.        , 0.        , 0.        , 0.00784314,\n",
       "        0.        , 0.        , 0.78039216, 0.89803922, 0.90980392,\n",
       "        0.90196078, 0.96078431, 0.8       , 0.85882353, 0.99215686,\n",
       "        0.96078431, 0.81176471, 0.76078431, 0.8745098 , 0.90588235,\n",
       "        0.9254902 , 0.92156863, 0.        , 0.        , 0.01176471,\n",
       "        0.        , 0.        , 0.        ],\n",
       "       [0.        , 0.        , 0.        , 0.        , 0.00392157,\n",
       "        0.        , 0.5372549 , 0.92156863, 0.8       , 0.81960784,\n",
       "        0.78823529, 0.81960784, 0.91764706, 0.74509804, 0.91764706,\n",
       "        0.85490196, 0.84313725, 0.93333333, 0.9372549 , 0.8       ,\n",
       "        0.74117647, 0.87843137, 0.60392157, 0.        , 0.        ,\n",
       "        0.        , 0.        , 0.        ],\n",
       "       [0.        , 0.        , 0.        , 0.        , 0.        ,\n",
       "        0.        , 0.76078431, 0.78823529, 0.78431373, 0.81960784,\n",
       "        0.79215686, 0.75686275, 0.80392157, 0.76078431, 0.71764706,\n",
       "        0.85490196, 0.90588235, 0.77254902, 0.6745098 , 0.70980392,\n",
       "        0.75686275, 0.80392157, 0.78039216, 0.        , 0.        ,\n",
       "        0.        , 0.        , 0.        ],\n",
       "       [0.        , 0.        , 0.        , 0.        , 0.        ,\n",
       "        0.01176471, 0.83137255, 0.79607843, 0.7372549 , 0.74117647,\n",
       "        0.76862745, 0.77647059, 0.77647059, 0.78823529, 0.76862745,\n",
       "        0.85098039, 0.70196078, 0.65490196, 0.71764706, 0.85098039,\n",
       "        0.77254902, 0.79215686, 0.85882353, 0.11764706, 0.        ,\n",
       "        0.        , 0.        , 0.        ],\n",
       "       [0.        , 0.        , 0.        , 0.        , 0.        ,\n",
       "        0.13333333, 0.88235294, 0.78431373, 0.76078431, 0.74509804,\n",
       "        0.7372549 , 0.75294118, 0.76862745, 0.75294118, 0.66666667,\n",
       "        0.79215686, 0.74509804, 0.78823529, 0.76470588, 0.78431373,\n",
       "        0.78823529, 0.81960784, 0.89019608, 0.19607843, 0.        ,\n",
       "        0.        , 0.        , 0.        ],\n",
       "       [0.        , 0.        , 0.        , 0.        , 0.        ,\n",
       "        0.26666667, 0.88235294, 0.82352941, 0.82745098, 0.77647059,\n",
       "        0.75294118, 0.76862745, 0.8       , 0.76862745, 0.70980392,\n",
       "        0.83137255, 0.77254902, 0.76470588, 0.75294118, 0.80784314,\n",
       "        0.8627451 , 0.82352941, 0.89803922, 0.36470588, 0.        ,\n",
       "        0.        , 0.        , 0.        ],\n",
       "       [0.        , 0.        , 0.        , 0.        , 0.        ,\n",
       "        0.43529412, 0.8745098 , 0.89019608, 0.99215686, 0.81960784,\n",
       "        0.76862745, 0.8       , 0.82745098, 0.80784314, 0.71764706,\n",
       "        0.84705882, 0.80784314, 0.82352941, 0.79607843, 0.84313725,\n",
       "        0.95686275, 0.87843137, 0.89019608, 0.58823529, 0.        ,\n",
       "        0.        , 0.        , 0.        ],\n",
       "       [0.        , 0.        , 0.        , 0.        , 0.        ,\n",
       "        0.54509804, 0.88235294, 0.87843137, 1.        , 0.79215686,\n",
       "        0.80784314, 0.83137255, 0.81960784, 0.82745098, 0.74509804,\n",
       "        0.83529412, 0.79215686, 0.81176471, 0.80784314, 0.87058824,\n",
       "        1.        , 0.90196078, 0.8627451 , 0.74509804, 0.        ,\n",
       "        0.        , 0.        , 0.        ],\n",
       "       [0.        , 0.        , 0.        , 0.        , 0.        ,\n",
       "        0.70588235, 0.88627451, 0.87843137, 1.        , 0.78039216,\n",
       "        0.8       , 0.81176471, 0.83921569, 0.83921569, 0.74509804,\n",
       "        0.84705882, 0.80784314, 0.79607843, 0.80392157, 0.85882353,\n",
       "        0.95294118, 0.87843137, 0.83921569, 0.91764706, 0.        ,\n",
       "        0.        , 0.        , 0.        ],\n",
       "       [0.        , 0.        , 0.        , 0.        , 0.        ,\n",
       "        0.88235294, 0.8745098 , 0.89411765, 0.99607843, 0.81960784,\n",
       "        0.80784314, 0.81568627, 0.83529412, 0.82352941, 0.74901961,\n",
       "        0.84313725, 0.81176471, 0.8       , 0.81568627, 0.82745098,\n",
       "        0.97647059, 0.88627451, 0.83921569, 1.        , 0.14901961,\n",
       "        0.        , 0.        , 0.        ],\n",
       "       [0.        , 0.        , 0.        , 0.        , 0.        ,\n",
       "        0.98039216, 0.90980392, 0.94117647, 0.9372549 , 0.82745098,\n",
       "        0.79607843, 0.81960784, 0.80392157, 0.82745098, 0.77254902,\n",
       "        0.84313725, 0.81568627, 0.81568627, 0.83921569, 0.83529412,\n",
       "        0.9372549 , 0.90588235, 0.85882353, 1.        , 0.31764706,\n",
       "        0.        , 0.        , 0.        ],\n",
       "       [0.        , 0.        , 0.        , 0.        , 0.        ,\n",
       "        0.97254902, 0.9254902 , 0.96862745, 0.94117647, 0.79607843,\n",
       "        0.78431373, 0.81568627, 0.80784314, 0.83921569, 0.75686275,\n",
       "        0.83529412, 0.83137255, 0.81568627, 0.83137255, 0.82745098,\n",
       "        0.95294118, 0.94901961, 0.88235294, 0.99607843, 0.25882353,\n",
       "        0.        , 0.        , 0.        ],\n",
       "       [0.        , 0.        , 0.        , 0.        , 0.        ,\n",
       "        0.96862745, 0.90196078, 0.98823529, 0.88627451, 0.78039216,\n",
       "        0.82745098, 0.79215686, 0.82745098, 0.83529412, 0.71372549,\n",
       "        0.83529412, 0.83137255, 0.80784314, 0.79215686, 0.85882353,\n",
       "        0.81176471, 0.96862745, 0.87058824, 0.92941176, 0.40784314,\n",
       "        0.        , 0.        , 0.        ],\n",
       "       [0.        , 0.        , 0.        , 0.        , 0.03921569,\n",
       "        0.95686275, 0.85882353, 0.98039216, 0.80392157, 0.78039216,\n",
       "        0.81960784, 0.79215686, 0.81960784, 0.82745098, 0.74117647,\n",
       "        0.83921569, 0.80784314, 0.82352941, 0.78431373, 0.83137255,\n",
       "        0.60392157, 0.94117647, 0.81568627, 0.85882353, 0.54901961,\n",
       "        0.        , 0.        , 0.        ],\n",
       "       [0.        , 0.        , 0.        , 0.        , 0.08235294,\n",
       "        1.        , 0.87058824, 0.93333333, 0.72156863, 0.82352941,\n",
       "        0.75294118, 0.80784314, 0.81960784, 0.82352941, 0.74117647,\n",
       "        0.83529412, 0.82745098, 0.81960784, 0.75294118, 0.89411765,\n",
       "        0.60784314, 0.88627451, 0.93333333, 0.94509804, 0.65098039,\n",
       "        0.        , 0.        , 0.        ],\n",
       "       [0.        , 0.        , 0.        , 0.        , 0.14509804,\n",
       "        0.96078431, 0.88627451, 0.94509804, 0.58823529, 0.77254902,\n",
       "        0.74117647, 0.8       , 0.81960784, 0.82352941, 0.71764706,\n",
       "        0.83529412, 0.83529412, 0.78823529, 0.72156863, 0.84313725,\n",
       "        0.57254902, 0.84705882, 0.9254902 , 0.88235294, 0.60392157,\n",
       "        0.        , 0.        , 0.        ],\n",
       "       [0.        , 0.        , 0.        , 0.        , 0.22745098,\n",
       "        0.9372549 , 0.89019608, 1.        , 0.61960784, 0.75686275,\n",
       "        0.76470588, 0.8       , 0.81960784, 0.83529412, 0.70588235,\n",
       "        0.81176471, 0.85098039, 0.78039216, 0.76078431, 0.82745098,\n",
       "        0.61960784, 0.85882353, 0.9254902 , 0.84705882, 0.59215686,\n",
       "        0.        , 0.        , 0.        ],\n",
       "       [0.        , 0.        , 0.        , 0.        , 0.26666667,\n",
       "        0.91372549, 0.88627451, 0.95294118, 0.54509804, 0.78431373,\n",
       "        0.75686275, 0.80392157, 0.82352941, 0.81568627, 0.70588235,\n",
       "        0.80392157, 0.83137255, 0.79607843, 0.76862745, 0.84705882,\n",
       "        0.61568627, 0.70196078, 1.        , 0.84705882, 0.60784314,\n",
       "        0.        , 0.        , 0.        ],\n",
       "       [0.        , 0.        , 0.        , 0.        , 0.31764706,\n",
       "        0.88235294, 0.87843137, 0.82745098, 0.54117647, 0.85882353,\n",
       "        0.7254902 , 0.78823529, 0.83529412, 0.81176471, 0.77254902,\n",
       "        0.88627451, 0.83137255, 0.78431373, 0.74509804, 0.84313725,\n",
       "        0.71764706, 0.35294118, 1.        , 0.82745098, 0.57647059,\n",
       "        0.        , 0.        , 0.        ],\n",
       "       [0.        , 0.        , 0.        , 0.        , 0.35686275,\n",
       "        0.82352941, 0.90196078, 0.61960784, 0.44705882, 0.80392157,\n",
       "        0.73333333, 0.81568627, 0.81960784, 0.80784314, 0.75686275,\n",
       "        0.82352941, 0.82745098, 0.8       , 0.76470588, 0.8       ,\n",
       "        0.70980392, 0.09019608, 1.        , 0.83529412, 0.61960784,\n",
       "        0.        , 0.        , 0.        ],\n",
       "       [0.        , 0.        , 0.        , 0.        , 0.34117647,\n",
       "        0.80392157, 0.90980392, 0.42745098, 0.64313725, 1.        ,\n",
       "        0.83921569, 0.87843137, 0.87058824, 0.82352941, 0.77254902,\n",
       "        0.83921569, 0.88235294, 0.87058824, 0.82745098, 0.8627451 ,\n",
       "        0.85098039, 0.        , 0.91764706, 0.84705882, 0.6627451 ,\n",
       "        0.        , 0.        , 0.        ],\n",
       "       [0.        , 0.        , 0.        , 0.        , 0.36078431,\n",
       "        0.83529412, 0.90980392, 0.57254902, 0.01960784, 0.5254902 ,\n",
       "        0.59215686, 0.63529412, 0.66666667, 0.71764706, 0.71372549,\n",
       "        0.64313725, 0.65098039, 0.69803922, 0.63529412, 0.61176471,\n",
       "        0.38431373, 0.        , 0.94117647, 0.88235294, 0.82352941,\n",
       "        0.        , 0.        , 0.        ],\n",
       "       [0.        , 0.        , 0.        , 0.        , 0.16862745,\n",
       "        0.64313725, 0.80784314, 0.55294118, 0.        , 0.        ,\n",
       "        0.        , 0.        , 0.        , 0.        , 0.        ,\n",
       "        0.        , 0.        , 0.        , 0.        , 0.        ,\n",
       "        0.        , 0.        , 0.49803922, 0.49019608, 0.29803922,\n",
       "        0.        , 0.        , 0.        ]])"
      ]
     },
     "execution_count": 11,
     "metadata": {},
     "output_type": "execute_result"
    }
   ],
   "source": [
    "x_train[0].reshape(28, 28)"
   ]
  },
  {
   "cell_type": "markdown",
   "metadata": {},
   "source": [
    "## <font color=\"DARKVIOLET\">**Keras Sequential API** - All neural network layers connected *sequentially*.</font>"
   ]
  },
  {
   "cell_type": "markdown",
   "metadata": {},
   "source": [
    "<font color=\"red\">**- - - - WARNING OF USE - - - -**</font>\n",
    "<br> Keras/Tensorflow will **AUTOMATICALLY EXTEND** the neural networks model if you **rerun the code**. So if you have a Neural Network model consists of *flatten-dense-dense1-dense2* (with training epochs = 100, i.e. from 1-100), then the first rerunned result will return *flatten2-dense3-dense4-dense5*, and it'll impact the training epoch as well (i.e. from 101-200). And so on for the next rerun. Therefore, instead you rerun the cell, **RESTART THE JUPYTER NOTEBOOK KERNEL** instead."
   ]
  },
  {
   "cell_type": "markdown",
   "metadata": {},
   "source": [
    "> <font color=\"red\"> **(Step 1) Build the Model - Multi Layer Perceptron (MLP)** </font>\n",
    "* Define parameters: weight and bias\n",
    "* Define hyperparameters: total neurons on (1) input layers, (2) hidden layers, and (3) output layer, also (4) activation functions\n",
    "\n",
    "<br> See **Keras Core Layers** documentation [**here**](https://keras.io/api/layers/core_layers/).\n",
    "<br> See **Keras Model.summary() and Model.get_layers() method** documentation [**here**](https://keras.io/api/models/model/#summary-method).\n",
    "<br> See **Keras Layer Initializer** for weights (*kernel_initializer*) and biases (*bias_initializer*) [**here**](https://keras.io/api/layers/initializers/).\n",
    "<br> See **Keras Activation Functions** [**here**](https://keras.io/api/layers/activations/).\n",
    "<br> By default on .layers.Dense(), activation=None, kernel_initializer=\"glorot_uniform\" and bias_initializer=\"zeros\"."
   ]
  },
  {
   "cell_type": "code",
   "execution_count": 12,
   "metadata": {},
   "outputs": [
    {
     "name": "stdout",
     "output_type": "stream",
     "text": [
      "Model: \"sequential\"\n",
      "_________________________________________________________________\n",
      "Layer (type)                 Output Shape              Param #   \n",
      "=================================================================\n",
      "flatten (Flatten)            (None, 784)               0         \n",
      "_________________________________________________________________\n",
      "dense (Dense)                (None, 300)               235500    \n",
      "_________________________________________________________________\n",
      "dense_1 (Dense)              (None, 100)               30100     \n",
      "_________________________________________________________________\n",
      "dense_2 (Dense)              (None, 10)                1010      \n",
      "=================================================================\n",
      "Total params: 266,610\n",
      "Trainable params: 266,610\n",
      "Non-trainable params: 0\n",
      "_________________________________________________________________\n"
     ]
    }
   ],
   "source": [
    "model = keras.models.Sequential([\n",
    "    keras.layers.Flatten(input_shape=[28, 28]), # Input layer: convert input image into 1D array\n",
    "    keras.layers.Dense(300, activation=\"relu\", bias_initializer=\"random_uniform\"), # First hidden layer with 300 neurons\n",
    "    keras.layers.Dense(100, activation=\"relu\", bias_initializer=\"random_uniform\"), # Second hidden layer with 100 neurons\n",
    "    keras.layers.Dense(10, activation=\"softmax\", bias_initializer=\"random_uniform\") # Output layer: use softmax activation func. due to multiclass classification\n",
    "])\n",
    "model.summary()"
   ]
  },
  {
   "cell_type": "markdown",
   "metadata": {},
   "source": [
    "**Notes:** In Keras,\n",
    "* bias_initializer=\"random_normal\" is **equivalent** to bias_initializer=tf.keras.initializers.random_normal()\n",
    "* kernel_initializer=\"glorot_uniform\" is **equivalent** to kernel_initializer=tf.keras.initializers.glorot_uniform()\n",
    "* activation=\"relu\" is **equivalent** to activation=tf.keras.activations.relu()\n",
    "\n",
    "Therefore, parameter=\"x\" is **equivalent** to parameter=tf.keras.____.x()\n",
    "<br> It's also applied for loss function, optimizer, and metrics later.\n",
    "<br> To adjust or change parameters flexibly, use its original function instead."
   ]
  },
  {
   "cell_type": "markdown",
   "metadata": {},
   "source": [
    "<font color=\"DARKVIOLET\">Retrieve all **layers**."
   ]
  },
  {
   "cell_type": "code",
   "execution_count": 13,
   "metadata": {},
   "outputs": [
    {
     "data": {
      "text/plain": [
       "['flatten', 'dense', 'dense_1', 'dense_2']"
      ]
     },
     "execution_count": 13,
     "metadata": {},
     "output_type": "execute_result"
    }
   ],
   "source": [
    "# Print all layers name\n",
    "[model.layers[i].name for i in range(len(model.layers))]"
   ]
  },
  {
   "cell_type": "code",
   "execution_count": 14,
   "metadata": {},
   "outputs": [
    {
     "name": "stdout",
     "output_type": "stream",
     "text": [
      "<tensorflow.python.keras.layers.core.Flatten object at 0x0000020614BA3438>\n",
      "<tensorflow.python.keras.layers.core.Dense object at 0x0000020614BEC668>\n",
      "<tensorflow.python.keras.layers.core.Dense object at 0x0000020614BEC8D0>\n",
      "<tensorflow.python.keras.layers.core.Dense object at 0x0000020614BECB70>\n"
     ]
    }
   ],
   "source": [
    "print(model.get_layer('flatten')) # Retrieve input layer\n",
    "print(model.get_layer('dense')) # Retrieve first hidden layer\n",
    "print(model.get_layer('dense_1')) # Retrieve second hidden layer\n",
    "print(model.get_layer('dense_2')) # Retrieve output layer"
   ]
  },
  {
   "cell_type": "markdown",
   "metadata": {},
   "source": [
    "<font color=\"DARKVIOLET\">Extract **weights** and **bias** from selected layer.</font>\n",
    "<br>Remember, the first layer i.e. **input layer**, doesn't have weights and biases targeted to its neurons."
   ]
  },
  {
   "cell_type": "markdown",
   "metadata": {},
   "source": [
    "* First Hidden Layer"
   ]
  },
  {
   "cell_type": "code",
   "execution_count": 15,
   "metadata": {
    "scrolled": true
   },
   "outputs": [
    {
     "name": "stdout",
     "output_type": "stream",
     "text": [
      "Weights for 1st Hidden Layer:\n",
      " [[-0.02869605  0.06000911 -0.05383126 ... -0.03035083 -0.07106625\n",
      "  -0.02747171]\n",
      " [ 0.06034715 -0.05225416 -0.05140927 ... -0.05591311  0.06035335\n",
      "  -0.07218276]\n",
      " [-0.04680374 -0.02948533 -0.05239812 ... -0.06447018 -0.02264594\n",
      "   0.0054324 ]\n",
      " ...\n",
      " [-0.06917772  0.03430481  0.07019281 ... -0.03543917 -0.047256\n",
      "  -0.0124477 ]\n",
      " [ 0.06158349  0.06722003  0.06813541 ...  0.06899731 -0.05780983\n",
      "  -0.0234901 ]\n",
      " [-0.05182545  0.00630923 -0.03960059 ...  0.05216217 -0.02170986\n",
      "  -0.03459877]]\n",
      "\n",
      "Biases for 1st Hidden Layer:\n",
      " [ 1.99706592e-02  4.47870418e-03  1.24122389e-02 -3.95775922e-02\n",
      "  2.91106813e-02 -4.64501642e-02  2.45232321e-02 -4.93382588e-02\n",
      " -3.34002599e-02 -1.26529448e-02  2.95060314e-02 -2.23744512e-02\n",
      " -1.79651007e-02  2.47750543e-02 -1.34478323e-02 -1.46978125e-02\n",
      " -5.67597151e-03  4.71434109e-02 -2.55892165e-02  2.64593400e-02\n",
      "  9.51480865e-03 -3.75578552e-03  3.67090143e-02 -4.10701260e-02\n",
      " -2.17509270e-03 -1.18107684e-02 -5.42666763e-03  2.10279860e-02\n",
      "  2.72843726e-02 -3.98282781e-02 -6.32628798e-05  4.34978046e-02\n",
      " -4.05681245e-02 -4.36912887e-02 -7.27409124e-03  1.24135986e-02\n",
      " -4.64324355e-02 -4.56676148e-02  2.68272795e-02  1.31248720e-02\n",
      "  4.57550921e-02 -2.85511967e-02  3.30882929e-02  3.07792686e-02\n",
      " -6.75438717e-03  2.42045783e-02  2.32658871e-02 -2.66535040e-02\n",
      " -3.52187045e-02 -4.00619619e-02 -7.38811493e-03 -3.37766297e-02\n",
      "  4.36190106e-02 -1.17483512e-02  1.37603171e-02 -3.97728793e-02\n",
      "  3.79492156e-02  2.69594677e-02 -1.27203688e-02  1.32664926e-02\n",
      " -2.79986858e-03 -1.44741312e-02 -3.40328962e-02 -3.96800414e-02\n",
      " -3.01830303e-02  4.41150777e-02 -2.18271613e-02 -3.78813967e-02\n",
      " -1.14816315e-02 -3.50209102e-02 -1.09689124e-02 -2.89868601e-02\n",
      "  4.26663496e-02 -2.07826253e-02 -2.42419839e-02  5.13058901e-03\n",
      " -8.31010193e-03 -1.91450845e-02 -5.17194346e-03 -1.07812881e-03\n",
      "  2.53379233e-02  1.06943622e-02  4.34360541e-02  4.18232568e-02\n",
      "  3.58385555e-02  4.46283109e-02 -4.55577038e-02 -3.40868123e-02\n",
      " -1.09273903e-02  2.36720480e-02 -6.56992197e-03  3.61194350e-02\n",
      "  2.55408920e-02  4.21762355e-02  2.54899152e-02 -1.56146772e-02\n",
      "  1.50836594e-02 -2.91267987e-02  2.50734128e-02 -8.76974314e-04\n",
      "  2.49600895e-02 -3.46764103e-02  3.28923799e-02 -4.67265137e-02\n",
      "  3.81373875e-02 -1.92267429e-02  1.39290951e-02 -3.09095513e-02\n",
      " -2.67569907e-02  1.79918297e-02  3.76806520e-02 -3.06411982e-02\n",
      "  1.47337355e-02 -2.05590483e-02 -2.11248398e-02 -1.23505592e-02\n",
      " -2.03839894e-02  2.25283392e-02 -1.87985301e-02  4.90974076e-02\n",
      "  4.53185290e-04  1.02038011e-02 -1.90885309e-02  4.69601154e-03\n",
      " -3.11886799e-02  2.27981918e-02 -3.91173735e-02  3.67598422e-02\n",
      "  4.33252342e-02  4.28312160e-02  2.88878940e-02 -1.09723583e-02\n",
      "  1.62655227e-02  1.46190561e-02 -5.57539612e-03  4.94276322e-02\n",
      " -1.76700465e-02  3.19833271e-02 -2.38866452e-02 -3.86164412e-02\n",
      "  3.89040746e-02 -3.44775990e-03  4.86009754e-02 -3.83322723e-02\n",
      " -3.79770622e-02  2.08285116e-02 -5.66332415e-03  4.15639766e-02\n",
      "  1.20787844e-02 -3.95410173e-02 -4.10948768e-02  1.92834623e-02\n",
      "  9.49150324e-03  2.82545350e-02  4.98815216e-02 -1.30823143e-02\n",
      " -2.75684725e-02 -7.95489550e-03  2.25315727e-02  3.21604125e-02\n",
      "  3.64966318e-03 -4.89179753e-02 -3.49047072e-02  2.48518102e-02\n",
      "  1.58186220e-02 -6.28411770e-03 -1.32554770e-02  3.45168971e-02\n",
      " -3.31848636e-02 -4.38709967e-02  3.42668779e-02 -1.93826091e-02\n",
      " -8.49778578e-03 -3.21358815e-02 -3.36549431e-03  2.21125968e-02\n",
      "  3.31095345e-02  8.92970711e-03  2.94604190e-02 -3.27803493e-02\n",
      "  3.02125104e-02  3.11591290e-02 -2.67351028e-02 -3.04540284e-02\n",
      "  1.37164108e-02 -3.23421732e-02 -4.98538092e-03  1.89986564e-02\n",
      " -1.16510279e-02  4.64232080e-02  2.27811821e-02  1.84108950e-02\n",
      "  1.92225464e-02  3.64140905e-02  4.59751375e-02  2.90120579e-02\n",
      " -7.76619837e-03 -4.99204881e-02  4.97283973e-02  1.84246637e-02\n",
      "  2.19065063e-02 -2.88529526e-02 -2.31112596e-02 -4.24822420e-03\n",
      "  4.49413694e-02 -3.18529457e-03 -3.57479826e-02 -1.68137178e-02\n",
      " -2.00533513e-02 -3.02973744e-02  4.14036401e-02  3.91017087e-02\n",
      " -1.54891610e-02 -3.72553356e-02 -3.23275700e-02  4.38080467e-02\n",
      " -1.56943575e-02  3.75890844e-02 -3.44600454e-02  4.68326844e-02\n",
      " -2.77521852e-02  1.00134723e-02  2.75254287e-02 -2.27716453e-02\n",
      "  4.03215922e-02  2.53887512e-02 -2.89283991e-02  2.82002203e-02\n",
      "  4.92415540e-02  4.08681668e-02  4.23723459e-03 -2.69514080e-02\n",
      " -4.71385978e-02 -1.52067058e-02  2.73848511e-02 -1.91741474e-02\n",
      " -1.50295347e-03  4.67416681e-02 -6.44390658e-03  4.77184318e-02\n",
      " -2.69927979e-02  2.66202800e-02 -2.16425546e-02  3.52220424e-02\n",
      " -4.36821841e-02  4.41296808e-02  1.82930715e-02  2.09255330e-02\n",
      "  1.69690363e-02  3.22062708e-02 -3.69152911e-02 -2.29241606e-02\n",
      " -2.92717349e-02 -3.30811143e-02  2.28940137e-02  4.46019880e-02\n",
      "  1.80013217e-02  3.29388492e-02  1.80665292e-02  8.08330625e-03\n",
      "  4.52117212e-02  3.67883779e-02  1.62527710e-03  3.22278477e-02\n",
      " -3.53840701e-02  1.89488791e-02 -3.18656117e-03  4.52028178e-02\n",
      " -2.66348850e-02  1.85193084e-02 -7.37328455e-03 -2.56240368e-02\n",
      " -1.42740011e-02  4.21920530e-02 -3.08966041e-02 -3.07502877e-02\n",
      " -1.23495460e-02 -4.13030982e-02  3.04177888e-02 -1.88593753e-02\n",
      " -3.51415277e-02  3.79931070e-02 -1.76914930e-02  4.45994176e-02\n",
      " -3.47036123e-02 -6.39690086e-03  6.42092153e-03  4.89070080e-02\n",
      "  4.33934666e-02 -8.14058632e-03 -8.51521641e-03 -6.50727749e-03\n",
      "  2.48853117e-03 -4.65728417e-02 -3.67880352e-02  3.83809917e-02\n",
      " -3.33070643e-02  4.25845273e-02  3.12808268e-02  3.72664593e-02]\n"
     ]
    }
   ],
   "source": [
    "weights_1, biases_1 = model.get_layer('dense').get_weights()\n",
    "print(\"Weights for 1st Hidden Layer:\\n\", weights_1, end=\"\\n\\n\")\n",
    "print(\"Biases for 1st Hidden Layer:\\n\", biases_1)"
   ]
  },
  {
   "cell_type": "markdown",
   "metadata": {},
   "source": [
    "* Second Hidden Layer"
   ]
  },
  {
   "cell_type": "code",
   "execution_count": 16,
   "metadata": {
    "scrolled": true
   },
   "outputs": [
    {
     "name": "stdout",
     "output_type": "stream",
     "text": [
      "Weights for 2nd Hidden Layer:\n",
      " [[ 0.00644185  0.0464863   0.08519828 ...  0.02583236  0.00871959\n",
      "   0.10924942]\n",
      " [-0.07420011 -0.10566595 -0.01443684 ... -0.00770745 -0.10125975\n",
      "   0.03213113]\n",
      " [-0.03059123 -0.0510636   0.10794286 ...  0.09388683  0.10424162\n",
      "   0.10529707]\n",
      " ...\n",
      " [-0.03903677  0.02373669  0.05502919 ... -0.02257137  0.08989861\n",
      "   0.11069574]\n",
      " [-0.01400255  0.06575229  0.03750461 ... -0.09421647 -0.08531894\n",
      "   0.09338228]\n",
      " [-0.10317342  0.09676952  0.04483769 ...  0.0449386   0.10239231\n",
      "   0.10882438]]\n",
      "\n",
      "Biases for 2nd Hidden Layer:\n",
      " [-0.00111724  0.03397789  0.00048479  0.02616829 -0.00754076  0.0102801\n",
      "  0.03368837 -0.03464412 -0.01204473 -0.0105565  -0.02087768 -0.02378988\n",
      " -0.02566609 -0.03971107  0.00867804  0.00409264  0.02003837  0.00683985\n",
      "  0.0439902  -0.02659978  0.03485959 -0.04554969 -0.01208353 -0.01646813\n",
      "  0.01313055 -0.01579351 -0.02269348  0.03113011 -0.03902892  0.00238134\n",
      " -0.04819424  0.02333423 -0.0309354   0.04197541 -0.03061792  0.03423843\n",
      " -0.01269776  0.01513729 -0.00818163  0.03849156 -0.03525078 -0.01387514\n",
      "  0.02409447 -0.02584201 -0.0037498   0.00289215  0.046967    0.04665948\n",
      " -0.03225967  0.03858931 -0.02369158  0.00308023  0.0047001   0.03596174\n",
      " -0.00941856  0.02565238  0.02398879 -0.01913323 -0.02254881  0.02105412\n",
      "  0.01530886  0.00677686 -0.0367015   0.03103414  0.04094427  0.02697654\n",
      "  0.0442648  -0.03321471  0.01087158  0.04931207  0.04045308 -0.04338957\n",
      "  0.04761824 -0.01539697  0.00813786 -0.02063428  0.02272483  0.00018065\n",
      " -0.01876223  0.01976324  0.00820833  0.03069406 -0.03859567  0.0250915\n",
      "  0.03603328  0.00611657 -0.02956314  0.04237064  0.03944692 -0.02984716\n",
      "  0.00314723  0.01976421 -0.02952914  0.0027265  -0.00961334 -0.03945952\n",
      "  0.03922654 -0.00981109 -0.01191913 -0.00195654]\n"
     ]
    }
   ],
   "source": [
    "weights_2, biases_2 = model.get_layer('dense_1').get_weights()\n",
    "print(\"Weights for 2nd Hidden Layer:\\n\", weights_2, end=\"\\n\\n\")\n",
    "print(\"Biases for 2nd Hidden Layer:\\n\", biases_2)"
   ]
  },
  {
   "cell_type": "markdown",
   "metadata": {},
   "source": [
    "* Output Layer"
   ]
  },
  {
   "cell_type": "code",
   "execution_count": 17,
   "metadata": {
    "scrolled": true
   },
   "outputs": [
    {
     "name": "stdout",
     "output_type": "stream",
     "text": [
      "Weights for 2nd Hidden Layer:\n",
      " [[ 6.86685443e-02  2.69286335e-03  2.08080083e-01 -6.79412782e-02\n",
      "   1.83109939e-01 -5.10614812e-02 -1.49714649e-01  6.12909794e-02\n",
      "  -1.88630879e-01  1.48765713e-01]\n",
      " [-7.14159161e-02  3.16484272e-02 -6.04345948e-02 -1.99051261e-01\n",
      "   1.28368467e-01 -3.37642431e-02  1.54469460e-01  4.82897162e-02\n",
      "  -1.39941573e-01  4.09321487e-02]\n",
      " [-7.93619305e-02 -1.36079341e-02 -1.31837592e-01  4.10937965e-02\n",
      "   6.65417910e-02 -4.33856994e-02 -1.69726312e-01 -8.82080048e-02\n",
      "   4.86601889e-02  1.38273269e-01]\n",
      " [-2.36055106e-02  1.36540711e-01  9.40058529e-02  7.22563863e-02\n",
      "   1.99968755e-01 -2.06969932e-01  2.46390700e-04 -2.41300464e-03\n",
      "  -1.57443017e-01 -2.13240385e-02]\n",
      " [ 1.70717299e-01 -1.02017671e-02  3.97174954e-02 -1.16305605e-01\n",
      "   9.06375051e-02  9.01563466e-02  1.39174789e-01  2.27454007e-01\n",
      "  -1.69136465e-01  9.42006111e-02]\n",
      " [ 2.17177957e-01 -9.81696248e-02 -2.84395516e-02  1.78245842e-01\n",
      "   8.81712139e-03  1.02517605e-01 -1.88863903e-01  4.81493473e-02\n",
      "   2.88659632e-02  9.03064609e-02]\n",
      " [-1.90564960e-01  1.76001340e-01 -3.73681337e-02 -1.80070743e-01\n",
      "  -6.31408244e-02  2.20026284e-01 -1.51914448e-01 -1.02782816e-01\n",
      "  -1.74169496e-01 -1.33535713e-02]\n",
      " [-3.46728265e-02  1.77406937e-01  9.92017090e-02 -1.08194664e-01\n",
      "   9.11149681e-02 -2.15793625e-01  2.06445515e-01 -2.29454115e-01\n",
      "  -4.22842354e-02 -2.30107754e-02]\n",
      " [-1.13518357e-01  2.08970398e-01 -1.38510481e-01 -2.83903182e-02\n",
      "  -5.94202280e-02  1.62704617e-01  1.95268750e-01 -1.02324098e-01\n",
      "   1.65994585e-01 -8.55354071e-02]\n",
      " [ 1.47761643e-01  5.72267175e-02  1.39647961e-01 -1.77630618e-01\n",
      "   1.42321110e-01  1.00206107e-01 -1.73582822e-01 -1.45813420e-01\n",
      "  -1.30805179e-01 -5.90257049e-02]\n",
      " [-1.25328958e-01  2.07152009e-01 -1.88150853e-02  8.81771147e-02\n",
      "   8.98556411e-02  1.21253282e-01 -1.99079275e-01  1.65148258e-01\n",
      "   7.13762641e-02 -1.40568465e-01]\n",
      " [-7.80269504e-02 -1.74926445e-01  4.73532379e-02 -1.85685605e-01\n",
      "   1.08057678e-01  9.87108052e-02  1.48887932e-01  6.66475892e-02\n",
      "   1.81859940e-01  1.66104257e-01]\n",
      " [-2.19059736e-02  1.95033312e-01  1.79743201e-01  1.59618795e-01\n",
      "   1.79603696e-02  1.97198749e-01  6.44989312e-02 -2.19288319e-01\n",
      "  -1.67620897e-01 -1.77805007e-01]\n",
      " [-7.65843242e-02  1.75646484e-01 -1.76572874e-01 -8.63551646e-02\n",
      "  -4.16580290e-02 -1.59316614e-01 -1.29562914e-01 -2.32696354e-01\n",
      "   8.94353688e-02  6.52975142e-02]\n",
      " [ 2.28741050e-01  1.16963446e-01 -4.86688614e-02 -6.36571646e-02\n",
      "  -2.09991053e-01 -2.48176754e-02 -1.32583916e-01  1.32463872e-03\n",
      "   2.14951336e-02  1.19577408e-01]\n",
      " [ 5.96307516e-02 -1.11836240e-01 -7.88739920e-02  7.27354288e-02\n",
      "  -1.91645086e-01  1.62897348e-01 -6.42952323e-02  4.22469378e-02\n",
      "  -7.66092539e-03 -8.70772004e-02]\n",
      " [ 3.02450955e-02 -4.01433557e-02 -1.85158908e-01 -2.11543739e-02\n",
      "  -2.25296527e-01 -1.51295319e-01 -3.45947593e-02  8.38680565e-03\n",
      "  -1.38206124e-01  8.97246897e-02]\n",
      " [ 1.53000921e-01 -6.57493323e-02  8.86926055e-02 -4.25227880e-02\n",
      "  -1.71721026e-01  5.52186966e-02  1.99103445e-01 -5.44286072e-02\n",
      "   2.17764109e-01 -6.49471134e-02]\n",
      " [ 1.25875056e-01 -2.21602038e-01  2.11019665e-01  2.33578980e-02\n",
      "  -3.70052606e-02  6.91955090e-02 -1.19135395e-01 -8.85285139e-02\n",
      "   1.80007368e-01  1.62370235e-01]\n",
      " [-1.21523008e-01  1.58205479e-01  1.32954240e-01 -2.13043794e-01\n",
      "   2.36340165e-02 -1.56090021e-01  1.04034275e-01  1.77527487e-01\n",
      "  -2.60891318e-02 -1.18365251e-01]\n",
      " [-9.97093618e-02 -2.03521684e-01  1.61226302e-01 -1.52144969e-01\n",
      "  -4.45353687e-02  1.92628890e-01 -1.07017249e-01  4.47716415e-02\n",
      "  -1.52339190e-02  1.44133478e-01]\n",
      " [ 1.73994601e-01 -2.28642225e-02  2.16303229e-01  1.57916486e-01\n",
      "  -2.03631207e-01 -6.18343353e-02 -2.02254742e-01 -1.76572874e-01\n",
      "  -1.20433122e-02 -1.05394095e-01]\n",
      " [ 1.93320125e-01 -2.03867748e-01  1.96065158e-01 -1.84094697e-01\n",
      "   1.28984571e-01 -1.02449328e-01  1.87758178e-01 -1.81991562e-01\n",
      "  -1.51287243e-01 -1.30460680e-01]\n",
      " [-1.31474540e-01 -1.99557185e-01  1.36013329e-01  1.96268231e-01\n",
      "  -1.50472105e-01  7.63073564e-02  6.07345402e-02  1.29826516e-01\n",
      "  -8.76865387e-02  1.00467205e-01]\n",
      " [-1.77959695e-01  9.37575996e-02 -1.93767875e-01 -1.46509901e-01\n",
      "  -5.28275222e-02 -1.73189208e-01  1.02179378e-01 -1.19957045e-01\n",
      "   3.81930768e-02 -9.29419696e-03]\n",
      " [ 1.56615168e-01  1.33444488e-01  1.21575415e-01 -7.99935460e-02\n",
      "   1.06266648e-01  1.88079774e-01 -2.22116932e-01  1.36074543e-01\n",
      "   2.76586115e-02 -6.54516518e-02]\n",
      " [ 6.64183497e-02 -8.65697861e-04  1.30861580e-01 -2.00197041e-01\n",
      "  -8.49441737e-02 -7.05278963e-02 -1.49476722e-01  1.47479504e-01\n",
      "  -1.13853812e-03  7.32567906e-02]\n",
      " [ 1.88713670e-01  6.20535016e-02  8.06016028e-02  7.59754479e-02\n",
      "   1.93649560e-01 -9.80491936e-03  9.96243358e-02 -5.34511656e-02\n",
      "  -1.99591443e-01 -1.63571924e-01]\n",
      " [-1.57683104e-01 -1.27234980e-01  1.25830501e-01  1.73573524e-01\n",
      "   4.18318212e-02  1.84495717e-01 -4.21509296e-02 -6.00057840e-03\n",
      "  -9.96937156e-02 -7.65056908e-03]\n",
      " [ 3.34756374e-02  2.12140083e-02  1.20991230e-01 -2.30376050e-01\n",
      "   1.42323583e-01 -1.36869133e-01 -1.12317003e-01  4.89199460e-02\n",
      "  -1.48806080e-01 -1.52986795e-01]\n",
      " [ 3.06695104e-02 -1.71633720e-01 -3.98723483e-02 -1.91204026e-01\n",
      "  -2.00605810e-01 -1.53556913e-02 -1.22790121e-01 -9.89926606e-02\n",
      "   1.09354317e-01  1.90299451e-01]\n",
      " [-6.38713241e-02  1.46952897e-01  7.93904364e-02 -2.04362661e-01\n",
      "   1.16810858e-01  1.43911093e-01  2.32993811e-01  2.97610164e-02\n",
      "   2.05154866e-01 -1.60629660e-01]\n",
      " [ 6.34320974e-02  1.17364377e-02 -1.90851614e-01 -2.11888716e-01\n",
      "  -5.21196723e-02 -6.80789202e-02  6.14001751e-02 -1.94666982e-01\n",
      "  -1.07025325e-01  5.44822216e-02]\n",
      " [-6.11095130e-02 -1.87702030e-02  1.57197684e-01 -1.03359744e-01\n",
      "  -1.24797203e-01 -1.01568148e-01  1.12968117e-01  7.95877278e-02\n",
      "   1.39049560e-01  1.96199596e-01]\n",
      " [ 2.16516763e-01  5.41923642e-02 -1.19152881e-01 -3.36474776e-02\n",
      "  -1.28797650e-01 -3.76031101e-02 -2.58499682e-02  2.21406549e-01\n",
      "   6.14079833e-02  1.13542467e-01]\n",
      " [ 6.69372678e-02  1.09526575e-01 -1.20097421e-01  2.14925021e-01\n",
      "   1.75989985e-01  1.81815177e-01 -1.60780102e-02 -6.76415265e-02\n",
      "  -1.17142901e-01  2.24579096e-01]\n",
      " [ 1.66880757e-01  1.13097996e-01 -1.72592014e-01  1.69860154e-01\n",
      "   8.61226916e-02 -1.44513577e-01  1.54124200e-01 -2.01986879e-02\n",
      "  -7.59269893e-02 -2.24548936e-01]\n",
      " [-1.75789192e-01 -1.60955399e-01 -5.69621176e-02  9.23986137e-02\n",
      "  -3.48530710e-02  1.67771339e-01  1.02094859e-01  1.50727630e-01\n",
      "  -1.67710096e-01 -5.58212399e-04]\n",
      " [ 1.55470103e-01  2.03852594e-01  1.51284248e-01 -6.58429861e-02\n",
      "  -8.52038711e-02  2.10796386e-01 -1.49588585e-01 -1.23524353e-01\n",
      "   1.31760865e-01  2.05509990e-01]\n",
      " [ 2.16533542e-02 -2.30237991e-02 -5.41776568e-02  1.99416995e-01\n",
      "  -1.38342500e-01 -8.75086337e-02 -1.47014856e-02  1.27894312e-01\n",
      "   9.52771902e-02  1.89665467e-01]\n",
      " [ 1.91574246e-01 -8.86961818e-04 -2.03829765e-01  8.14081132e-02\n",
      "  -8.75846893e-02 -8.11655521e-02  9.83473659e-02  1.73158139e-01\n",
      "   1.11030519e-01 -1.60409987e-01]\n",
      " [-1.08064532e-01  1.06304884e-04  1.07752591e-01 -1.06600806e-01\n",
      "   8.23861659e-02  1.97554737e-01 -1.79761812e-01  1.59889430e-01\n",
      "   1.15525872e-01  1.35099024e-01]\n",
      " [-9.49096233e-02 -7.58847594e-03 -1.45983696e-03 -1.09865665e-02\n",
      "  -5.10776937e-02 -1.01034939e-02 -2.06768423e-01 -1.72937915e-01\n",
      "  -7.41373003e-02 -1.22265033e-01]\n",
      " [ 1.62506729e-01  1.63051426e-01  7.55091012e-02  7.33575821e-02\n",
      "   1.78290576e-01  9.91952419e-02  1.73135996e-02  1.89158797e-01\n",
      "  -9.42487270e-02 -1.77572265e-01]\n",
      " [ 2.27118075e-01 -7.87586123e-02  1.81083441e-01 -5.96952885e-02\n",
      "  -4.56101596e-02  4.87646461e-02  1.01191908e-01 -6.29431456e-02\n",
      "  -1.93727463e-02  4.28961217e-02]\n",
      " [ 1.63367867e-01 -1.26610994e-02 -2.18395889e-01  1.60546243e-01\n",
      "   2.24120796e-01  4.53860462e-02  2.49929726e-02 -2.21846148e-01\n",
      "  -2.09128708e-02 -1.06076330e-01]\n",
      " [ 1.09709442e-01 -1.00877851e-01 -7.36828744e-02 -1.82045460e-01\n",
      "  -1.98458403e-01  1.22721344e-01  2.28215307e-01  2.17242599e-01\n",
      "  -4.02879119e-02  3.41686606e-02]\n",
      " [-6.50326312e-02 -1.45179480e-02  2.08133429e-01  2.82338262e-03\n",
      "   1.54460073e-02  2.16563940e-02 -8.13598782e-02  1.36982173e-01\n",
      "   6.77008331e-02  1.67943537e-02]\n",
      " [ 2.23085701e-01 -1.58091992e-01  7.68125653e-02 -7.02874064e-02\n",
      "   4.47202325e-02 -7.08391666e-02 -9.55324322e-02 -1.64288178e-01\n",
      "   7.61939883e-02  8.69272649e-02]\n",
      " [-2.10838094e-01 -6.56694770e-02  9.49463248e-02 -1.83640331e-01\n",
      "  -1.19496159e-01 -1.43664747e-01 -1.09214708e-01  1.12211317e-01\n",
      "   2.15997934e-01 -1.76102012e-01]\n",
      " [-7.33042806e-02  6.32844269e-02  8.22965801e-03 -1.43430650e-01\n",
      "   9.59443152e-02 -5.33550531e-02 -1.32069021e-01 -7.34117031e-02\n",
      "  -1.35588095e-01  1.69181734e-01]\n",
      " [ 2.31458962e-01  1.04071200e-01 -5.33720404e-02 -2.08551764e-01\n",
      "   1.26751274e-01  1.99134409e-01  1.01964265e-01  4.48767841e-03\n",
      "  -1.42087698e-01 -1.22015409e-01]\n",
      " [ 4.51653004e-02 -1.81483358e-01  1.99545324e-01  2.96624899e-02\n",
      "  -1.70988187e-01  1.42094284e-01  2.89193690e-02 -1.68484449e-03\n",
      "   2.06830442e-01 -3.90992016e-02]\n",
      " [ 5.71748316e-02  8.53855014e-02  1.24370545e-01  3.95776331e-02\n",
      "  -1.65280387e-01 -4.16926742e-02  1.14826500e-01  1.33792281e-01\n",
      "  -1.40967369e-01 -7.78638572e-02]\n",
      " [ 1.42589450e-01 -2.25353375e-01  1.76696986e-01  1.66455060e-01\n",
      "  -5.92298359e-02 -1.17322370e-01  2.11157829e-01 -2.32780367e-01\n",
      "   1.37557089e-02 -1.63871452e-01]\n",
      " [ 6.93819523e-02 -2.04404309e-01 -1.77427322e-01  1.33351058e-01\n",
      "   5.42154014e-02 -4.42897528e-02 -1.64135784e-01  1.52182519e-01\n",
      "   1.01185441e-01  1.81309611e-01]\n",
      " [-8.15721452e-02 -1.84327900e-01 -9.74817127e-02  2.10152298e-01\n",
      "  -1.48440689e-01  9.89894867e-02  1.20673358e-01 -1.74862191e-01\n",
      "   7.20783770e-02  5.79562783e-02]\n",
      " [ 1.23843193e-01 -2.33223736e-02  2.22873390e-02 -8.49138796e-02\n",
      "  -1.00320980e-01  1.04743332e-01  8.92080069e-02  2.91114151e-02\n",
      "   1.47200853e-01  1.44359440e-01]\n",
      " [-5.97611070e-02 -1.11333594e-01 -6.17017001e-02 -8.30636024e-02\n",
      "   1.80601239e-01 -2.24197403e-01  2.18633890e-01 -2.19735667e-01\n",
      "   1.64827585e-01  2.95644999e-02]\n",
      " [ 1.81569368e-01  1.39609039e-01  2.13602960e-01 -1.38064027e-01\n",
      "   1.99012607e-01 -1.94321856e-01  2.01976895e-02 -1.58367008e-01\n",
      "  -8.16253722e-02 -4.91793603e-02]\n",
      " [ 1.85595334e-01  9.65158045e-02  4.77038920e-02  7.50318170e-04\n",
      "  -2.82879174e-03 -4.67583537e-03  1.58645362e-01 -2.31311634e-01\n",
      "  -1.29278034e-01  2.09577888e-01]\n",
      " [ 5.53841889e-02 -1.42501980e-01 -1.17916167e-02  2.28989780e-01\n",
      "   1.12583280e-01  2.25838423e-02 -5.41321635e-02 -1.14684910e-01\n",
      "   2.07776099e-01  1.04084790e-01]\n",
      " [ 9.43820477e-02 -1.07905999e-01 -1.97503954e-01  3.71082127e-02\n",
      "   2.02555269e-01  5.75649440e-02  7.59556592e-02 -2.25752681e-01\n",
      "   4.26266789e-02 -2.25353822e-01]\n",
      " [ 3.31952870e-02  1.01120681e-01 -1.98982105e-01  8.69054794e-02\n",
      "  -1.39484257e-01  7.68581033e-02 -1.07506469e-01  6.96653724e-02\n",
      "   1.10329300e-01 -7.24121332e-02]\n",
      " [-6.25273585e-02 -1.86117202e-01  2.33259529e-01  8.15103352e-02\n",
      "  -4.22465503e-02  7.64095485e-02  7.59520531e-02  1.10314339e-01\n",
      "   8.43332112e-02  1.73871100e-01]\n",
      " [-1.99976325e-01 -1.62936985e-01 -1.19738325e-01 -4.12689745e-02\n",
      "  -2.27843896e-01 -1.00928694e-01  2.33149529e-02 -1.27536178e-01\n",
      "   1.72287226e-03 -1.67272866e-01]\n",
      " [-1.91355154e-01 -1.20892845e-01  7.66097605e-02 -1.20315254e-01\n",
      "  -1.52562320e-01 -1.38695508e-01  2.73922086e-02  9.11173224e-02\n",
      "  -2.61535496e-02 -1.33235276e-01]\n",
      " [-2.40342319e-03 -1.12305313e-01  1.97448730e-02 -1.43349633e-01\n",
      "  -2.10479617e-01  2.06130296e-01 -9.61385965e-02  2.15193033e-02\n",
      "   1.27021760e-01  2.56409943e-02]\n",
      " [ 9.04713869e-02  1.80720776e-01  4.51925397e-03  1.30677611e-01\n",
      "  -1.56947881e-01 -1.33079737e-02 -2.82037258e-02 -1.39005929e-02\n",
      "  -9.27743614e-02  2.24542260e-01]\n",
      " [ 1.38715059e-01 -1.42548859e-01  1.31640911e-01  1.11621082e-01\n",
      "   2.22486109e-01 -4.34152633e-02  1.05440140e-01  7.17844367e-02\n",
      "  -2.13624060e-01 -2.94305384e-03]\n",
      " [ 1.02060497e-01  9.10426378e-02 -2.31586590e-01 -8.33243132e-02\n",
      "   2.15394378e-01 -6.04401082e-02 -3.68699431e-02 -1.87534541e-02\n",
      "   7.72511959e-03 -2.31815398e-01]\n",
      " [-1.82977483e-01  7.66998529e-02  1.15311682e-01  9.02867019e-02\n",
      "   1.92583203e-02  1.60258830e-01  1.96321130e-01  7.10510910e-02\n",
      "   1.47765547e-01 -1.66526586e-02]\n",
      " [ 3.17822695e-02 -9.91969109e-02  9.36488509e-02  2.28685737e-02\n",
      "  -2.61908025e-02  1.69971645e-01  1.26441717e-02 -2.08353207e-01\n",
      "  -7.45608658e-02 -1.49371713e-01]\n",
      " [ 1.86690181e-01  2.27679461e-01  1.54473066e-01 -1.17927469e-01\n",
      "  -7.35467821e-02  1.05658263e-01 -1.43754661e-01  9.89658833e-02\n",
      "   9.11095738e-03  6.54278696e-02]\n",
      " [-5.55521697e-02 -1.55526251e-01 -1.73587278e-01 -1.36132613e-01\n",
      "  -1.76108986e-01 -8.80974829e-02 -2.42399126e-02 -1.87517852e-02\n",
      "  -1.39280289e-01 -3.74019146e-04]\n",
      " [-1.05399162e-01 -7.38768727e-02  1.78807646e-01 -2.20338151e-01\n",
      "  -2.12809473e-01 -1.97587699e-01  4.60734367e-02 -9.64384526e-02\n",
      "  -2.78427452e-02  1.14026964e-01]\n",
      " [-1.56094432e-01 -8.50428343e-02  2.03205138e-01  1.52400613e-01\n",
      "   1.96726471e-01  1.78379714e-02  1.41664892e-02 -2.10686132e-01\n",
      "   2.23328859e-01  5.54846823e-02]\n",
      " [ 3.92669737e-02  2.24470973e-01 -3.58459949e-02  1.28847808e-02\n",
      "  -7.38951862e-02  4.61848080e-03  1.41001731e-01 -1.82945192e-01\n",
      "   2.26241499e-01  2.15340585e-01]\n",
      " [-2.04362482e-01  1.68287426e-01  3.34101617e-02 -1.67302832e-01\n",
      "   2.08703071e-01  1.82341933e-01 -2.02999443e-01  6.08804822e-03\n",
      "   1.64723456e-01  1.84628248e-01]\n",
      " [ 1.22901082e-01  2.27094501e-01 -1.03462145e-01  1.61875010e-01\n",
      "  -1.28080800e-01  7.86331594e-02  1.01235569e-01  2.06841856e-01\n",
      "  -8.98044258e-02 -1.00520819e-01]\n",
      " [-3.31520736e-02  1.37965411e-01 -1.02844954e-01 -1.47890657e-01\n",
      "  -1.67899698e-01 -6.66194260e-02 -4.44869697e-03  1.87484920e-02\n",
      "   9.86199677e-02  1.45157367e-01]\n",
      " [-6.10368550e-02 -7.44927675e-02 -7.82679468e-02 -3.27096134e-02\n",
      "   4.03394103e-02  2.23351628e-01 -1.53050035e-01 -1.96062163e-01\n",
      "  -1.30289227e-01 -2.01413989e-01]\n",
      " [-1.60038769e-01  1.28440499e-01 -2.10754350e-01 -1.02018729e-01\n",
      "  -1.88764632e-01  1.37363523e-01  1.59750581e-02  1.04709864e-01\n",
      "   2.07651705e-01 -2.19545811e-02]\n",
      " [-9.98046249e-02  7.57638514e-02  1.06142908e-01 -2.32429653e-02\n",
      "  -1.10704884e-01 -1.88029557e-02  1.88687116e-01  2.74383128e-02\n",
      "   1.17473543e-01 -5.58363795e-02]\n",
      " [-6.19626939e-02 -2.98827887e-02  1.84718847e-01  4.63817418e-02\n",
      "  -2.32635260e-01  3.72938514e-02 -6.78261220e-02  1.37066305e-01\n",
      "  -3.22255641e-02 -1.63438186e-01]\n",
      " [ 1.79165334e-01  1.51061237e-01 -6.31424934e-02  1.29955411e-02\n",
      "   1.44471407e-01  1.13408446e-01  4.34036851e-02 -1.29816040e-01\n",
      "  -1.52892351e-01 -1.95527226e-01]\n",
      " [-3.54843438e-02  1.63826972e-01 -2.00972751e-01 -6.40758425e-02\n",
      "  -1.12098560e-01 -1.67018801e-01  1.15838766e-01 -2.08164945e-01\n",
      "  -8.77653360e-02  2.01439500e-01]\n",
      " [-7.17814714e-02  1.08338982e-01 -1.81979150e-01 -4.11894917e-03\n",
      "   2.32095748e-01 -9.49156433e-02 -1.80654079e-01 -8.78787041e-02\n",
      "  -1.28909051e-02  2.01280802e-01]\n",
      " [-7.21635669e-02 -1.61231875e-01  7.24248886e-02 -1.45540521e-01\n",
      "   2.02371776e-01 -2.05073386e-01 -1.95796445e-01 -5.95223904e-03\n",
      "   2.12836653e-01  1.54769421e-03]\n",
      " [-5.98502010e-02  9.59471762e-02 -5.63447028e-02 -1.75967425e-01\n",
      "  -1.48054540e-01 -2.23041385e-01  2.32630640e-01 -4.42422032e-02\n",
      "   7.12797046e-04  2.08841383e-01]\n",
      " [ 1.76514685e-01  1.82038456e-01  2.82187760e-03  2.38395929e-02\n",
      "   9.57407951e-02  2.04709321e-01 -6.80505782e-02 -6.48354143e-02\n",
      "  -1.59117490e-01 -1.07541561e-01]\n",
      " [-7.37459511e-02 -1.33015007e-01 -1.82193369e-02  2.14609265e-01\n",
      "  -1.97936445e-01 -4.40540016e-02  1.14537954e-01 -1.99739501e-01\n",
      "   1.54615939e-01  1.44539058e-01]\n",
      " [ 6.84469938e-02 -1.96171418e-01 -1.34018958e-01  2.04142541e-01\n",
      "  -4.89443243e-02  1.27003998e-01  2.07483053e-01  4.33103144e-02\n",
      "   8.25222433e-02  1.16380543e-01]\n",
      " [ 5.86627126e-02 -5.81396818e-02  1.19992018e-01  1.75137103e-01\n",
      "   1.49320871e-01  2.30344862e-01  5.22440076e-02  2.43172646e-02\n",
      "   3.10838521e-02 -1.43890142e-01]\n",
      " [ 2.16326326e-01  9.77978706e-02 -1.41920432e-01  5.34595549e-02\n",
      "   2.24541962e-01 -1.08416051e-01 -5.69896698e-02  2.05828935e-01\n",
      "  -2.31346220e-01  1.21768296e-01]\n",
      " [-1.23488382e-01 -9.07772034e-02  2.24874109e-01 -4.91647124e-02\n",
      "   1.13541901e-01  3.31911147e-02  5.81071079e-02  1.52741343e-01\n",
      "   2.19380975e-01 -9.64750350e-03]\n",
      " [ 8.21162760e-02  8.58304203e-02 -1.65478557e-01 -1.13741159e-02\n",
      "   1.97312355e-01  2.22511113e-01  5.93985617e-02  2.16976196e-01\n",
      "  -2.12808207e-01 -1.23552971e-01]\n",
      " [-6.82370067e-02  1.78131491e-01  2.20266879e-02  1.94468141e-01\n",
      "   6.84486628e-02 -1.85733378e-01 -1.73531711e-01 -1.72446683e-01\n",
      "  -1.25953004e-01  2.31753349e-01]\n",
      " [-3.63563299e-02  1.81621730e-01 -6.41658306e-02  3.02345753e-02\n",
      "  -1.73513949e-01 -1.12279922e-01  1.65590107e-01  3.64348888e-02\n",
      "   1.70463920e-01 -5.96198440e-02]\n",
      " [-4.62108701e-02 -1.80546939e-02  1.47702008e-01  1.37848467e-01\n",
      "  -1.88017637e-01  1.09149903e-01  1.31219923e-02  8.40796530e-02\n",
      "  -1.75516456e-01 -8.03678483e-02]]\n",
      "\n",
      "Biases for 2nd Hidden Layer:\n",
      " [ 0.00159965  0.01840391  0.03145677  0.01220069 -0.00224491  0.02495391\n",
      " -0.01893467  0.04799118  0.04212748  0.02666892]\n"
     ]
    }
   ],
   "source": [
    "weights_3, biases_3 = model.get_layer('dense_2').get_weights()\n",
    "print(\"Weights for 2nd Hidden Layer:\\n\", weights_3, end=\"\\n\\n\")\n",
    "print(\"Biases for 2nd Hidden Layer:\\n\", biases_3)"
   ]
  },
  {
   "cell_type": "markdown",
   "metadata": {},
   "source": [
    "> <font color=\"red\"> **(Step 2) Compile the Model - Multi Layer Perceptron (MLP)** </font>\n",
    "* Define hyperparameters: loss function, optimizer (with learning rate and momentum), and metrics (optional)\n",
    "\n",
    "See **Keras Model.compile() method** documentation [**here**](https://keras.io/api/models/model_training_apis/#compile-method).\n",
    "<br> See **Keras Loss Function** documentation [**here**](https://keras.io/api/losses/).\n",
    "<br> See **Keras Optimizers** documentation [**here**](https://keras.io/api/optimizers/).\n",
    "<br> See **Keras Metrics** documentation [**here**](https://keras.io/api/metrics/)."
   ]
  },
  {
   "cell_type": "code",
   "execution_count": 18,
   "metadata": {},
   "outputs": [],
   "source": [
    "model.compile(\n",
    "    loss=\"sparse_categorical_crossentropy\",\n",
    "    optimizer=tf.keras.optimizers.SGD(learning_rate=1e-3, momentum=1e-3), # by default learning_rate=0.01 and momentum=0\n",
    "    metrics=[\"accuracy\"]\n",
    ")"
   ]
  },
  {
   "cell_type": "markdown",
   "metadata": {},
   "source": [
    "**Notes:** In Keras,\n",
    "* loss=\"sparse_categorical_crossentropy\" is **equivalent** to loss=tf.keras.losses.sparse_categorical_crossentropy()\n",
    "* optimizer=\"sgd\" is **equivalent** to optimizer=tf.keras.optimizers.SGD()\n",
    "* metrics=[\"accuracy\"] is **equivalent** to metrics=[tf.keras.metrics.sparse_categorical_accuracy()]\n",
    "\n",
    "Therefore, parameter=\"x\" is **equivalent** to parameter=tf.keras.____.x()\n",
    "<br> To adjust or change parameters flexibly, use its original function instead.\n",
    "<br> For instance, by default \"sgd\" will set learning_rate=0.01. To adjust, implement *tf.keras.optimizers.SGD(learning_rate=...)* instead."
   ]
  },
  {
   "cell_type": "markdown",
   "metadata": {},
   "source": [
    "> <font color=\"red\"> **(Step 3) Train/Fit the Model - Multi Layer Perceptron (MLP)** </font>\n",
    "* Define hyperparameters: epochs and batch_size\n",
    "* Initialize validation_data (optional)\n",
    "\n",
    "See **Keras Model.fit() method** documentation [**here**](https://keras.io/api/models/model_training_apis/#fit-method).\n",
    "<br> For Keras ver. 2.3.0-tf, Model.fit() batch_size=None by default. Therefore, try to set it by 1 to get actual train data."
   ]
  },
  {
   "cell_type": "code",
   "execution_count": 19,
   "metadata": {},
   "outputs": [
    {
     "name": "stdout",
     "output_type": "stream",
     "text": [
      "Epoch 1/5\n",
      "55000/55000 [==============================] - 205s 4ms/step - loss: 0.5683 - accuracy: 0.8049 - val_loss: 0.4331 - val_accuracy: 0.8502\n",
      "Epoch 2/5\n",
      "55000/55000 [==============================] - 193s 4ms/step - loss: 0.4145 - accuracy: 0.8529 - val_loss: 0.3919 - val_accuracy: 0.8624\n",
      "Epoch 3/5\n",
      "55000/55000 [==============================] - 207s 4ms/step - loss: 0.3718 - accuracy: 0.8675 - val_loss: 0.3475 - val_accuracy: 0.8734\n",
      "Epoch 4/5\n",
      "55000/55000 [==============================] - 190s 3ms/step - loss: 0.3451 - accuracy: 0.8751 - val_loss: 0.3405 - val_accuracy: 0.8774\n",
      "Epoch 5/5\n",
      "55000/55000 [==============================] - 217s 4ms/step - loss: 0.3251 - accuracy: 0.8814 - val_loss: 0.3353 - val_accuracy: 0.8778\n"
     ]
    }
   ],
   "source": [
    "result = model.fit(x_train, y_train, epochs=5, validation_data=(x_val, y_val), batch_size=1)"
   ]
  },
  {
   "cell_type": "markdown",
   "metadata": {},
   "source": [
    "<font color=\"DARKVIOLET\">See selected parameters.\n",
    "<br> It seems Keras ver. 2.2.4-tf has more complete keys in .params dictionary such as 'batch_size', 'epoch', 'steps', 'samples', 'verbose', 'do_validation', and 'metrics'. Unlike previous version, Keras ver. 2.3.0-tf has only 'verbose', 'epochs', and 'steps'."
   ]
  },
  {
   "cell_type": "code",
   "execution_count": 20,
   "metadata": {},
   "outputs": [
    {
     "data": {
      "text/plain": [
       "{'verbose': 1, 'epochs': 5, 'steps': 55000}"
      ]
     },
     "execution_count": 20,
     "metadata": {},
     "output_type": "execute_result"
    }
   ],
   "source": [
    "result.params"
   ]
  },
  {
   "cell_type": "markdown",
   "metadata": {},
   "source": [
    "<font color=\"DARKVIOLET\">Retrieve all **loss and accuracy**.\n",
    "* **'loss'** denotes loss from *train data*\n",
    "* **'accuracy'** denotes accuracy from *train data*\n",
    "* **'val_loss'** denotes loss from *validation data*\n",
    "* **'val_accuracy'** denotes accuracy from *validation data*\n",
    "\n",
    "To access each, try **result.history[ ' ... ' ]**."
   ]
  },
  {
   "cell_type": "code",
   "execution_count": 21,
   "metadata": {
    "scrolled": true
   },
   "outputs": [
    {
     "data": {
      "text/plain": [
       "{'loss': [0.5682920217514038,\n",
       "  0.4145428240299225,\n",
       "  0.3718065321445465,\n",
       "  0.3451012372970581,\n",
       "  0.32510143518447876],\n",
       " 'accuracy': [0.8049091100692749,\n",
       "  0.8529454469680786,\n",
       "  0.8674727082252502,\n",
       "  0.875145435333252,\n",
       "  0.8813818097114563],\n",
       " 'val_loss': [0.4330849051475525,\n",
       "  0.39192259311676025,\n",
       "  0.3475065231323242,\n",
       "  0.34052982926368713,\n",
       "  0.3353326916694641],\n",
       " 'val_accuracy': [0.8501999974250793,\n",
       "  0.8623999953269958,\n",
       "  0.8733999729156494,\n",
       "  0.8773999810218811,\n",
       "  0.8777999877929688]}"
      ]
     },
     "execution_count": 21,
     "metadata": {},
     "output_type": "execute_result"
    }
   ],
   "source": [
    "result.history"
   ]
  },
  {
   "cell_type": "code",
   "execution_count": 22,
   "metadata": {},
   "outputs": [
    {
     "data": {
      "text/plain": [
       "[0, 1, 2, 3, 4]"
      ]
     },
     "execution_count": 22,
     "metadata": {},
     "output_type": "execute_result"
    }
   ],
   "source": [
    "result.epoch"
   ]
  },
  {
   "cell_type": "code",
   "execution_count": 23,
   "metadata": {},
   "outputs": [
    {
     "data": {
      "text/plain": [
       "Text(0, 0.5, 'Scores')"
      ]
     },
     "execution_count": 23,
     "metadata": {},
     "output_type": "execute_result"
    },
    {
     "data": {
      "image/png": "[encoded data removed]",
      "text/plain": [
       "<Figure size 576x360 with 1 Axes>"
      ]
     },
     "metadata": {
      "needs_background": "light"
     },
     "output_type": "display_data"
    }
   ],
   "source": [
    "pd.DataFrame(result.history).plot(figsize=(8, 5))\n",
    "plt.grid(True)\n",
    "plt.ylim(0, 1)\n",
    "plt.xlabel(\"Epochs\")\n",
    "plt.ylabel(\"Scores\")"
   ]
  },
  {
   "cell_type": "markdown",
   "metadata": {},
   "source": [
    "> <font color=\"red\"> **(Step 4) Evaluate the Model with test data - Multi Layer Perceptron (MLP)** </font>\n",
    "\n",
    "See **Keras Model.evaluate() method** documentation [**here**](https://keras.io/api/models/model_training_apis/#evaluate-method)."
   ]
  },
  {
   "cell_type": "markdown",
   "metadata": {},
   "source": [
    "<font color=\"DARKVIOLET\">This method returns **loss of test data** and its **metrics value**."
   ]
  },
  {
   "cell_type": "code",
   "execution_count": 24,
   "metadata": {},
   "outputs": [
    {
     "name": "stdout",
     "output_type": "stream",
     "text": [
      "10000/10000 [==============================] - 22s 2ms/step - loss: 0.3688 - accuracy: 0.8654\n"
     ]
    },
    {
     "data": {
      "text/plain": [
       "[0.36879396438598633, 0.8654000163078308]"
      ]
     },
     "execution_count": 24,
     "metadata": {},
     "output_type": "execute_result"
    }
   ],
   "source": [
    "model.evaluate(x_test, y_test, batch_size=1)"
   ]
  },
  {
   "cell_type": "markdown",
   "metadata": {},
   "source": [
    "<font color=\"DARKVIOLET\"> Use the model for **prediction**.\n",
    "<br> Take a ten samples from x_test as new samples to predict.\n",
    "<br> For future reference, the use of **Model.predict_classes(..)** is informed will be deprecated soon in 2021."
   ]
  },
  {
   "cell_type": "code",
   "execution_count": 25,
   "metadata": {},
   "outputs": [
    {
     "data": {
      "text/plain": [
       "[9, 2, 1, 1, 6, 1, 4, 6, 5, 7]"
      ]
     },
     "execution_count": 25,
     "metadata": {},
     "output_type": "execute_result"
    }
   ],
   "source": [
    "np.argmax(model.predict(x_test[:10]), axis=-1).tolist()"
   ]
  },
  {
   "cell_type": "code",
   "execution_count": 26,
   "metadata": {},
   "outputs": [
    {
     "data": {
      "text/plain": [
       "array(['Ankle Boot', 'Pullover', 'Trouser', 'Trouser', 'Shirt', 'Trouser',\n",
       "       'Coat', 'Shirt', 'Sandal', 'Sneaker'], dtype='<U11')"
      ]
     },
     "execution_count": 26,
     "metadata": {},
     "output_type": "execute_result"
    }
   ],
   "source": [
    "np.array(class_names)[np.argmax(model.predict(x_test[:10]), axis=-1).tolist()]"
   ]
  }
 ],
 "metadata": {
  "kernelspec": {
   "display_name": "Python 3",
   "language": "python",
   "name": "python3"
  },
  "language_info": {
   "codemirror_mode": {
    "name": "ipython",
    "version": 3
   },
   "file_extension": ".py",
   "mimetype": "text/x-python",
   "name": "python",
   "nbconvert_exporter": "python",
   "pygments_lexer": "ipython3",
   "version": "3.7.1"
  }
 },
 "nbformat": 4,
 "nbformat_minor": 2
}
