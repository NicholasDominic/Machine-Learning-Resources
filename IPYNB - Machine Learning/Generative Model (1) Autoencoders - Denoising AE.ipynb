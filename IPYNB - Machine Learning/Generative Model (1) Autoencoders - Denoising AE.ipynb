{
 "cells": [
  {
   "cell_type": "markdown",
   "metadata": {},
   "source": [
    "---\n",
    "# <CENTER><font color=\"indigo\">Generative Models: Autoencoders (AE)</font><br><small><b>DENOISING AUTOENCODERS</b></small>\n",
    "---\n",
    "<font color=\"olive\">Prepared by **NICHOLAS DOMINIC**\n",
    "<br>Guided from *Aurélien Géron*'s **Hands-On Machine Learning with Scikit-Learn, Keras, and TensorFlow** (2nd ed., by O’Reilly Media, Inc.)\n",
    "<br>Powered by Interactive Python **Jupyter Notebook** (.ipynb), developed with **Python 3.7**"
   ]
  },
  {
   "cell_type": "markdown",
   "metadata": {},
   "source": [
    "> **BRIEF INTRODUCTION**<br>\n",
    "Generative model is capable of randomly generating new data that looks *very similar* to the training data. Simply put, the output is the input itself (same size). Therefore in this case, the output also called as **reconstruction**. Two types of generative model are: **Autoencoders (AE)** and **Generative Adversarial Networks (GAN)**."
   ]
  },
  {
   "cell_type": "code",
   "execution_count": 1,
   "metadata": {},
   "outputs": [],
   "source": [
    "import numpy as np\n",
    "from pandas import DataFrame as df\n",
    "from matplotlib import pyplot as plt\n",
    "import tensorflow as tf\n",
    "from tensorflow import keras"
   ]
  },
  {
   "cell_type": "code",
   "execution_count": 2,
   "metadata": {},
   "outputs": [
    {
     "data": {
      "text/plain": [
       "('1.18.2', '2.2.0', '2.3.0-tf')"
      ]
     },
     "execution_count": 2,
     "metadata": {},
     "output_type": "execute_result"
    }
   ],
   "source": [
    "np.__version__, tf.__version__, keras.__version__"
   ]
  },
  {
   "cell_type": "markdown",
   "metadata": {},
   "source": [
    "## Fashion-MNIST Dataset Loading, Normalization, and Split"
   ]
  },
  {
   "cell_type": "code",
   "execution_count": 3,
   "metadata": {},
   "outputs": [
    {
     "name": "stdout",
     "output_type": "stream",
     "text": [
      "Image Dimension: (28, 28)\n",
      "x_train: (55000, 28, 28) y_train: (55000,)\n",
      "x_val: (5000, 28, 28) y_val: (5000,)\n",
      "x_test: (10000, 28, 28) y_test: (10000,)\n"
     ]
    }
   ],
   "source": [
    "# Load the dataset from Keras\n",
    "(x_train, y_train), (x_test, y_test) = keras.datasets.fashion_mnist.load_data()\n",
    "\n",
    "# Normalize by dividing them by 255 (maximum number of 1-bit pixels)\n",
    "x_train = x_train.astype(np.float32) / 255\n",
    "x_test = x_test.astype(np.float32) / 255\n",
    "\n",
    "# Get validation data from train data\n",
    "x_train, x_val = x_train[:-5000], x_train[-5000:]\n",
    "y_train, y_val = y_train[:-5000], y_train[-5000:]\n",
    "\n",
    "# Show the shape of each\n",
    "print(\"Image Dimension: {}\".format(x_train.shape[1:]))\n",
    "print(\"x_train: {} y_train: {}\".format(x_train.shape, y_train.shape))\n",
    "print(\"x_val: {} y_val: {}\".format(x_val.shape, y_val.shape))\n",
    "print(\"x_test: {} y_test: {}\".format(x_test.shape, y_test.shape))"
   ]
  },
  {
   "cell_type": "markdown",
   "metadata": {},
   "source": [
    "## User-defined Functions"
   ]
  },
  {
   "cell_type": "code",
   "execution_count": 4,
   "metadata": {},
   "outputs": [],
   "source": [
    "# Custom metrics (how to build it, see on https://keras.io/api/metrics/#creating-custom-metrics)\n",
    "def rounded_accuracy(y_true, y_pred):\n",
    "    return keras.metrics.binary_accuracy(tf.round(y_true), tf.round(y_pred))"
   ]
  },
  {
   "cell_type": "code",
   "execution_count": 5,
   "metadata": {},
   "outputs": [],
   "source": [
    "def plot_image(image):\n",
    "    plt.imshow(image, cmap=\"binary\")\n",
    "    plt.axis(\"off\")"
   ]
  },
  {
   "cell_type": "code",
   "execution_count": 6,
   "metadata": {},
   "outputs": [],
   "source": [
    "def show_reconstructions(model, images=x_val, n_images=5):\n",
    "    reconstructions = model.predict(images[:n_images])\n",
    "    fig = plt.figure(figsize=(n_images * 1.5, 3))\n",
    "    for image_index in range(n_images):\n",
    "        plt.subplot(2, n_images, 1 + image_index)\n",
    "        plot_image(images[image_index])\n",
    "        plt.subplot(2, n_images, 1 + n_images + image_index)\n",
    "        plot_image(reconstructions[image_index])"
   ]
  },
  {
   "cell_type": "markdown",
   "metadata": {},
   "source": [
    "* **Step 1: BUILD**"
   ]
  },
  {
   "cell_type": "code",
   "execution_count": 7,
   "metadata": {
    "scrolled": true
   },
   "outputs": [
    {
     "name": "stdout",
     "output_type": "stream",
     "text": [
      "Model: \"Encoder\"\n",
      "_________________________________________________________________\n",
      "Layer (type)                 Output Shape              Param #   \n",
      "=================================================================\n",
      "flatten (Flatten)            (None, 784)               0         \n",
      "_________________________________________________________________\n",
      "dropout (Dropout)            (None, 784)               0         \n",
      "_________________________________________________________________\n",
      "dense (Dense)                (None, 100)               78500     \n",
      "_________________________________________________________________\n",
      "dense_1 (Dense)              (None, 30)                3030      \n",
      "=================================================================\n",
      "Total params: 81,530\n",
      "Trainable params: 81,530\n",
      "Non-trainable params: 0\n",
      "_________________________________________________________________\n",
      "Model: \"Decoder\"\n",
      "_________________________________________________________________\n",
      "Layer (type)                 Output Shape              Param #   \n",
      "=================================================================\n",
      "dense_2 (Dense)              (None, 100)               3100      \n",
      "_________________________________________________________________\n",
      "dense_3 (Dense)              (None, 784)               79184     \n",
      "_________________________________________________________________\n",
      "reshape (Reshape)            (None, 28, 28)            0         \n",
      "=================================================================\n",
      "Total params: 82,284\n",
      "Trainable params: 82,284\n",
      "Non-trainable params: 0\n",
      "_________________________________________________________________\n",
      "Model: \"Denoising_Autoencoder\"\n",
      "_________________________________________________________________\n",
      "Layer (type)                 Output Shape              Param #   \n",
      "=================================================================\n",
      "Encoder (Sequential)         (None, 30)                81530     \n",
      "_________________________________________________________________\n",
      "Decoder (Sequential)         (None, 28, 28)            82284     \n",
      "=================================================================\n",
      "Total params: 163,814\n",
      "Trainable params: 163,814\n",
      "Non-trainable params: 0\n",
      "_________________________________________________________________\n"
     ]
    }
   ],
   "source": [
    "# Build the ENCODER\n",
    "encoder = keras.models.Sequential([\n",
    "    keras.layers.Flatten(input_shape=[28, 28]),\n",
    "    keras.layers.Dropout(.5), # also try to use keras.layers.GaussianNoise()\n",
    "    keras.layers.Dense(100, activation=\"selu\"),\n",
    "    keras.layers.Dense(30, activation=\"selu\")\n",
    "], name=\"Encoder\")\n",
    "encoder.summary()\n",
    "\n",
    "# Build the DECODER\n",
    "decoder = keras.models.Sequential([\n",
    "    keras.layers.Dense(100, activation=\"selu\", input_shape=[30]),\n",
    "    keras.layers.Dense(28 * 28, activation=\"sigmoid\"),\n",
    "    keras.layers.Reshape([28, 28])\n",
    "], name=\"Decoder\")\n",
    "decoder.summary()\n",
    "\n",
    "# Join both to generate DENOISING AUTOENCODER\n",
    "denoise_ae = keras.models.Sequential([encoder, decoder], name=\"Denoising_Autoencoder\")\n",
    "denoise_ae.summary()"
   ]
  },
  {
   "cell_type": "markdown",
   "metadata": {},
   "source": [
    "* **Step 2: COMPILE**"
   ]
  },
  {
   "cell_type": "code",
   "execution_count": 8,
   "metadata": {},
   "outputs": [],
   "source": [
    "denoise_ae.compile(\n",
    "    loss=\"binary_crossentropy\",\n",
    "    optimizer=keras.optimizers.SGD(lr=1e-3),\n",
    "    metrics=[rounded_accuracy]\n",
    ")"
   ]
  },
  {
   "cell_type": "markdown",
   "metadata": {},
   "source": [
    "* **Step 3: FIT / TRAIN**"
   ]
  },
  {
   "cell_type": "code",
   "execution_count": 9,
   "metadata": {
    "scrolled": true
   },
   "outputs": [
    {
     "name": "stdout",
     "output_type": "stream",
     "text": [
      "Epoch 1/20\n",
      "55000/55000 [==============================] - 183s 3ms/step - loss: 0.5719 - rounded_accuracy: 0.6823 - val_loss: 0.4944 - val_rounded_accuracy: 0.7481\n",
      "Epoch 2/20\n",
      "55000/55000 [==============================] - 142s 3ms/step - loss: 0.4718 - rounded_accuracy: 0.7731 - val_loss: 0.4452 - val_rounded_accuracy: 0.7959\n",
      "Epoch 3/20\n",
      "55000/55000 [==============================] - 128s 2ms/step - loss: 0.4246 - rounded_accuracy: 0.8079 - val_loss: 0.4046 - val_rounded_accuracy: 0.8235\n",
      "Epoch 4/20\n",
      "55000/55000 [==============================] - 141s 3ms/step - loss: 0.3917 - rounded_accuracy: 0.8360 - val_loss: 0.3801 - val_rounded_accuracy: 0.8486\n",
      "Epoch 5/20\n",
      "55000/55000 [==============================] - 147s 3ms/step - loss: 0.3772 - rounded_accuracy: 0.8504 - val_loss: 0.3721 - val_rounded_accuracy: 0.8571\n",
      "Epoch 6/20\n",
      "55000/55000 [==============================] - 151s 3ms/step - loss: 0.3703 - rounded_accuracy: 0.8579 - val_loss: 0.3658 - val_rounded_accuracy: 0.8641\n",
      "Epoch 7/20\n",
      "55000/55000 [==============================] - 140s 3ms/step - loss: 0.3642 - rounded_accuracy: 0.8648 - val_loss: 0.3594 - val_rounded_accuracy: 0.8713\n",
      "Epoch 8/20\n",
      "55000/55000 [==============================] - 139s 3ms/step - loss: 0.3582 - rounded_accuracy: 0.8708 - val_loss: 0.3535 - val_rounded_accuracy: 0.8771\n",
      "Epoch 9/20\n",
      "55000/55000 [==============================] - 142s 3ms/step - loss: 0.3530 - rounded_accuracy: 0.8754 - val_loss: 0.3488 - val_rounded_accuracy: 0.8813\n",
      "Epoch 10/20\n",
      "55000/55000 [==============================] - 145s 3ms/step - loss: 0.3491 - rounded_accuracy: 0.8788 - val_loss: 0.3455 - val_rounded_accuracy: 0.8842\n",
      "Epoch 11/20\n",
      "55000/55000 [==============================] - 146s 3ms/step - loss: 0.3462 - rounded_accuracy: 0.8812 - val_loss: 0.3429 - val_rounded_accuracy: 0.8864\n",
      "Epoch 12/20\n",
      "55000/55000 [==============================] - 145s 3ms/step - loss: 0.3438 - rounded_accuracy: 0.8830 - val_loss: 0.3406 - val_rounded_accuracy: 0.8882\n",
      "Epoch 13/20\n",
      "55000/55000 [==============================] - 142s 3ms/step - loss: 0.3416 - rounded_accuracy: 0.8848 - val_loss: 0.3384 - val_rounded_accuracy: 0.8903\n",
      "Epoch 14/20\n",
      "55000/55000 [==============================] - 143s 3ms/step - loss: 0.3394 - rounded_accuracy: 0.8866 - val_loss: 0.3360 - val_rounded_accuracy: 0.8918\n",
      "Epoch 15/20\n",
      "55000/55000 [==============================] - 141s 3ms/step - loss: 0.3372 - rounded_accuracy: 0.8884 - val_loss: 0.3338 - val_rounded_accuracy: 0.8939\n",
      "Epoch 16/20\n",
      "55000/55000 [==============================] - 143s 3ms/step - loss: 0.3351 - rounded_accuracy: 0.8901 - val_loss: 0.3315 - val_rounded_accuracy: 0.8955\n",
      "Epoch 17/20\n",
      "55000/55000 [==============================] - 143s 3ms/step - loss: 0.3330 - rounded_accuracy: 0.8917 - val_loss: 0.3294 - val_rounded_accuracy: 0.8975\n",
      "Epoch 18/20\n",
      "55000/55000 [==============================] - 143s 3ms/step - loss: 0.3310 - rounded_accuracy: 0.8934 - val_loss: 0.3274 - val_rounded_accuracy: 0.8988\n",
      "Epoch 19/20\n",
      "55000/55000 [==============================] - 142s 3ms/step - loss: 0.3295 - rounded_accuracy: 0.8947 - val_loss: 0.3258 - val_rounded_accuracy: 0.9003\n",
      "Epoch 20/20\n",
      "55000/55000 [==============================] - 141s 3ms/step - loss: 0.3280 - rounded_accuracy: 0.8958 - val_loss: 0.3245 - val_rounded_accuracy: 0.9013\n"
     ]
    }
   ],
   "source": [
    "denoise_ae_history = denoise_ae.fit(x_train, x_train, epochs=20, batch_size=1, validation_data=(x_val, x_val))"
   ]
  },
  {
   "cell_type": "code",
   "execution_count": 10,
   "metadata": {
    "scrolled": true
   },
   "outputs": [
    {
     "data": {
      "text/plain": [
       "Text(0, 0.5, 'Scores')"
      ]
     },
     "execution_count": 10,
     "metadata": {},
     "output_type": "execute_result"
    },
    {
     "data": {
      "image/png": "[encoded data removed]",
      "text/plain": [
       "<Figure size 576x360 with 1 Axes>"
      ]
     },
     "metadata": {
      "needs_background": "light"
     },
     "output_type": "display_data"
    }
   ],
   "source": [
    "df(denoise_ae_history.history).plot(figsize=(8, 5))\n",
    "plt.grid(True)\n",
    "plt.xlabel(\"Epochs\")\n",
    "plt.ylabel(\"Scores\")"
   ]
  },
  {
   "cell_type": "markdown",
   "metadata": {},
   "source": [
    "* **Step 4: EVALUATE**"
   ]
  },
  {
   "cell_type": "code",
   "execution_count": 11,
   "metadata": {},
   "outputs": [
    {
     "name": "stdout",
     "output_type": "stream",
     "text": [
      "10000/10000 [==============================] - 20s 2ms/step - loss: 0.3242 - rounded_accuracy: 0.9010\n"
     ]
    },
    {
     "data": {
      "text/plain": [
       "[0.32423990964889526, 0.9009968638420105]"
      ]
     },
     "execution_count": 11,
     "metadata": {},
     "output_type": "execute_result"
    }
   ],
   "source": [
    "denoise_ae.evaluate(x_test, x_test, batch_size=1)"
   ]
  },
  {
   "cell_type": "markdown",
   "metadata": {},
   "source": [
    "* **Step 5: PREDICTION**\n",
    "<br> The first rows denote real images, while the second reconstructed images from Denoising AE."
   ]
  },
  {
   "cell_type": "code",
   "execution_count": 14,
   "metadata": {},
   "outputs": [
    {
     "data": {
      "image/png": "[encoded data removed]",
      "text/plain": [
       "<Figure size 540x216 with 10 Axes>"
      ]
     },
     "metadata": {
      "needs_background": "light"
     },
     "output_type": "display_data"
    }
   ],
   "source": [
    "dropout = keras.layers.Dropout(0.5)\n",
    "show_reconstructions(denoise_ae, dropout(x_val, training=True))"
   ]
  },
  {
   "cell_type": "code",
   "execution_count": 15,
   "metadata": {},
   "outputs": [],
   "source": [
    "denoise_ae.save(\"model/denoising_ae_dropout.h5\")"
   ]
  }
 ],
 "metadata": {
  "kernelspec": {
   "display_name": "Python 3",
   "language": "python",
   "name": "python3"
  },
  "language_info": {
   "codemirror_mode": {
    "name": "ipython",
    "version": 3
   },
   "file_extension": ".py",
   "mimetype": "text/x-python",
   "name": "python",
   "nbconvert_exporter": "python",
   "pygments_lexer": "ipython3",
   "version": "3.7.1"
  }
 },
 "nbformat": 4,
 "nbformat_minor": 2
}
