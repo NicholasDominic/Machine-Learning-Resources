{
 "cells": [
  {
   "cell_type": "code",
   "execution_count": 1,
   "metadata": {},
   "outputs": [],
   "source": [
    "import sklearn.linear_model as lm\n",
    "from sklearn import datasets\n",
    "import pandas as pd\n",
    "import numpy as np\n",
    "import matplotlib.pyplot as plt\n",
    "import seaborn as sb"
   ]
  },
  {
   "cell_type": "code",
   "execution_count": 2,
   "metadata": {},
   "outputs": [],
   "source": [
    "np.set_printoptions(suppress=True) # remove e-scientific notation"
   ]
  },
  {
   "cell_type": "markdown",
   "metadata": {},
   "source": [
    "Scikit-Learn Documentations:<br>\n",
    "* [Linear Regression](https://scikit-learn.org/stable/modules/generated/sklearn.linear_model.LinearRegression.html#sklearn.linear_model.LinearRegression)\n",
    "* [Logistic Regression](https://scikit-learn.org/stable/modules/generated/sklearn.linear_model.LogisticRegression.html#sklearn.linear_model.LogisticRegression)\n",
    "* [L1-Norm: LASSO](https://scikit-learn.org/stable/modules/generated/sklearn.linear_model.Lasso.html#sklearn.linear_model.Lasso)\n",
    "* [L2-Norm: Ridge](https://scikit-learn.org/stable/modules/generated/sklearn.linear_model.Ridge.html#sklearn.linear_model.Ridge)\n",
    "* [Elastic-Net](https://scikit-learn.org/stable/modules/generated/sklearn.linear_model.ElasticNet.html#sklearn.linear_model.ElasticNet)"
   ]
  },
  {
   "cell_type": "markdown",
   "metadata": {},
   "source": [
    "* **Simple Linear Regression**"
   ]
  },
  {
   "cell_type": "code",
   "execution_count": 3,
   "metadata": {},
   "outputs": [
    {
     "name": "stdout",
     "output_type": "stream",
     "text": [
      "Intercept: 0.2\n",
      "Slope: [1.2]\n",
      "Predicted y-value (fit with the line): [1.4 2.6 3.8 5.  6.2]\n",
      "Coefficient of Determination (R-Squared): 0.766\n"
     ]
    },
    {
     "data": {
      "text/plain": [
       "(0, 6.540806717176148)"
      ]
     },
     "execution_count": 3,
     "metadata": {},
     "output_type": "execute_result"
    },
    {
     "data": {
      "image/png": "[encoded data removed]",
      "text/plain": [
       "<Figure size 432x288 with 1 Axes>"
      ]
     },
     "metadata": {
      "needs_background": "light"
     },
     "output_type": "display_data"
    }
   ],
   "source": [
    "x = np.array([1, 2, 3, 4, 5]).reshape(-1, 1)\n",
    "y = [1, 2, 5, 6, 5]\n",
    "reg_A = lm.LinearRegression(normalize=True).fit(x, y)\n",
    "\n",
    "print(\"Intercept: {}\".format(round(reg_A.intercept_, 2)))\n",
    "print(\"Slope: {}\".format(reg_A.coef_))\n",
    "print(\"Predicted y-value (fit with the line): {}\".format(reg_A.predict(x))) # or reg_A.intercept_ + (reg_A.coef_ * x)\n",
    "print(\"Coefficient of Determination (R-Squared): {}\".format(round(reg_A.score(x, y), 3)))\n",
    "\n",
    "plt.scatter(x, y, label=\"Actual Values\") # actual value\n",
    "plt.scatter(x, reg_A.predict(x), color=\"red\", label=\"Predicted Values\") # predicted value\n",
    "plt.plot(x, reg_A.predict(x), 'y', label=\"Linear Regression Line\") # to create LINEAR REGRESSION line\n",
    "plt.legend()\n",
    "plt.xlim(0)\n",
    "plt.ylim(0)"
   ]
  },
  {
   "cell_type": "markdown",
   "metadata": {},
   "source": [
    "* **Multiple Linear Regression**"
   ]
  },
  {
   "cell_type": "code",
   "execution_count": 4,
   "metadata": {},
   "outputs": [
    {
     "name": "stdout",
     "output_type": "stream",
     "text": [
      "Intercept: 5.5\n",
      "Slope: [-0.5 -1. ]\n",
      "Predicted y-value (fit with the line): [3.  4.5 4.  4.  3.5]\n",
      "Coefficient of Determination (R-Squared): 0.069\n"
     ]
    }
   ],
   "source": [
    "x_multiple = np.array([[1, 2], [2, 0], [1, 1], [3, 0], [0, 2]])\n",
    "reg_B = lm.LinearRegression(normalize=True).fit(x_multiple, y)\n",
    "\n",
    "print(\"Intercept: {}\".format(round(reg_B.intercept_, 2)))\n",
    "print(\"Slope: {}\".format(reg_B.coef_))\n",
    "print(\"Predicted y-value (fit with the line): {}\".format(reg_B.predict(x_multiple))) # or reg_B.intercept_ + (reg_B.coef_ * x)\n",
    "print(\"Coefficient of Determination (R-Squared): {}\".format(round(reg_B.score(x_multiple, y), 3)))"
   ]
  },
  {
   "cell_type": "markdown",
   "metadata": {},
   "source": [
    "* **L1-Norm: LASSO**"
   ]
  },
  {
   "cell_type": "code",
   "execution_count": 5,
   "metadata": {},
   "outputs": [
    {
     "name": "stdout",
     "output_type": "stream",
     "text": [
      "Intercept: 3.8\n",
      "Slope: [0.]\n"
     ]
    }
   ],
   "source": [
    "lasso_reg = lm.Lasso(normalize=True, alpha=1).fit(x, y)\n",
    "print(\"Intercept: {}\". format(round(lasso_reg.intercept_, 2)))\n",
    "print(\"Slope: {}\". format(lasso_reg.coef_))"
   ]
  },
  {
   "cell_type": "markdown",
   "metadata": {},
   "source": [
    "* **L2-Norm: Ridge**"
   ]
  },
  {
   "cell_type": "code",
   "execution_count": 6,
   "metadata": {},
   "outputs": [
    {
     "name": "stdout",
     "output_type": "stream",
     "text": [
      "Intercept: 2.0\n",
      "Slope: [0.6]\n"
     ]
    }
   ],
   "source": [
    "ridge_reg = lm.Ridge(normalize=True, alpha=1).fit(x, y)\n",
    "print(\"Intercept: {}\". format(round(ridge_reg.intercept_, 2)))\n",
    "print(\"Slope: {}\". format(ridge_reg.coef_))"
   ]
  },
  {
   "cell_type": "markdown",
   "metadata": {},
   "source": [
    "* **Elastic-Net**"
   ]
  },
  {
   "cell_type": "code",
   "execution_count": 7,
   "metadata": {},
   "outputs": [
    {
     "name": "stdout",
     "output_type": "stream",
     "text": [
      "Intercept: 3.45\n",
      "Slope: [0.11698017]\n"
     ]
    }
   ],
   "source": [
    "elasticNet_reg = lm.ElasticNet(normalize=True, alpha=1, l1_ratio=0.5).fit(x, y)\n",
    "print(\"Intercept: {}\". format(round(elasticNet_reg.intercept_, 2)))\n",
    "print(\"Slope: {}\". format(elasticNet_reg.coef_))"
   ]
  },
  {
   "cell_type": "code",
   "execution_count": 8,
   "metadata": {
    "scrolled": true
   },
   "outputs": [
    {
     "data": {
      "text/plain": [
       "(0, 6.460689845474614)"
      ]
     },
     "execution_count": 8,
     "metadata": {},
     "output_type": "execute_result"
    },
    {
     "data": {
      "image/png": "[encoded data removed]",
      "text/plain": [
       "<Figure size 432x288 with 1 Axes>"
      ]
     },
     "metadata": {
      "needs_background": "light"
     },
     "output_type": "display_data"
    }
   ],
   "source": [
    "plt.scatter(x, y, label=\"Actual Values\")\n",
    "plt.plot(x, reg_A.predict(x), 'y', label=\"Linear Regression\")\n",
    "plt.plot(x, lasso_reg.predict(x), '--r', label=\"LASSO Regression (L1)\")\n",
    "plt.plot(x, ridge_reg.predict(x), '--g', label=\"Ridge Regression (L2)\")\n",
    "plt.plot(x, elasticNet_reg.predict(x), '--m', label=\"Elastic-Net Regression\")\n",
    "plt.legend(loc=4) # legends place in lower right\n",
    "plt.xlim(0)\n",
    "plt.ylim(0)"
   ]
  },
  {
   "cell_type": "markdown",
   "metadata": {},
   "source": [
    "* **Logistic Regression**"
   ]
  },
  {
   "cell_type": "code",
   "execution_count": 9,
   "metadata": {},
   "outputs": [
    {
     "name": "stdout",
     "output_type": "stream",
     "text": [
      "Probability of Logistic Regression\n",
      " [[0.81559741 0.18440259]\n",
      " [0.60821977 0.39178023]\n",
      " [0.35271437 0.64728563]\n",
      " [0.16055648 0.83944352]\n",
      " [0.06291097 0.93708903]]\n",
      "Probability of Logistic Regression outputs will be 0: [0.81559741 0.60821977 0.35271437 0.16055648 0.06291097]\n",
      "Probability of Logistic Regression outputs will be 1: [0.18440259 0.39178023 0.64728563 0.83944352 0.93708903]\n",
      "Total of Probability of Logistic Regression outputs: [1. 1. 1. 1. 1.]\n"
     ]
    },
    {
     "data": {
      "image/png": "[encoded data removed]",
      "text/plain": [
       "<Figure size 432x288 with 1 Axes>"
      ]
     },
     "metadata": {
      "needs_background": "light"
     },
     "output_type": "display_data"
    }
   ],
   "source": [
    "log_reg = lm.LogisticRegression().fit(x, [0, 0, 1, 1, 1])\n",
    "sb.regplot(x=x, y=log_reg.predict_proba(x)[:,1], logistic=True)\n",
    "plt.xlim(0)\n",
    "plt.ylim(0)\n",
    "\n",
    "print(\"Probability of Logistic Regression\\n\", log_reg.predict_proba(x))\n",
    "print(\"Probability of Logistic Regression outputs will be 0:\", log_reg.predict_proba(x)[:,0])\n",
    "print(\"Probability of Logistic Regression outputs will be 1:\", log_reg.predict_proba(x)[:,1])\n",
    "print(\"Total of Probability of Logistic Regression outputs:\", log_reg.predict_proba(x)[:,0] + log_reg.predict_proba(x)[:,1])"
   ]
  },
  {
   "cell_type": "code",
   "execution_count": 10,
   "metadata": {},
   "outputs": [
    {
     "data": {
      "text/html": [
       "<div>\n",
       "<style scoped>\n",
       "    .dataframe tbody tr th:only-of-type {\n",
       "        vertical-align: middle;\n",
       "    }\n",
       "\n",
       "    .dataframe tbody tr th {\n",
       "        vertical-align: top;\n",
       "    }\n",
       "\n",
       "    .dataframe thead th {\n",
       "        text-align: right;\n",
       "    }\n",
       "</style>\n",
       "<table border=\"1\" class=\"dataframe\">\n",
       "  <thead>\n",
       "    <tr style=\"text-align: right;\">\n",
       "      <th></th>\n",
       "      <th>price</th>\n",
       "      <th>crime_rate</th>\n",
       "      <th>resid_area</th>\n",
       "      <th>air_qual</th>\n",
       "      <th>room_num</th>\n",
       "      <th>age</th>\n",
       "      <th>dist1</th>\n",
       "      <th>dist2</th>\n",
       "      <th>dist3</th>\n",
       "      <th>dist4</th>\n",
       "      <th>teachers</th>\n",
       "      <th>poor_prop</th>\n",
       "      <th>n_hos_beds</th>\n",
       "      <th>n_hot_rooms</th>\n",
       "      <th>rainfall</th>\n",
       "      <th>parks</th>\n",
       "      <th>airport_YES</th>\n",
       "      <th>waterbody_None</th>\n",
       "    </tr>\n",
       "  </thead>\n",
       "  <tbody>\n",
       "    <tr>\n",
       "      <th>0</th>\n",
       "      <td>24.0</td>\n",
       "      <td>0.00632</td>\n",
       "      <td>32.31</td>\n",
       "      <td>0.538</td>\n",
       "      <td>6.575</td>\n",
       "      <td>65.2</td>\n",
       "      <td>4.35</td>\n",
       "      <td>3.81</td>\n",
       "      <td>4.18</td>\n",
       "      <td>4.01</td>\n",
       "      <td>24.7</td>\n",
       "      <td>4.98</td>\n",
       "      <td>5.480</td>\n",
       "      <td>11.1920</td>\n",
       "      <td>23</td>\n",
       "      <td>0.049347</td>\n",
       "      <td>1</td>\n",
       "      <td>0</td>\n",
       "    </tr>\n",
       "    <tr>\n",
       "      <th>1</th>\n",
       "      <td>21.6</td>\n",
       "      <td>0.02731</td>\n",
       "      <td>37.07</td>\n",
       "      <td>0.469</td>\n",
       "      <td>6.421</td>\n",
       "      <td>78.9</td>\n",
       "      <td>4.99</td>\n",
       "      <td>4.70</td>\n",
       "      <td>5.12</td>\n",
       "      <td>5.06</td>\n",
       "      <td>22.2</td>\n",
       "      <td>9.14</td>\n",
       "      <td>7.332</td>\n",
       "      <td>12.1728</td>\n",
       "      <td>42</td>\n",
       "      <td>0.046146</td>\n",
       "      <td>0</td>\n",
       "      <td>0</td>\n",
       "    </tr>\n",
       "    <tr>\n",
       "      <th>2</th>\n",
       "      <td>34.7</td>\n",
       "      <td>0.02729</td>\n",
       "      <td>37.07</td>\n",
       "      <td>0.469</td>\n",
       "      <td>7.185</td>\n",
       "      <td>61.1</td>\n",
       "      <td>5.03</td>\n",
       "      <td>4.86</td>\n",
       "      <td>5.01</td>\n",
       "      <td>4.97</td>\n",
       "      <td>22.2</td>\n",
       "      <td>4.03</td>\n",
       "      <td>7.394</td>\n",
       "      <td>101.1200</td>\n",
       "      <td>38</td>\n",
       "      <td>0.045764</td>\n",
       "      <td>0</td>\n",
       "      <td>1</td>\n",
       "    </tr>\n",
       "    <tr>\n",
       "      <th>3</th>\n",
       "      <td>33.4</td>\n",
       "      <td>0.03237</td>\n",
       "      <td>32.18</td>\n",
       "      <td>0.458</td>\n",
       "      <td>6.998</td>\n",
       "      <td>45.8</td>\n",
       "      <td>6.21</td>\n",
       "      <td>5.93</td>\n",
       "      <td>6.16</td>\n",
       "      <td>5.96</td>\n",
       "      <td>21.3</td>\n",
       "      <td>2.94</td>\n",
       "      <td>9.268</td>\n",
       "      <td>11.2672</td>\n",
       "      <td>45</td>\n",
       "      <td>0.047151</td>\n",
       "      <td>1</td>\n",
       "      <td>0</td>\n",
       "    </tr>\n",
       "    <tr>\n",
       "      <th>4</th>\n",
       "      <td>36.2</td>\n",
       "      <td>0.06905</td>\n",
       "      <td>32.18</td>\n",
       "      <td>0.458</td>\n",
       "      <td>7.147</td>\n",
       "      <td>54.2</td>\n",
       "      <td>6.16</td>\n",
       "      <td>5.86</td>\n",
       "      <td>6.37</td>\n",
       "      <td>5.86</td>\n",
       "      <td>21.3</td>\n",
       "      <td>5.33</td>\n",
       "      <td>8.824</td>\n",
       "      <td>11.2896</td>\n",
       "      <td>55</td>\n",
       "      <td>0.039474</td>\n",
       "      <td>0</td>\n",
       "      <td>0</td>\n",
       "    </tr>\n",
       "  </tbody>\n",
       "</table>\n",
       "</div>"
      ],
      "text/plain": [
       "   price  crime_rate  resid_area  air_qual  room_num   age  dist1  dist2  \\\n",
       "0   24.0     0.00632       32.31     0.538     6.575  65.2   4.35   3.81   \n",
       "1   21.6     0.02731       37.07     0.469     6.421  78.9   4.99   4.70   \n",
       "2   34.7     0.02729       37.07     0.469     7.185  61.1   5.03   4.86   \n",
       "3   33.4     0.03237       32.18     0.458     6.998  45.8   6.21   5.93   \n",
       "4   36.2     0.06905       32.18     0.458     7.147  54.2   6.16   5.86   \n",
       "\n",
       "   dist3  dist4  teachers  poor_prop  n_hos_beds  n_hot_rooms  rainfall  \\\n",
       "0   4.18   4.01      24.7       4.98       5.480      11.1920        23   \n",
       "1   5.12   5.06      22.2       9.14       7.332      12.1728        42   \n",
       "2   5.01   4.97      22.2       4.03       7.394     101.1200        38   \n",
       "3   6.16   5.96      21.3       2.94       9.268      11.2672        45   \n",
       "4   6.37   5.86      21.3       5.33       8.824      11.2896        55   \n",
       "\n",
       "      parks  airport_YES  waterbody_None  \n",
       "0  0.049347            1               0  \n",
       "1  0.046146            0               0  \n",
       "2  0.045764            0               1  \n",
       "3  0.047151            1               0  \n",
       "4  0.039474            0               0  "
      ]
     },
     "execution_count": 10,
     "metadata": {},
     "output_type": "execute_result"
    }
   ],
   "source": [
    "house = pd.read_csv(\"Data/House_Price.csv\")\n",
    "house = pd.get_dummies(house) # one-hot encoding for nominal/categorical data\n",
    "house = house.drop([\"airport_NO\", \"bus_ter_YES\", \"waterbody_Lake\", \"waterbody_Lake and River\", \"waterbody_River\"], axis=1)\n",
    "house.head()"
   ]
  },
  {
   "cell_type": "code",
   "execution_count": 14,
   "metadata": {},
   "outputs": [
    {
     "data": {
      "text/plain": [
       "<matplotlib.axes._subplots.AxesSubplot at 0x1edc09fb400>"
      ]
     },
     "execution_count": 14,
     "metadata": {},
     "output_type": "execute_result"
    },
    {
     "data": {
      "image/png": "[encoded data removed]",
      "text/plain": [
       "<Figure size 432x288 with 1 Axes>"
      ]
     },
     "metadata": {
      "needs_background": "light"
     },
     "output_type": "display_data"
    }
   ],
   "source": [
    "house.teachers.reshaped = np.array(house.teachers).reshape(-1, 1)\n",
    "logistic_reg = lm.LogisticRegression().fit(house.teachers.reshaped, house.airport_YES)\n",
    "sb.regplot(x=house.teachers, y=logistic_reg.predict_proba(house.teachers.reshaped)[:,1], logistic=True)"
   ]
  }
 ],
 "metadata": {
  "kernelspec": {
   "display_name": "Python 3",
   "language": "python",
   "name": "python3"
  },
  "language_info": {
   "codemirror_mode": {
    "name": "ipython",
    "version": 3
   },
   "file_extension": ".py",
   "mimetype": "text/x-python",
   "name": "python",
   "nbconvert_exporter": "python",
   "pygments_lexer": "ipython3",
   "version": "3.7.1"
  }
 },
 "nbformat": 4,
 "nbformat_minor": 2
}
