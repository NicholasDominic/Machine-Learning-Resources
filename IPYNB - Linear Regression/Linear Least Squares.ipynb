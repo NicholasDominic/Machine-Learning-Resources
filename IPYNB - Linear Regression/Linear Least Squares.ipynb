{
 "cells": [
  {
   "cell_type": "code",
   "execution_count": 1,
   "metadata": {},
   "outputs": [],
   "source": [
    "import pandas as pd\n",
    "import numpy as np\n",
    "import statsmodels.api as sm\n",
    "from sklearn.linear_model import LinearRegression as lr"
   ]
  },
  {
   "cell_type": "code",
   "execution_count": 2,
   "metadata": {},
   "outputs": [],
   "source": [
    "np.set_printoptions(suppress=True) # remove e-scientific notation"
   ]
  },
  {
   "cell_type": "code",
   "execution_count": 3,
   "metadata": {},
   "outputs": [
    {
     "data": {
      "text/html": [
       "<div>\n",
       "<style scoped>\n",
       "    .dataframe tbody tr th:only-of-type {\n",
       "        vertical-align: middle;\n",
       "    }\n",
       "\n",
       "    .dataframe tbody tr th {\n",
       "        vertical-align: top;\n",
       "    }\n",
       "\n",
       "    .dataframe thead th {\n",
       "        text-align: right;\n",
       "    }\n",
       "</style>\n",
       "<table border=\"1\" class=\"dataframe\">\n",
       "  <thead>\n",
       "    <tr style=\"text-align: right;\">\n",
       "      <th></th>\n",
       "      <th>price</th>\n",
       "      <th>crime_rate</th>\n",
       "      <th>resid_area</th>\n",
       "      <th>air_qual</th>\n",
       "      <th>room_num</th>\n",
       "      <th>age</th>\n",
       "      <th>dist1</th>\n",
       "      <th>dist2</th>\n",
       "      <th>dist3</th>\n",
       "      <th>dist4</th>\n",
       "      <th>teachers</th>\n",
       "      <th>poor_prop</th>\n",
       "      <th>airport</th>\n",
       "      <th>n_hos_beds</th>\n",
       "      <th>n_hot_rooms</th>\n",
       "      <th>waterbody</th>\n",
       "      <th>rainfall</th>\n",
       "      <th>bus_ter</th>\n",
       "      <th>parks</th>\n",
       "    </tr>\n",
       "  </thead>\n",
       "  <tbody>\n",
       "    <tr>\n",
       "      <th>0</th>\n",
       "      <td>24.0</td>\n",
       "      <td>0.00632</td>\n",
       "      <td>32.31</td>\n",
       "      <td>0.538</td>\n",
       "      <td>6.575</td>\n",
       "      <td>65.2</td>\n",
       "      <td>4.35</td>\n",
       "      <td>3.81</td>\n",
       "      <td>4.18</td>\n",
       "      <td>4.01</td>\n",
       "      <td>24.7</td>\n",
       "      <td>4.98</td>\n",
       "      <td>YES</td>\n",
       "      <td>5.480</td>\n",
       "      <td>11.1920</td>\n",
       "      <td>River</td>\n",
       "      <td>23</td>\n",
       "      <td>YES</td>\n",
       "      <td>0.049347</td>\n",
       "    </tr>\n",
       "    <tr>\n",
       "      <th>1</th>\n",
       "      <td>21.6</td>\n",
       "      <td>0.02731</td>\n",
       "      <td>37.07</td>\n",
       "      <td>0.469</td>\n",
       "      <td>6.421</td>\n",
       "      <td>78.9</td>\n",
       "      <td>4.99</td>\n",
       "      <td>4.70</td>\n",
       "      <td>5.12</td>\n",
       "      <td>5.06</td>\n",
       "      <td>22.2</td>\n",
       "      <td>9.14</td>\n",
       "      <td>NO</td>\n",
       "      <td>7.332</td>\n",
       "      <td>12.1728</td>\n",
       "      <td>Lake</td>\n",
       "      <td>42</td>\n",
       "      <td>YES</td>\n",
       "      <td>0.046146</td>\n",
       "    </tr>\n",
       "    <tr>\n",
       "      <th>2</th>\n",
       "      <td>34.7</td>\n",
       "      <td>0.02729</td>\n",
       "      <td>37.07</td>\n",
       "      <td>0.469</td>\n",
       "      <td>7.185</td>\n",
       "      <td>61.1</td>\n",
       "      <td>5.03</td>\n",
       "      <td>4.86</td>\n",
       "      <td>5.01</td>\n",
       "      <td>4.97</td>\n",
       "      <td>22.2</td>\n",
       "      <td>4.03</td>\n",
       "      <td>NO</td>\n",
       "      <td>7.394</td>\n",
       "      <td>101.1200</td>\n",
       "      <td>None</td>\n",
       "      <td>38</td>\n",
       "      <td>YES</td>\n",
       "      <td>0.045764</td>\n",
       "    </tr>\n",
       "    <tr>\n",
       "      <th>3</th>\n",
       "      <td>33.4</td>\n",
       "      <td>0.03237</td>\n",
       "      <td>32.18</td>\n",
       "      <td>0.458</td>\n",
       "      <td>6.998</td>\n",
       "      <td>45.8</td>\n",
       "      <td>6.21</td>\n",
       "      <td>5.93</td>\n",
       "      <td>6.16</td>\n",
       "      <td>5.96</td>\n",
       "      <td>21.3</td>\n",
       "      <td>2.94</td>\n",
       "      <td>YES</td>\n",
       "      <td>9.268</td>\n",
       "      <td>11.2672</td>\n",
       "      <td>Lake</td>\n",
       "      <td>45</td>\n",
       "      <td>YES</td>\n",
       "      <td>0.047151</td>\n",
       "    </tr>\n",
       "    <tr>\n",
       "      <th>4</th>\n",
       "      <td>36.2</td>\n",
       "      <td>0.06905</td>\n",
       "      <td>32.18</td>\n",
       "      <td>0.458</td>\n",
       "      <td>7.147</td>\n",
       "      <td>54.2</td>\n",
       "      <td>6.16</td>\n",
       "      <td>5.86</td>\n",
       "      <td>6.37</td>\n",
       "      <td>5.86</td>\n",
       "      <td>21.3</td>\n",
       "      <td>5.33</td>\n",
       "      <td>NO</td>\n",
       "      <td>8.824</td>\n",
       "      <td>11.2896</td>\n",
       "      <td>Lake</td>\n",
       "      <td>55</td>\n",
       "      <td>YES</td>\n",
       "      <td>0.039474</td>\n",
       "    </tr>\n",
       "  </tbody>\n",
       "</table>\n",
       "</div>"
      ],
      "text/plain": [
       "   price  crime_rate  resid_area  air_qual  room_num   age  dist1  dist2  \\\n",
       "0   24.0     0.00632       32.31     0.538     6.575  65.2   4.35   3.81   \n",
       "1   21.6     0.02731       37.07     0.469     6.421  78.9   4.99   4.70   \n",
       "2   34.7     0.02729       37.07     0.469     7.185  61.1   5.03   4.86   \n",
       "3   33.4     0.03237       32.18     0.458     6.998  45.8   6.21   5.93   \n",
       "4   36.2     0.06905       32.18     0.458     7.147  54.2   6.16   5.86   \n",
       "\n",
       "   dist3  dist4  teachers  poor_prop airport  n_hos_beds  n_hot_rooms  \\\n",
       "0   4.18   4.01      24.7       4.98     YES       5.480      11.1920   \n",
       "1   5.12   5.06      22.2       9.14      NO       7.332      12.1728   \n",
       "2   5.01   4.97      22.2       4.03      NO       7.394     101.1200   \n",
       "3   6.16   5.96      21.3       2.94     YES       9.268      11.2672   \n",
       "4   6.37   5.86      21.3       5.33      NO       8.824      11.2896   \n",
       "\n",
       "  waterbody  rainfall bus_ter     parks  \n",
       "0     River        23     YES  0.049347  \n",
       "1      Lake        42     YES  0.046146  \n",
       "2      None        38     YES  0.045764  \n",
       "3      Lake        45     YES  0.047151  \n",
       "4      Lake        55     YES  0.039474  "
      ]
     },
     "execution_count": 3,
     "metadata": {},
     "output_type": "execute_result"
    }
   ],
   "source": [
    "house = pd.read_csv(\"Data/House_Price.csv\")\n",
    "house.head()"
   ]
  },
  {
   "cell_type": "markdown",
   "metadata": {},
   "source": [
    "# <center><font color=\"deeppink\"><u>Section 1</u><br>ORDINARY LEAST SQUARES (OLS)</font></center>"
   ]
  },
  {
   "cell_type": "markdown",
   "metadata": {},
   "source": [
    "**Using STATSMODELS.API**\n",
    "<br>Click [here](https://www.statsmodels.org/stable/generated/statsmodels.regression.linear_model.RegressionResults.html) or [here](https://www.statsmodels.org/devel/generated/statsmodels.regression.linear_model.OLS.html) for OLS documentation."
   ]
  },
  {
   "cell_type": "code",
   "execution_count": 4,
   "metadata": {
    "scrolled": false
   },
   "outputs": [
    {
     "data": {
      "text/html": [
       "<div>\n",
       "<style scoped>\n",
       "    .dataframe tbody tr th:only-of-type {\n",
       "        vertical-align: middle;\n",
       "    }\n",
       "\n",
       "    .dataframe tbody tr th {\n",
       "        vertical-align: top;\n",
       "    }\n",
       "\n",
       "    .dataframe thead th {\n",
       "        text-align: right;\n",
       "    }\n",
       "</style>\n",
       "<table border=\"1\" class=\"dataframe\">\n",
       "  <thead>\n",
       "    <tr style=\"text-align: right;\">\n",
       "      <th></th>\n",
       "      <th>const</th>\n",
       "      <th>room_num</th>\n",
       "    </tr>\n",
       "  </thead>\n",
       "  <tbody>\n",
       "    <tr>\n",
       "      <th>0</th>\n",
       "      <td>1.0</td>\n",
       "      <td>6.575</td>\n",
       "    </tr>\n",
       "    <tr>\n",
       "      <th>1</th>\n",
       "      <td>1.0</td>\n",
       "      <td>6.421</td>\n",
       "    </tr>\n",
       "    <tr>\n",
       "      <th>2</th>\n",
       "      <td>1.0</td>\n",
       "      <td>7.185</td>\n",
       "    </tr>\n",
       "    <tr>\n",
       "      <th>3</th>\n",
       "      <td>1.0</td>\n",
       "      <td>6.998</td>\n",
       "    </tr>\n",
       "    <tr>\n",
       "      <th>4</th>\n",
       "      <td>1.0</td>\n",
       "      <td>7.147</td>\n",
       "    </tr>\n",
       "    <tr>\n",
       "      <th>...</th>\n",
       "      <td>...</td>\n",
       "      <td>...</td>\n",
       "    </tr>\n",
       "    <tr>\n",
       "      <th>501</th>\n",
       "      <td>1.0</td>\n",
       "      <td>6.593</td>\n",
       "    </tr>\n",
       "    <tr>\n",
       "      <th>502</th>\n",
       "      <td>1.0</td>\n",
       "      <td>6.120</td>\n",
       "    </tr>\n",
       "    <tr>\n",
       "      <th>503</th>\n",
       "      <td>1.0</td>\n",
       "      <td>6.976</td>\n",
       "    </tr>\n",
       "    <tr>\n",
       "      <th>504</th>\n",
       "      <td>1.0</td>\n",
       "      <td>6.794</td>\n",
       "    </tr>\n",
       "    <tr>\n",
       "      <th>505</th>\n",
       "      <td>1.0</td>\n",
       "      <td>6.030</td>\n",
       "    </tr>\n",
       "  </tbody>\n",
       "</table>\n",
       "<p>506 rows × 2 columns</p>\n",
       "</div>"
      ],
      "text/plain": [
       "     const  room_num\n",
       "0      1.0     6.575\n",
       "1      1.0     6.421\n",
       "2      1.0     7.185\n",
       "3      1.0     6.998\n",
       "4      1.0     7.147\n",
       "..     ...       ...\n",
       "501    1.0     6.593\n",
       "502    1.0     6.120\n",
       "503    1.0     6.976\n",
       "504    1.0     6.794\n",
       "505    1.0     6.030\n",
       "\n",
       "[506 rows x 2 columns]"
      ]
     },
     "execution_count": 4,
     "metadata": {},
     "output_type": "execute_result"
    }
   ],
   "source": [
    "sm.add_constant(house.room_num)"
   ]
  },
  {
   "cell_type": "code",
   "execution_count": 5,
   "metadata": {},
   "outputs": [],
   "source": [
    "# Determine DEPENDENT VARIABLE\n",
    "dependent_var = house.price\n",
    "\n",
    "# Determine INDEPENDENT VARIABLE(S)\n",
    "independent_var = house.select_dtypes(include=\"number\").drop('price', axis=1)\n",
    "independent_var.fillna(independent_var.mean(), inplace=True) # replace NaN value with its attribute mean"
   ]
  },
  {
   "cell_type": "code",
   "execution_count": 6,
   "metadata": {
    "scrolled": true
   },
   "outputs": [
    {
     "data": {
      "text/html": [
       "<table class=\"simpletable\">\n",
       "<caption>OLS Regression Results</caption>\n",
       "<tr>\n",
       "  <th>Dep. Variable:</th>          <td>price</td>      <th>  R-squared:         </th> <td>   0.721</td> \n",
       "</tr>\n",
       "<tr>\n",
       "  <th>Model:</th>                   <td>OLS</td>       <th>  Adj. R-squared:    </th> <td>   0.712</td> \n",
       "</tr>\n",
       "<tr>\n",
       "  <th>Method:</th>             <td>Least Squares</td>  <th>  F-statistic:       </th> <td>   84.34</td> \n",
       "</tr>\n",
       "<tr>\n",
       "  <th>Date:</th>             <td>Fri, 29 May 2020</td> <th>  Prob (F-statistic):</th> <td>4.17e-125</td>\n",
       "</tr>\n",
       "<tr>\n",
       "  <th>Time:</th>                 <td>09:48:51</td>     <th>  Log-Likelihood:    </th> <td> -1516.6</td> \n",
       "</tr>\n",
       "<tr>\n",
       "  <th>No. Observations:</th>      <td>   506</td>      <th>  AIC:               </th> <td>   3065.</td> \n",
       "</tr>\n",
       "<tr>\n",
       "  <th>Df Residuals:</th>          <td>   490</td>      <th>  BIC:               </th> <td>   3133.</td> \n",
       "</tr>\n",
       "<tr>\n",
       "  <th>Df Model:</th>              <td>    15</td>      <th>                     </th>     <td> </td>    \n",
       "</tr>\n",
       "<tr>\n",
       "  <th>Covariance Type:</th>      <td>nonrobust</td>    <th>                     </th>     <td> </td>    \n",
       "</tr>\n",
       "</table>\n",
       "<table class=\"simpletable\">\n",
       "<tr>\n",
       "       <td></td>          <th>coef</th>     <th>std err</th>      <th>t</th>      <th>P>|t|</th>  <th>[0.025</th>    <th>0.975]</th>  \n",
       "</tr>\n",
       "<tr>\n",
       "  <th>const</th>       <td>   -5.8503</td> <td>    5.134</td> <td>   -1.140</td> <td> 0.255</td> <td>  -15.937</td> <td>    4.237</td>\n",
       "</tr>\n",
       "<tr>\n",
       "  <th>crime_rate</th>  <td>   -0.0766</td> <td>    0.030</td> <td>   -2.555</td> <td> 0.011</td> <td>   -0.135</td> <td>   -0.018</td>\n",
       "</tr>\n",
       "<tr>\n",
       "  <th>resid_area</th>  <td>   -0.0537</td> <td>    0.057</td> <td>   -0.943</td> <td> 0.346</td> <td>   -0.166</td> <td>    0.058</td>\n",
       "</tr>\n",
       "<tr>\n",
       "  <th>air_qual</th>    <td>  -20.0667</td> <td>    5.656</td> <td>   -3.548</td> <td> 0.000</td> <td>  -31.180</td> <td>   -8.954</td>\n",
       "</tr>\n",
       "<tr>\n",
       "  <th>room_num</th>    <td>    4.2094</td> <td>    0.419</td> <td>   10.042</td> <td> 0.000</td> <td>    3.386</td> <td>    5.033</td>\n",
       "</tr>\n",
       "<tr>\n",
       "  <th>age</th>         <td>   -0.0046</td> <td>    0.014</td> <td>   -0.338</td> <td> 0.735</td> <td>   -0.031</td> <td>    0.022</td>\n",
       "</tr>\n",
       "<tr>\n",
       "  <th>dist1</th>       <td>   -0.1221</td> <td>    1.848</td> <td>   -0.066</td> <td> 0.947</td> <td>   -3.753</td> <td>    3.509</td>\n",
       "</tr>\n",
       "<tr>\n",
       "  <th>dist2</th>       <td>    1.1996</td> <td>    1.972</td> <td>    0.608</td> <td> 0.543</td> <td>   -2.675</td> <td>    5.074</td>\n",
       "</tr>\n",
       "<tr>\n",
       "  <th>dist3</th>       <td>   -1.9982</td> <td>    1.923</td> <td>   -1.039</td> <td> 0.299</td> <td>   -5.777</td> <td>    1.781</td>\n",
       "</tr>\n",
       "<tr>\n",
       "  <th>dist4</th>       <td>   -0.3255</td> <td>    1.033</td> <td>   -0.315</td> <td> 0.753</td> <td>   -2.355</td> <td>    1.704</td>\n",
       "</tr>\n",
       "<tr>\n",
       "  <th>teachers</th>    <td>    0.9651</td> <td>    0.119</td> <td>    8.143</td> <td> 0.000</td> <td>    0.732</td> <td>    1.198</td>\n",
       "</tr>\n",
       "<tr>\n",
       "  <th>poor_prop</th>   <td>   -0.5422</td> <td>    0.052</td> <td>  -10.443</td> <td> 0.000</td> <td>   -0.644</td> <td>   -0.440</td>\n",
       "</tr>\n",
       "<tr>\n",
       "  <th>n_hos_beds</th>  <td>    0.3648</td> <td>    0.153</td> <td>    2.389</td> <td> 0.017</td> <td>    0.065</td> <td>    0.665</td>\n",
       "</tr>\n",
       "<tr>\n",
       "  <th>n_hot_rooms</th> <td>    0.0300</td> <td>    0.042</td> <td>    0.711</td> <td> 0.477</td> <td>   -0.053</td> <td>    0.113</td>\n",
       "</tr>\n",
       "<tr>\n",
       "  <th>rainfall</th>    <td>    0.0145</td> <td>    0.018</td> <td>    0.813</td> <td> 0.417</td> <td>   -0.020</td> <td>    0.049</td>\n",
       "</tr>\n",
       "<tr>\n",
       "  <th>parks</th>       <td>   60.7462</td> <td>   51.702</td> <td>    1.175</td> <td> 0.241</td> <td>  -40.840</td> <td>  162.332</td>\n",
       "</tr>\n",
       "</table>\n",
       "<table class=\"simpletable\">\n",
       "<tr>\n",
       "  <th>Omnibus:</th>       <td>202.699</td> <th>  Durbin-Watson:     </th> <td>   0.955</td> \n",
       "</tr>\n",
       "<tr>\n",
       "  <th>Prob(Omnibus):</th> <td> 0.000</td>  <th>  Jarque-Bera (JB):  </th> <td>1005.006</td> \n",
       "</tr>\n",
       "<tr>\n",
       "  <th>Skew:</th>          <td> 1.715</td>  <th>  Prob(JB):          </th> <td>5.83e-219</td>\n",
       "</tr>\n",
       "<tr>\n",
       "  <th>Kurtosis:</th>      <td> 8.992</td>  <th>  Cond. No.          </th> <td>2.31e+04</td> \n",
       "</tr>\n",
       "</table><br/><br/>Warnings:<br/>[1] Standard Errors assume that the covariance matrix of the errors is correctly specified.<br/>[2] The condition number is large, 2.31e+04. This might indicate that there are<br/>strong multicollinearity or other numerical problems."
      ],
      "text/plain": [
       "<class 'statsmodels.iolib.summary.Summary'>\n",
       "\"\"\"\n",
       "                            OLS Regression Results                            \n",
       "==============================================================================\n",
       "Dep. Variable:                  price   R-squared:                       0.721\n",
       "Model:                            OLS   Adj. R-squared:                  0.712\n",
       "Method:                 Least Squares   F-statistic:                     84.34\n",
       "Date:                Fri, 29 May 2020   Prob (F-statistic):          4.17e-125\n",
       "Time:                        09:48:51   Log-Likelihood:                -1516.6\n",
       "No. Observations:                 506   AIC:                             3065.\n",
       "Df Residuals:                     490   BIC:                             3133.\n",
       "Df Model:                          15                                         \n",
       "Covariance Type:            nonrobust                                         \n",
       "===============================================================================\n",
       "                  coef    std err          t      P>|t|      [0.025      0.975]\n",
       "-------------------------------------------------------------------------------\n",
       "const          -5.8503      5.134     -1.140      0.255     -15.937       4.237\n",
       "crime_rate     -0.0766      0.030     -2.555      0.011      -0.135      -0.018\n",
       "resid_area     -0.0537      0.057     -0.943      0.346      -0.166       0.058\n",
       "air_qual      -20.0667      5.656     -3.548      0.000     -31.180      -8.954\n",
       "room_num        4.2094      0.419     10.042      0.000       3.386       5.033\n",
       "age            -0.0046      0.014     -0.338      0.735      -0.031       0.022\n",
       "dist1          -0.1221      1.848     -0.066      0.947      -3.753       3.509\n",
       "dist2           1.1996      1.972      0.608      0.543      -2.675       5.074\n",
       "dist3          -1.9982      1.923     -1.039      0.299      -5.777       1.781\n",
       "dist4          -0.3255      1.033     -0.315      0.753      -2.355       1.704\n",
       "teachers        0.9651      0.119      8.143      0.000       0.732       1.198\n",
       "poor_prop      -0.5422      0.052    -10.443      0.000      -0.644      -0.440\n",
       "n_hos_beds      0.3648      0.153      2.389      0.017       0.065       0.665\n",
       "n_hot_rooms     0.0300      0.042      0.711      0.477      -0.053       0.113\n",
       "rainfall        0.0145      0.018      0.813      0.417      -0.020       0.049\n",
       "parks          60.7462     51.702      1.175      0.241     -40.840     162.332\n",
       "==============================================================================\n",
       "Omnibus:                      202.699   Durbin-Watson:                   0.955\n",
       "Prob(Omnibus):                  0.000   Jarque-Bera (JB):             1005.006\n",
       "Skew:                           1.715   Prob(JB):                    5.83e-219\n",
       "Kurtosis:                       8.992   Cond. No.                     2.31e+04\n",
       "==============================================================================\n",
       "\n",
       "Warnings:\n",
       "[1] Standard Errors assume that the covariance matrix of the errors is correctly specified.\n",
       "[2] The condition number is large, 2.31e+04. This might indicate that there are\n",
       "strong multicollinearity or other numerical problems.\n",
       "\"\"\""
      ]
     },
     "execution_count": 6,
     "metadata": {},
     "output_type": "execute_result"
    }
   ],
   "source": [
    "# Linear Regression format sm.OLS(dependent_variable, independent_variable)\n",
    "build_ols = sm.OLS(dependent_var, sm.add_constant(independent_var))\n",
    "result = build_ols.fit()\n",
    "result.summary()"
   ]
  },
  {
   "cell_type": "markdown",
   "metadata": {},
   "source": [
    "<font color=\"red\">**BRIEF NOTES**</font>\n",
    "* column \"t\" in .summary() means **t-values**, derived from (coef / std_err)\n",
    "* column \"P>|t|\" in .summary() means **p-values**, if < 0.05 then it's statistically significant\n",
    "* column \"[0.025 0.975]\" in .summary() means **confidence interval (95%, therefore $\\alpha$ = 1 - (95/100) = 0.005)**, roughly calculated by <br>**[$\\beta_n \\pm (1.96 \\times SE(\\beta_n))$]** where SE = std_error; see the details of confidence interval calculation [here](https://stattrek.com/regression/slope-confidence-interval.aspx)\n",
    "* statsmodels endog/exog terminology, see more [here](https://www.statsmodels.org/stable/endog_exog.html)\n",
    "<br>**endogenous** (endog): DEPENDENT var., caused by factors within the system (it is ${\\beta}_{0}$)\n",
    "<br>**exogenous** (exog): INDEPENDENT var., caused by factors outside the system (it is ${\\beta}_{1},{\\beta}_{2}, ..., {\\beta}_{n} $)"
   ]
  },
  {
   "cell_type": "code",
   "execution_count": 7,
   "metadata": {
    "scrolled": true
   },
   "outputs": [
    {
     "data": {
      "text/plain": [
       "array([24. , 21.6, 34.7, 33.4, 36.2, 28.7, 22.9, 22.1, 16.5, 18.9, 15. ,\n",
       "       18.9, 21.7, 20.4, 18.2, 19.9, 23.1, 17.5, 20.2, 18.2, 13.6, 19.6,\n",
       "       15.2, 14.5, 15.6, 13.9, 16.6, 14.8, 18.4, 21. , 12.7, 14.5, 13.2,\n",
       "       13.1, 13.5, 18.9, 20. , 21. , 24.2, 30.8, 34.9, 26.6, 25.3, 24.7,\n",
       "       21.2, 19.3, 20. , 16.6, 14.4, 19.4, 19.7, 20.5, 25. , 23.4, 18.9,\n",
       "       35.4, 24.7, 31.6, 23.3, 19.6, 18.7, 16. , 22.2, 25. , 33. , 23.5,\n",
       "       19.4, 22. , 17.4, 20.9, 24.2, 21.7, 22.8, 23.4, 24.1, 21.4, 20. ,\n",
       "       20.8, 21.2, 20.3, 28. , 23.9, 24.8, 22.9, 23.9, 26.6, 22.5, 22.2,\n",
       "       23.6, 28.7, 22.6, 22. , 22.9, 25. , 20.6, 28.4, 21.4, 38.7, 43.8,\n",
       "       33.2, 27.5, 26.5, 18.6, 19.3, 20.1, 19.5, 19.5, 20.4, 19.8, 19.4,\n",
       "       21.7, 22.8, 18.8, 18.7, 18.5, 18.3, 21.2, 19.2, 20.4, 19.3, 22. ,\n",
       "       20.3, 20.5, 17.3, 18.8, 21.4, 15.7, 16.2, 18. , 14.3, 19.2, 19.6,\n",
       "       23. , 18.4, 15.6, 18.1, 17.4, 17.1, 13.3, 17.8, 14. , 14.4, 13.4,\n",
       "       15.6, 11.8, 13.8, 15.6, 14.6, 17.8, 15.4, 21.5, 19.6, 15.3, 19.4,\n",
       "       17. , 15.6, 13.1, 41.3, 24.3, 23.3, 27. , 50. , 50. , 50. , 22.7,\n",
       "       25. , 50. , 23.8, 23.8, 22.3, 17.4, 19.1, 23.1, 23.6, 22.6, 29.4,\n",
       "       23.2, 24.6, 29.9, 37.2, 39.8, 36.2, 37.9, 32.5, 26.4, 29.6, 50. ,\n",
       "       32. , 29.8, 34.9, 33. , 30.5, 36.4, 31.1, 29.1, 50. , 33.3, 30.3,\n",
       "       34.6, 34.9, 32.9, 24.1, 42.3, 48.5, 50. , 22.6, 24.4, 22.5, 24.4,\n",
       "       20. , 21.7, 19.3, 22.4, 28.1, 23.7, 25. , 23.3, 28.7, 21.5, 23. ,\n",
       "       26.7, 21.7, 27.5, 30.1, 44.8, 50. , 37.6, 31.6, 46.7, 31.5, 24.3,\n",
       "       31.7, 41.7, 48.3, 29. , 24. , 25.1, 31.5, 23.7, 23.3, 27. , 20.1,\n",
       "       22.2, 23.7, 17.6, 18.5, 24.3, 20.5, 24.5, 26.2, 24.4, 24.8, 29.6,\n",
       "       42.8, 21.9, 20.9, 44. , 50. , 36. , 30.1, 33.8, 43.1, 48.8, 31. ,\n",
       "       36.5, 22.8, 30.7, 50. , 43.5, 20.7, 21.1, 25.2, 24.4, 35.2, 32.4,\n",
       "       32. , 33.2, 33.1, 29.1, 35.1, 45.4, 35.4, 46. , 50. , 32.2, 22. ,\n",
       "       20.1, 23.2, 22.3, 24.8, 28.5, 37.3, 27.9, 23.9, 21.7, 28.6, 27.1,\n",
       "       20.3, 22.5, 29. , 24.8, 22. , 26.4, 33.1, 36.1, 28.4, 33.4, 28.2,\n",
       "       22.8, 20.3, 16.1, 22.1, 19.4, 21.6, 23.8, 16.2, 17.8, 19.8, 23.1,\n",
       "       21. , 23.8, 23.1, 20.4, 18.5, 25. , 24.6, 23. , 22.2, 19.3, 22.6,\n",
       "       19.8, 17.1, 19.4, 22.2, 20.7, 21.1, 19.5, 18.5, 20.6, 19. , 18.7,\n",
       "       32.7, 16.5, 23.9, 31.2, 17.5, 17.2, 23.1, 24.5, 26.6, 22.9, 24.1,\n",
       "       18.6, 30.1, 18.2, 20.6, 17.8, 21.7, 22.7, 22.6, 25. , 19.9, 20.8,\n",
       "       16.8, 21.9, 27.5, 21.9, 23.1, 50. , 50. , 50. , 50. , 50. , 13.8,\n",
       "       13.8, 15. , 13.9, 13.3, 13.1, 10.2, 10.4, 10.9, 11.3, 12.3,  8.8,\n",
       "        7.2, 10.5,  7.4, 10.2, 11.5, 15.1, 23.2,  9.7, 13.8, 12.7, 13.1,\n",
       "       12.5,  8.5,  5. ,  6.3,  5.6,  7.2, 12.1,  8.3,  8.5,  5. , 11.9,\n",
       "       27.9, 17.2, 27.5, 15. , 17.2, 17.9, 16.3,  7. ,  7.2,  7.5, 10.4,\n",
       "        8.8,  8.4, 16.7, 14.2, 20.8, 13.4, 11.7,  8.3, 10.2, 10.9, 11. ,\n",
       "        9.5, 14.5, 14.1, 16.1, 14.3, 11.7, 13.4,  9.6,  8.2,  8.4, 12.8,\n",
       "       10.5, 17.1, 14.8, 15.4, 10.8, 11.8, 14.9, 12.6, 14.1, 13. , 13.4,\n",
       "       15.2, 16.1, 17.8, 14.4, 14.1, 12.7, 13.5, 14.9, 20. , 16.4, 17.7,\n",
       "       19.5, 20.2, 21.4, 19.9, 19. , 19.1, 19.1, 20.1, 19.9, 19.6, 23.2,\n",
       "       29.8, 13.8, 13.3, 16.7, 12. , 14.6, 21.4, 23. , 23.7, 25. , 21.8,\n",
       "       20.6, 21.2, 19.1, 20.6, 15.2,  7. ,  8.1, 13.6, 20.1, 21.8, 24.5,\n",
       "       23.1, 19.7, 18.3, 21.2, 17.5, 16.8, 22.4, 20.6, 23.9, 22. , 19. ])"
      ]
     },
     "execution_count": 7,
     "metadata": {},
     "output_type": "execute_result"
    }
   ],
   "source": [
    "build_ols.endog"
   ]
  },
  {
   "cell_type": "code",
   "execution_count": 8,
   "metadata": {},
   "outputs": [
    {
     "data": {
      "text/plain": [
       "array([[  1.        ,   0.00632   ,  32.31      , ...,  11.192     ,\n",
       "         23.        ,   0.04934731],\n",
       "       [  1.        ,   0.02731   ,  37.07      , ...,  12.1728    ,\n",
       "         42.        ,   0.04614563],\n",
       "       [  1.        ,   0.02729   ,  37.07      , ..., 101.12      ,\n",
       "         38.        ,   0.04576397],\n",
       "       ...,\n",
       "       [  1.        ,   0.06076   ,  41.93      , ...,  12.1912    ,\n",
       "         31.        ,   0.05757229],\n",
       "       [  1.        ,   0.10959   ,  41.93      , ...,  15.176     ,\n",
       "         47.        ,   0.0606943 ],\n",
       "       [  1.        ,   0.04741   ,  41.93      , ...,  10.152     ,\n",
       "         45.        ,   0.0603359 ]])"
      ]
     },
     "execution_count": 8,
     "metadata": {},
     "output_type": "execute_result"
    }
   ],
   "source": [
    "build_ols.exog"
   ]
  },
  {
   "cell_type": "code",
   "execution_count": 9,
   "metadata": {
    "scrolled": true
   },
   "outputs": [
    {
     "name": "stdout",
     "output_type": "stream",
     "text": [
      "HC0_se\n",
      "HC1_se\n",
      "HC2_se\n",
      "HC3_se\n",
      "aic\n",
      "bic\n",
      "bse\n",
      "centered_tss\n",
      "compare_f_test\n",
      "compare_lm_test\n",
      "compare_lr_test\n",
      "condition_number\n",
      "conf_int\n",
      "conf_int_el\n",
      "cov_HC0\n",
      "cov_HC1\n",
      "cov_HC2\n",
      "cov_HC3\n",
      "cov_kwds\n",
      "cov_params\n",
      "cov_type\n",
      "df_model\n",
      "df_resid\n",
      "diagn\n",
      "eigenvals\n",
      "el_test\n",
      "ess\n",
      "f_pvalue\n",
      "f_test\n",
      "fittedvalues\n",
      "fvalue\n",
      "get_influence\n",
      "get_prediction\n",
      "get_robustcov_results\n",
      "initialize\n",
      "k_constant\n",
      "llf\n",
      "load\n",
      "model\n",
      "mse_model\n",
      "mse_resid\n",
      "mse_total\n",
      "nobs\n",
      "normalized_cov_params\n",
      "outlier_test\n",
      "params\n",
      "predict\n",
      "pvalues\n",
      "remove_data\n",
      "resid\n",
      "resid_pearson\n",
      "rsquared\n",
      "rsquared_adj\n",
      "save\n",
      "scale\n",
      "ssr\n",
      "summary\n",
      "summary2\n",
      "t_test\n",
      "t_test_pairwise\n",
      "tvalues\n",
      "uncentered_tss\n",
      "use_t\n",
      "wald_test\n",
      "wald_test_terms\n",
      "wresid\n"
     ]
    }
   ],
   "source": [
    "# Attributes to be called spesifically from statsmodels.api.OLS().fit().summary() tables\n",
    "for attr in dir(result):\n",
    "    if not attr.startswith('_'):\n",
    "        print(attr)"
   ]
  },
  {
   "cell_type": "code",
   "execution_count": 10,
   "metadata": {},
   "outputs": [
    {
     "name": "stdout",
     "output_type": "stream",
     "text": [
      "Linear Regression equation:\n",
      "\n",
      "price = -5.85 + (-0.0766 crime_rate) + (-0.0537 resid_area) + (-20.1 air_qual) + (4.21 room_num) + (-0.00457 age) + (-0.122 dist1) + (1.2 dist2) + (-2.0 dist3) + (-0.325 dist4) + (0.965 teachers) + (-0.542 poor_prop) + (0.365 n_hos_beds) + (0.03 n_hot_rooms) + (0.0145 rainfall) + (60.7 parks) "
     ]
    }
   ],
   "source": [
    "print(\"Linear Regression equation:\\n\")\n",
    "print(\"{} = {:.3}\".format(build_ols.endog_names, result.params[0]), end=' ')\n",
    "\n",
    "for s in range(len(result.params)):\n",
    "    for i in range(len(build_ols.exog_names)):\n",
    "        if s == i:\n",
    "            if s and i != 0:\n",
    "                print(\"+ ({:.3} {})\".format(result.params[s], build_ols.exog_names[i]), end=' ')"
   ]
  },
  {
   "cell_type": "markdown",
   "metadata": {},
   "source": [
    "**Using SKLEARN.LINEAR_MODEL**"
   ]
  },
  {
   "cell_type": "code",
   "execution_count": 11,
   "metadata": {},
   "outputs": [],
   "source": [
    "from sklearn.linear_model import LinearRegression as lr"
   ]
  },
  {
   "cell_type": "code",
   "execution_count": 12,
   "metadata": {},
   "outputs": [
    {
     "data": {
      "text/plain": [
       "-5.850317594834177"
      ]
     },
     "execution_count": 12,
     "metadata": {},
     "output_type": "execute_result"
    }
   ],
   "source": [
    "lr().fit(sm.add_constant(independent_var), dependent_var).intercept_"
   ]
  },
  {
   "cell_type": "code",
   "execution_count": 13,
   "metadata": {},
   "outputs": [
    {
     "name": "stdout",
     "output_type": "stream",
     "text": [
      "Intercept/Constant: -5.85\n",
      "Coefficient/Slope: [ -0.07658185  -0.05368354 -20.06669741   4.20935284  -0.00456612\n",
      "  -0.12213759   1.19956364  -1.9982412   -0.32549875   0.96511976\n",
      "  -0.54224318   0.36477909   0.02996354   0.01445348  60.74616329]\n"
     ]
    }
   ],
   "source": [
    "regression = lr(normalize=True).fit(independent_var, dependent_var)\n",
    "print(\"Intercept/Constant: {:.3}\".format(regression.intercept_))\n",
    "print(\"Coefficient/Slope: {}\".format(regression.coef_))"
   ]
  },
  {
   "cell_type": "markdown",
   "metadata": {},
   "source": [
    "## <font color=\"blue\">The Quality of Linear Regression Model Fit</font>"
   ]
  },
  {
   "cell_type": "markdown",
   "metadata": {},
   "source": [
    "* Coefficient of Determination / R-Squared\n",
    "<br>(has to be **maximized**) | see its definition [here](https://en.wikipedia.org/wiki/Coefficient_of_determination#Definitions)"
   ]
  },
  {
   "cell_type": "code",
   "execution_count": 14,
   "metadata": {},
   "outputs": [],
   "source": [
    "residual_sum_of_squares = result.ssr\n",
    "total_sum_of_squares = result.centered_tss\n",
    "degree_of_freedom_independent_var = result.df_resid # or result.nobs - result.df_model - 1\n",
    "degree_of_freedom_dependent_var = result.nobs - 1"
   ]
  },
  {
   "cell_type": "code",
   "execution_count": 15,
   "metadata": {},
   "outputs": [
    {
     "name": "stdout",
     "output_type": "stream",
     "text": [
      "R-Squared: 72.1 %\n"
     ]
    }
   ],
   "source": [
    "print(\"R-Squared: {} %\".format(round(result.rsquared, 3) * 100))"
   ]
  },
  {
   "cell_type": "code",
   "execution_count": 16,
   "metadata": {},
   "outputs": [
    {
     "name": "stdout",
     "output_type": "stream",
     "text": [
      "R-Squared: 72.1 %\n"
     ]
    }
   ],
   "source": [
    "print(\"R-Squared: {} %\".format(round(1 - (residual_sum_of_squares / total_sum_of_squares), 3) * 100))"
   ]
  },
  {
   "cell_type": "code",
   "execution_count": 17,
   "metadata": {},
   "outputs": [
    {
     "name": "stdout",
     "output_type": "stream",
     "text": [
      "Adjusted R-Squared: 71.2 %\n"
     ]
    }
   ],
   "source": [
    "print(\"Adjusted R-Squared: {} %\".format(round(result.rsquared_adj, 3) * 100))"
   ]
  },
  {
   "cell_type": "code",
   "execution_count": 18,
   "metadata": {},
   "outputs": [
    {
     "name": "stdout",
     "output_type": "stream",
     "text": [
      "Adjusted R-Squared: 71.2 %\n"
     ]
    }
   ],
   "source": [
    "print(\"Adjusted R-Squared: {} %\".format(round(1 - ((residual_sum_of_squares / degree_of_freedom_independent_var) / (total_sum_of_squares / degree_of_freedom_dependent_var)), 3) * 100))"
   ]
  },
  {
   "cell_type": "markdown",
   "metadata": {},
   "source": [
    "* Residual Standard Error (RSE) / Root-mean-square Error (RMSE) / Root-mean-square Deviation (RMSD)\n",
    "<br>(has to **maximized**)"
   ]
  },
  {
   "cell_type": "code",
   "execution_count": 19,
   "metadata": {},
   "outputs": [
    {
     "data": {
      "text/plain": [
       "4.925"
      ]
     },
     "execution_count": 19,
     "metadata": {},
     "output_type": "execute_result"
    }
   ],
   "source": [
    "round(np.sqrt(result.mse_resid), 3) # or use result.scale"
   ]
  },
  {
   "cell_type": "markdown",
   "metadata": {},
   "source": [
    "# <center><font color=\"DARKTURQUOISE\"><u>Section 2</u><br>WEIGHTED LEAST SQUARES (WLS)</font></center>"
   ]
  },
  {
   "cell_type": "markdown",
   "metadata": {},
   "source": [
    "**Using STATSMODELS.API**\n",
    "<br>Click [here](https://www.statsmodels.org/stable/generated/statsmodels.regression.linear_model.WLS.html) for WLS documentation."
   ]
  },
  {
   "cell_type": "code",
   "execution_count": 20,
   "metadata": {
    "scrolled": true
   },
   "outputs": [
    {
     "name": "stderr",
     "output_type": "stream",
     "text": [
      "c:\\users\\nicholas dominic\\appdata\\local\\programs\\python\\python37\\lib\\site-packages\\statsmodels\\regression\\linear_model.py:762: RuntimeWarning: divide by zero encountered in log\n",
      "  llf += 0.5 * np.sum(np.log(self.weights))\n"
     ]
    },
    {
     "data": {
      "text/html": [
       "<table class=\"simpletable\">\n",
       "<caption>WLS Regression Results</caption>\n",
       "<tr>\n",
       "  <th>Dep. Variable:</th>          <td>price</td>      <th>  R-squared:         </th> <td>   0.706</td> \n",
       "</tr>\n",
       "<tr>\n",
       "  <th>Model:</th>                   <td>WLS</td>       <th>  Adj. R-squared:    </th> <td>   0.697</td> \n",
       "</tr>\n",
       "<tr>\n",
       "  <th>Method:</th>             <td>Least Squares</td>  <th>  F-statistic:       </th> <td>   78.42</td> \n",
       "</tr>\n",
       "<tr>\n",
       "  <th>Date:</th>             <td>Fri, 29 May 2020</td> <th>  Prob (F-statistic):</th> <td>1.24e-119</td>\n",
       "</tr>\n",
       "<tr>\n",
       "  <th>Time:</th>                 <td>09:48:53</td>     <th>  Log-Likelihood:    </th> <td>    -inf</td> \n",
       "</tr>\n",
       "<tr>\n",
       "  <th>No. Observations:</th>      <td>   506</td>      <th>  AIC:               </th> <td>     inf</td> \n",
       "</tr>\n",
       "<tr>\n",
       "  <th>Df Residuals:</th>          <td>   490</td>      <th>  BIC:               </th> <td>     inf</td> \n",
       "</tr>\n",
       "<tr>\n",
       "  <th>Df Model:</th>              <td>    15</td>      <th>                     </th>     <td> </td>    \n",
       "</tr>\n",
       "<tr>\n",
       "  <th>Covariance Type:</th>      <td>nonrobust</td>    <th>                     </th>     <td> </td>    \n",
       "</tr>\n",
       "</table>\n",
       "<table class=\"simpletable\">\n",
       "<tr>\n",
       "       <td></td>          <th>coef</th>     <th>std err</th>      <th>t</th>      <th>P>|t|</th>  <th>[0.025</th>    <th>0.975]</th>  \n",
       "</tr>\n",
       "<tr>\n",
       "  <th>const</th>       <td>   -4.3925</td> <td>    5.299</td> <td>   -0.829</td> <td> 0.408</td> <td>  -14.805</td> <td>    6.020</td>\n",
       "</tr>\n",
       "<tr>\n",
       "  <th>crime_rate</th>  <td>   -0.0540</td> <td>    0.036</td> <td>   -1.494</td> <td> 0.136</td> <td>   -0.125</td> <td>    0.017</td>\n",
       "</tr>\n",
       "<tr>\n",
       "  <th>resid_area</th>  <td>   -0.0469</td> <td>    0.059</td> <td>   -0.794</td> <td> 0.427</td> <td>   -0.163</td> <td>    0.069</td>\n",
       "</tr>\n",
       "<tr>\n",
       "  <th>air_qual</th>    <td>  -22.5652</td> <td>    5.901</td> <td>   -3.824</td> <td> 0.000</td> <td>  -34.159</td> <td>  -10.971</td>\n",
       "</tr>\n",
       "<tr>\n",
       "  <th>room_num</th>    <td>    3.8084</td> <td>    0.432</td> <td>    8.808</td> <td> 0.000</td> <td>    2.959</td> <td>    4.658</td>\n",
       "</tr>\n",
       "<tr>\n",
       "  <th>age</th>         <td>   -0.0049</td> <td>    0.014</td> <td>   -0.349</td> <td> 0.728</td> <td>   -0.033</td> <td>    0.023</td>\n",
       "</tr>\n",
       "<tr>\n",
       "  <th>dist1</th>       <td>   -1.4530</td> <td>    1.863</td> <td>   -0.780</td> <td> 0.436</td> <td>   -5.113</td> <td>    2.207</td>\n",
       "</tr>\n",
       "<tr>\n",
       "  <th>dist2</th>       <td>    3.0674</td> <td>    2.034</td> <td>    1.508</td> <td> 0.132</td> <td>   -0.929</td> <td>    7.064</td>\n",
       "</tr>\n",
       "<tr>\n",
       "  <th>dist3</th>       <td>   -2.2341</td> <td>    1.971</td> <td>   -1.134</td> <td> 0.257</td> <td>   -6.106</td> <td>    1.638</td>\n",
       "</tr>\n",
       "<tr>\n",
       "  <th>dist4</th>       <td>   -0.7130</td> <td>    1.092</td> <td>   -0.653</td> <td> 0.514</td> <td>   -2.859</td> <td>    1.433</td>\n",
       "</tr>\n",
       "<tr>\n",
       "  <th>teachers</th>    <td>    1.0380</td> <td>    0.122</td> <td>    8.500</td> <td> 0.000</td> <td>    0.798</td> <td>    1.278</td>\n",
       "</tr>\n",
       "<tr>\n",
       "  <th>poor_prop</th>   <td>   -0.5324</td> <td>    0.052</td> <td>  -10.208</td> <td> 0.000</td> <td>   -0.635</td> <td>   -0.430</td>\n",
       "</tr>\n",
       "<tr>\n",
       "  <th>n_hos_beds</th>  <td>    0.4194</td> <td>    0.158</td> <td>    2.657</td> <td> 0.008</td> <td>    0.109</td> <td>    0.730</td>\n",
       "</tr>\n",
       "<tr>\n",
       "  <th>n_hot_rooms</th> <td>    0.0452</td> <td>    0.041</td> <td>    1.095</td> <td> 0.274</td> <td>   -0.036</td> <td>    0.126</td>\n",
       "</tr>\n",
       "<tr>\n",
       "  <th>rainfall</th>    <td>    0.0240</td> <td>    0.019</td> <td>    1.281</td> <td> 0.201</td> <td>   -0.013</td> <td>    0.061</td>\n",
       "</tr>\n",
       "<tr>\n",
       "  <th>parks</th>       <td>   70.0057</td> <td>   54.062</td> <td>    1.295</td> <td> 0.196</td> <td>  -36.217</td> <td>  176.228</td>\n",
       "</tr>\n",
       "</table>\n",
       "<table class=\"simpletable\">\n",
       "<tr>\n",
       "  <th>Omnibus:</th>       <td>220.152</td> <th>  Durbin-Watson:     </th> <td>   1.074</td> \n",
       "</tr>\n",
       "<tr>\n",
       "  <th>Prob(Omnibus):</th> <td> 0.000</td>  <th>  Jarque-Bera (JB):  </th> <td>1274.035</td> \n",
       "</tr>\n",
       "<tr>\n",
       "  <th>Skew:</th>          <td> 1.826</td>  <th>  Prob(JB):          </th> <td>2.22e-277</td>\n",
       "</tr>\n",
       "<tr>\n",
       "  <th>Kurtosis:</th>      <td> 9.862</td>  <th>  Cond. No.          </th> <td>2.35e+04</td> \n",
       "</tr>\n",
       "</table><br/><br/>Warnings:<br/>[1] Standard Errors assume that the covariance matrix of the errors is correctly specified.<br/>[2] The condition number is large, 2.35e+04. This might indicate that there are<br/>strong multicollinearity or other numerical problems."
      ],
      "text/plain": [
       "<class 'statsmodels.iolib.summary.Summary'>\n",
       "\"\"\"\n",
       "                            WLS Regression Results                            \n",
       "==============================================================================\n",
       "Dep. Variable:                  price   R-squared:                       0.706\n",
       "Model:                            WLS   Adj. R-squared:                  0.697\n",
       "Method:                 Least Squares   F-statistic:                     78.42\n",
       "Date:                Fri, 29 May 2020   Prob (F-statistic):          1.24e-119\n",
       "Time:                        09:48:53   Log-Likelihood:                   -inf\n",
       "No. Observations:                 506   AIC:                               inf\n",
       "Df Residuals:                     490   BIC:                               inf\n",
       "Df Model:                          15                                         \n",
       "Covariance Type:            nonrobust                                         \n",
       "===============================================================================\n",
       "                  coef    std err          t      P>|t|      [0.025      0.975]\n",
       "-------------------------------------------------------------------------------\n",
       "const          -4.3925      5.299     -0.829      0.408     -14.805       6.020\n",
       "crime_rate     -0.0540      0.036     -1.494      0.136      -0.125       0.017\n",
       "resid_area     -0.0469      0.059     -0.794      0.427      -0.163       0.069\n",
       "air_qual      -22.5652      5.901     -3.824      0.000     -34.159     -10.971\n",
       "room_num        3.8084      0.432      8.808      0.000       2.959       4.658\n",
       "age            -0.0049      0.014     -0.349      0.728      -0.033       0.023\n",
       "dist1          -1.4530      1.863     -0.780      0.436      -5.113       2.207\n",
       "dist2           3.0674      2.034      1.508      0.132      -0.929       7.064\n",
       "dist3          -2.2341      1.971     -1.134      0.257      -6.106       1.638\n",
       "dist4          -0.7130      1.092     -0.653      0.514      -2.859       1.433\n",
       "teachers        1.0380      0.122      8.500      0.000       0.798       1.278\n",
       "poor_prop      -0.5324      0.052    -10.208      0.000      -0.635      -0.430\n",
       "n_hos_beds      0.4194      0.158      2.657      0.008       0.109       0.730\n",
       "n_hot_rooms     0.0452      0.041      1.095      0.274      -0.036       0.126\n",
       "rainfall        0.0240      0.019      1.281      0.201      -0.013       0.061\n",
       "parks          70.0057     54.062      1.295      0.196     -36.217     176.228\n",
       "==============================================================================\n",
       "Omnibus:                      220.152   Durbin-Watson:                   1.074\n",
       "Prob(Omnibus):                  0.000   Jarque-Bera (JB):             1274.035\n",
       "Skew:                           1.826   Prob(JB):                    2.22e-277\n",
       "Kurtosis:                       9.862   Cond. No.                     2.35e+04\n",
       "==============================================================================\n",
       "\n",
       "Warnings:\n",
       "[1] Standard Errors assume that the covariance matrix of the errors is correctly specified.\n",
       "[2] The condition number is large, 2.35e+04. This might indicate that there are\n",
       "strong multicollinearity or other numerical problems.\n",
       "\"\"\""
      ]
     },
     "execution_count": 20,
     "metadata": {},
     "output_type": "execute_result"
    }
   ],
   "source": [
    "# OLS is WLS with default weights=1\n",
    "build_wls = sm.WLS(dependent_var, sm.add_constant(independent_var), weights=np.random.randint(506, size=506))\n",
    "wls_result = build_wls.fit()\n",
    "wls_result.summary()"
   ]
  },
  {
   "cell_type": "markdown",
   "metadata": {},
   "source": [
    "# <center><font color=\"lime\"><u>Section 3</u><br>GENERALIZED LEAST SQUARES (GLS)</font></center>"
   ]
  },
  {
   "cell_type": "markdown",
   "metadata": {},
   "source": [
    "**Using STATSMODELS.API**\n",
    "<br>Click [here](https://www.statsmodels.org/stable/generated/statsmodels.regression.linear_model.GLS.html) for GLS documentation."
   ]
  },
  {
   "cell_type": "code",
   "execution_count": 21,
   "metadata": {
    "scrolled": true
   },
   "outputs": [
    {
     "data": {
      "text/html": [
       "<table class=\"simpletable\">\n",
       "<caption>WLS Regression Results</caption>\n",
       "<tr>\n",
       "  <th>Dep. Variable:</th>          <td>price</td>      <th>  R-squared:         </th> <td>   0.706</td> \n",
       "</tr>\n",
       "<tr>\n",
       "  <th>Model:</th>                   <td>WLS</td>       <th>  Adj. R-squared:    </th> <td>   0.697</td> \n",
       "</tr>\n",
       "<tr>\n",
       "  <th>Method:</th>             <td>Least Squares</td>  <th>  F-statistic:       </th> <td>   78.42</td> \n",
       "</tr>\n",
       "<tr>\n",
       "  <th>Date:</th>             <td>Fri, 29 May 2020</td> <th>  Prob (F-statistic):</th> <td>1.24e-119</td>\n",
       "</tr>\n",
       "<tr>\n",
       "  <th>Time:</th>                 <td>09:48:53</td>     <th>  Log-Likelihood:    </th> <td>    -inf</td> \n",
       "</tr>\n",
       "<tr>\n",
       "  <th>No. Observations:</th>      <td>   506</td>      <th>  AIC:               </th> <td>     inf</td> \n",
       "</tr>\n",
       "<tr>\n",
       "  <th>Df Residuals:</th>          <td>   490</td>      <th>  BIC:               </th> <td>     inf</td> \n",
       "</tr>\n",
       "<tr>\n",
       "  <th>Df Model:</th>              <td>    15</td>      <th>                     </th>     <td> </td>    \n",
       "</tr>\n",
       "<tr>\n",
       "  <th>Covariance Type:</th>      <td>nonrobust</td>    <th>                     </th>     <td> </td>    \n",
       "</tr>\n",
       "</table>\n",
       "<table class=\"simpletable\">\n",
       "<tr>\n",
       "       <td></td>          <th>coef</th>     <th>std err</th>      <th>t</th>      <th>P>|t|</th>  <th>[0.025</th>    <th>0.975]</th>  \n",
       "</tr>\n",
       "<tr>\n",
       "  <th>const</th>       <td>   -4.3925</td> <td>    5.299</td> <td>   -0.829</td> <td> 0.408</td> <td>  -14.805</td> <td>    6.020</td>\n",
       "</tr>\n",
       "<tr>\n",
       "  <th>crime_rate</th>  <td>   -0.0540</td> <td>    0.036</td> <td>   -1.494</td> <td> 0.136</td> <td>   -0.125</td> <td>    0.017</td>\n",
       "</tr>\n",
       "<tr>\n",
       "  <th>resid_area</th>  <td>   -0.0469</td> <td>    0.059</td> <td>   -0.794</td> <td> 0.427</td> <td>   -0.163</td> <td>    0.069</td>\n",
       "</tr>\n",
       "<tr>\n",
       "  <th>air_qual</th>    <td>  -22.5652</td> <td>    5.901</td> <td>   -3.824</td> <td> 0.000</td> <td>  -34.159</td> <td>  -10.971</td>\n",
       "</tr>\n",
       "<tr>\n",
       "  <th>room_num</th>    <td>    3.8084</td> <td>    0.432</td> <td>    8.808</td> <td> 0.000</td> <td>    2.959</td> <td>    4.658</td>\n",
       "</tr>\n",
       "<tr>\n",
       "  <th>age</th>         <td>   -0.0049</td> <td>    0.014</td> <td>   -0.349</td> <td> 0.728</td> <td>   -0.033</td> <td>    0.023</td>\n",
       "</tr>\n",
       "<tr>\n",
       "  <th>dist1</th>       <td>   -1.4530</td> <td>    1.863</td> <td>   -0.780</td> <td> 0.436</td> <td>   -5.113</td> <td>    2.207</td>\n",
       "</tr>\n",
       "<tr>\n",
       "  <th>dist2</th>       <td>    3.0674</td> <td>    2.034</td> <td>    1.508</td> <td> 0.132</td> <td>   -0.929</td> <td>    7.064</td>\n",
       "</tr>\n",
       "<tr>\n",
       "  <th>dist3</th>       <td>   -2.2341</td> <td>    1.971</td> <td>   -1.134</td> <td> 0.257</td> <td>   -6.106</td> <td>    1.638</td>\n",
       "</tr>\n",
       "<tr>\n",
       "  <th>dist4</th>       <td>   -0.7130</td> <td>    1.092</td> <td>   -0.653</td> <td> 0.514</td> <td>   -2.859</td> <td>    1.433</td>\n",
       "</tr>\n",
       "<tr>\n",
       "  <th>teachers</th>    <td>    1.0380</td> <td>    0.122</td> <td>    8.500</td> <td> 0.000</td> <td>    0.798</td> <td>    1.278</td>\n",
       "</tr>\n",
       "<tr>\n",
       "  <th>poor_prop</th>   <td>   -0.5324</td> <td>    0.052</td> <td>  -10.208</td> <td> 0.000</td> <td>   -0.635</td> <td>   -0.430</td>\n",
       "</tr>\n",
       "<tr>\n",
       "  <th>n_hos_beds</th>  <td>    0.4194</td> <td>    0.158</td> <td>    2.657</td> <td> 0.008</td> <td>    0.109</td> <td>    0.730</td>\n",
       "</tr>\n",
       "<tr>\n",
       "  <th>n_hot_rooms</th> <td>    0.0452</td> <td>    0.041</td> <td>    1.095</td> <td> 0.274</td> <td>   -0.036</td> <td>    0.126</td>\n",
       "</tr>\n",
       "<tr>\n",
       "  <th>rainfall</th>    <td>    0.0240</td> <td>    0.019</td> <td>    1.281</td> <td> 0.201</td> <td>   -0.013</td> <td>    0.061</td>\n",
       "</tr>\n",
       "<tr>\n",
       "  <th>parks</th>       <td>   70.0057</td> <td>   54.062</td> <td>    1.295</td> <td> 0.196</td> <td>  -36.217</td> <td>  176.228</td>\n",
       "</tr>\n",
       "</table>\n",
       "<table class=\"simpletable\">\n",
       "<tr>\n",
       "  <th>Omnibus:</th>       <td>220.152</td> <th>  Durbin-Watson:     </th> <td>   1.074</td> \n",
       "</tr>\n",
       "<tr>\n",
       "  <th>Prob(Omnibus):</th> <td> 0.000</td>  <th>  Jarque-Bera (JB):  </th> <td>1274.035</td> \n",
       "</tr>\n",
       "<tr>\n",
       "  <th>Skew:</th>          <td> 1.826</td>  <th>  Prob(JB):          </th> <td>2.22e-277</td>\n",
       "</tr>\n",
       "<tr>\n",
       "  <th>Kurtosis:</th>      <td> 9.862</td>  <th>  Cond. No.          </th> <td>2.35e+04</td> \n",
       "</tr>\n",
       "</table><br/><br/>Warnings:<br/>[1] Standard Errors assume that the covariance matrix of the errors is correctly specified.<br/>[2] The condition number is large, 2.35e+04. This might indicate that there are<br/>strong multicollinearity or other numerical problems."
      ],
      "text/plain": [
       "<class 'statsmodels.iolib.summary.Summary'>\n",
       "\"\"\"\n",
       "                            WLS Regression Results                            \n",
       "==============================================================================\n",
       "Dep. Variable:                  price   R-squared:                       0.706\n",
       "Model:                            WLS   Adj. R-squared:                  0.697\n",
       "Method:                 Least Squares   F-statistic:                     78.42\n",
       "Date:                Fri, 29 May 2020   Prob (F-statistic):          1.24e-119\n",
       "Time:                        09:48:53   Log-Likelihood:                   -inf\n",
       "No. Observations:                 506   AIC:                               inf\n",
       "Df Residuals:                     490   BIC:                               inf\n",
       "Df Model:                          15                                         \n",
       "Covariance Type:            nonrobust                                         \n",
       "===============================================================================\n",
       "                  coef    std err          t      P>|t|      [0.025      0.975]\n",
       "-------------------------------------------------------------------------------\n",
       "const          -4.3925      5.299     -0.829      0.408     -14.805       6.020\n",
       "crime_rate     -0.0540      0.036     -1.494      0.136      -0.125       0.017\n",
       "resid_area     -0.0469      0.059     -0.794      0.427      -0.163       0.069\n",
       "air_qual      -22.5652      5.901     -3.824      0.000     -34.159     -10.971\n",
       "room_num        3.8084      0.432      8.808      0.000       2.959       4.658\n",
       "age            -0.0049      0.014     -0.349      0.728      -0.033       0.023\n",
       "dist1          -1.4530      1.863     -0.780      0.436      -5.113       2.207\n",
       "dist2           3.0674      2.034      1.508      0.132      -0.929       7.064\n",
       "dist3          -2.2341      1.971     -1.134      0.257      -6.106       1.638\n",
       "dist4          -0.7130      1.092     -0.653      0.514      -2.859       1.433\n",
       "teachers        1.0380      0.122      8.500      0.000       0.798       1.278\n",
       "poor_prop      -0.5324      0.052    -10.208      0.000      -0.635      -0.430\n",
       "n_hos_beds      0.4194      0.158      2.657      0.008       0.109       0.730\n",
       "n_hot_rooms     0.0452      0.041      1.095      0.274      -0.036       0.126\n",
       "rainfall        0.0240      0.019      1.281      0.201      -0.013       0.061\n",
       "parks          70.0057     54.062      1.295      0.196     -36.217     176.228\n",
       "==============================================================================\n",
       "Omnibus:                      220.152   Durbin-Watson:                   1.074\n",
       "Prob(Omnibus):                  0.000   Jarque-Bera (JB):             1274.035\n",
       "Skew:                           1.826   Prob(JB):                    2.22e-277\n",
       "Kurtosis:                       9.862   Cond. No.                     2.35e+04\n",
       "==============================================================================\n",
       "\n",
       "Warnings:\n",
       "[1] Standard Errors assume that the covariance matrix of the errors is correctly specified.\n",
       "[2] The condition number is large, 2.35e+04. This might indicate that there are\n",
       "strong multicollinearity or other numerical problems.\n",
       "\"\"\""
      ]
     },
     "execution_count": 21,
     "metadata": {},
     "output_type": "execute_result"
    }
   ],
   "source": [
    "# GLS is used when the assumptions required by the OLS method (homoscedacity and nonautocorrelation) are not fulfilled\n",
    "build_gls = sm.GLS(dependent_var, sm.add_constant(independent_var))\n",
    "gls_result = build_wls.fit()\n",
    "gls_result.summary()"
   ]
  }
 ],
 "metadata": {
  "kernelspec": {
   "display_name": "Python 3",
   "language": "python",
   "name": "python3"
  },
  "language_info": {
   "codemirror_mode": {
    "name": "ipython",
    "version": 3
   },
   "file_extension": ".py",
   "mimetype": "text/x-python",
   "name": "python",
   "nbconvert_exporter": "python",
   "pygments_lexer": "ipython3",
   "version": "3.7.1"
  }
 },
 "nbformat": 4,
 "nbformat_minor": 2
}
